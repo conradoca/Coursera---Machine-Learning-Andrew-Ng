{
 "cells": [
  {
   "cell_type": "markdown",
   "id": "4f1cce56-2c81-4ad3-9437-097dea9e2099",
   "metadata": {},
   "source": [
    "# Programming Exercise 2: Logistic Regression with regularization"
   ]
  },
  {
   "cell_type": "markdown",
   "id": "622d1e59-ccc4-41fc-be71-d9851edd083c",
   "metadata": {},
   "source": [
    "## Regularized Logistic Regression"
   ]
  },
  {
   "cell_type": "code",
   "execution_count": 1,
   "id": "806eb95f-1d37-4aa0-afd8-b812849743e9",
   "metadata": {},
   "outputs": [],
   "source": [
    "# Importing the needed libraries\n",
    "import pandas as pd\n",
    "import numpy as np\n",
    "import matplotlib.pyplot as plt\n",
    "from logisticRegression import *\n",
    "\n",
    "# Optimization module in scipy\n",
    "from scipy import optimize\n",
    "\n",
    "# tells matplotlib to embed plots within the notebook\n",
    "%matplotlib inline"
   ]
  },
  {
   "cell_type": "code",
   "execution_count": 2,
   "id": "2f5ad71d-07d4-48b7-b90b-c381cac90faf",
   "metadata": {},
   "outputs": [
    {
     "data": {
      "text/html": [
       "<div>\n",
       "<style scoped>\n",
       "    .dataframe tbody tr th:only-of-type {\n",
       "        vertical-align: middle;\n",
       "    }\n",
       "\n",
       "    .dataframe tbody tr th {\n",
       "        vertical-align: top;\n",
       "    }\n",
       "\n",
       "    .dataframe thead th {\n",
       "        text-align: right;\n",
       "    }\n",
       "</style>\n",
       "<table border=\"1\" class=\"dataframe\">\n",
       "  <thead>\n",
       "    <tr style=\"text-align: right;\">\n",
       "      <th></th>\n",
       "      <th>0</th>\n",
       "      <th>1</th>\n",
       "      <th>2</th>\n",
       "    </tr>\n",
       "  </thead>\n",
       "  <tbody>\n",
       "    <tr>\n",
       "      <th>0</th>\n",
       "      <td>0.051267</td>\n",
       "      <td>0.69956</td>\n",
       "      <td>1</td>\n",
       "    </tr>\n",
       "    <tr>\n",
       "      <th>1</th>\n",
       "      <td>-0.092742</td>\n",
       "      <td>0.68494</td>\n",
       "      <td>1</td>\n",
       "    </tr>\n",
       "    <tr>\n",
       "      <th>2</th>\n",
       "      <td>-0.213710</td>\n",
       "      <td>0.69225</td>\n",
       "      <td>1</td>\n",
       "    </tr>\n",
       "    <tr>\n",
       "      <th>3</th>\n",
       "      <td>-0.375000</td>\n",
       "      <td>0.50219</td>\n",
       "      <td>1</td>\n",
       "    </tr>\n",
       "    <tr>\n",
       "      <th>4</th>\n",
       "      <td>-0.513250</td>\n",
       "      <td>0.46564</td>\n",
       "      <td>1</td>\n",
       "    </tr>\n",
       "  </tbody>\n",
       "</table>\n",
       "</div>"
      ],
      "text/plain": [
       "          0        1  2\n",
       "0  0.051267  0.69956  1\n",
       "1 -0.092742  0.68494  1\n",
       "2 -0.213710  0.69225  1\n",
       "3 -0.375000  0.50219  1\n",
       "4 -0.513250  0.46564  1"
      ]
     },
     "execution_count": 2,
     "metadata": {},
     "output_type": "execute_result"
    }
   ],
   "source": [
    "# header=None as the imported data has no header. Otherwise Pandas considers the first row of data as the header\n",
    "data = pd.read_csv('ex2data2.txt', header=None)\n",
    "\n",
    "data.head()"
   ]
  },
  {
   "cell_type": "code",
   "execution_count": 3,
   "id": "5a32b137-6796-4afa-8840-b1202f34d627",
   "metadata": {},
   "outputs": [
    {
     "data": {
      "text/html": [
       "<div>\n",
       "<style scoped>\n",
       "    .dataframe tbody tr th:only-of-type {\n",
       "        vertical-align: middle;\n",
       "    }\n",
       "\n",
       "    .dataframe tbody tr th {\n",
       "        vertical-align: top;\n",
       "    }\n",
       "\n",
       "    .dataframe thead th {\n",
       "        text-align: right;\n",
       "    }\n",
       "</style>\n",
       "<table border=\"1\" class=\"dataframe\">\n",
       "  <thead>\n",
       "    <tr style=\"text-align: right;\">\n",
       "      <th></th>\n",
       "      <th>0</th>\n",
       "      <th>1</th>\n",
       "      <th>2</th>\n",
       "    </tr>\n",
       "  </thead>\n",
       "  <tbody>\n",
       "    <tr>\n",
       "      <th>count</th>\n",
       "      <td>118.000000</td>\n",
       "      <td>118.000000</td>\n",
       "      <td>118.000000</td>\n",
       "    </tr>\n",
       "    <tr>\n",
       "      <th>mean</th>\n",
       "      <td>0.054779</td>\n",
       "      <td>0.183102</td>\n",
       "      <td>0.491525</td>\n",
       "    </tr>\n",
       "    <tr>\n",
       "      <th>std</th>\n",
       "      <td>0.496654</td>\n",
       "      <td>0.519743</td>\n",
       "      <td>0.502060</td>\n",
       "    </tr>\n",
       "    <tr>\n",
       "      <th>min</th>\n",
       "      <td>-0.830070</td>\n",
       "      <td>-0.769740</td>\n",
       "      <td>0.000000</td>\n",
       "    </tr>\n",
       "    <tr>\n",
       "      <th>25%</th>\n",
       "      <td>-0.372120</td>\n",
       "      <td>-0.254385</td>\n",
       "      <td>0.000000</td>\n",
       "    </tr>\n",
       "    <tr>\n",
       "      <th>50%</th>\n",
       "      <td>-0.006336</td>\n",
       "      <td>0.213455</td>\n",
       "      <td>0.000000</td>\n",
       "    </tr>\n",
       "    <tr>\n",
       "      <th>75%</th>\n",
       "      <td>0.478970</td>\n",
       "      <td>0.646563</td>\n",
       "      <td>1.000000</td>\n",
       "    </tr>\n",
       "    <tr>\n",
       "      <th>max</th>\n",
       "      <td>1.070900</td>\n",
       "      <td>1.108900</td>\n",
       "      <td>1.000000</td>\n",
       "    </tr>\n",
       "  </tbody>\n",
       "</table>\n",
       "</div>"
      ],
      "text/plain": [
       "                0           1           2\n",
       "count  118.000000  118.000000  118.000000\n",
       "mean     0.054779    0.183102    0.491525\n",
       "std      0.496654    0.519743    0.502060\n",
       "min     -0.830070   -0.769740    0.000000\n",
       "25%     -0.372120   -0.254385    0.000000\n",
       "50%     -0.006336    0.213455    0.000000\n",
       "75%      0.478970    0.646563    1.000000\n",
       "max      1.070900    1.108900    1.000000"
      ]
     },
     "execution_count": 3,
     "metadata": {},
     "output_type": "execute_result"
    }
   ],
   "source": [
    "data.describe()\n",
    "# data.describe - with no () gives results in a different format"
   ]
  },
  {
   "cell_type": "code",
   "execution_count": 4,
   "id": "5ef3cfea-aae8-48d8-b70e-5cbf15aac2c9",
   "metadata": {},
   "outputs": [],
   "source": [
    "# Convert the data into a numpy array\n",
    "X = data.iloc[:,:-1].to_numpy()\n",
    "\n",
    "# I am not totally sure why I have to put the [] on [-1]. On this way I have a list of vectors also on y\n",
    "y = data.iloc[:,[-1]].to_numpy()"
   ]
  },
  {
   "cell_type": "code",
   "execution_count": 5,
   "id": "56201924-c7d5-43ab-8de8-d1001ffd4a03",
   "metadata": {},
   "outputs": [
    {
     "data": {
      "text/plain": [
       "<matplotlib.legend.Legend at 0x1d472b7f160>"
      ]
     },
     "execution_count": 5,
     "metadata": {},
     "output_type": "execute_result"
    },
    {
     "data": {
      "image/png": "[encoded data removed]",
      "text/plain": [
       "<Figure size 432x288 with 1 Axes>"
      ]
     },
     "metadata": {
      "needs_background": "light"
     },
     "output_type": "display_data"
    }
   ],
   "source": [
    "# Plotting the data\n",
    "acpt  = X[y.flatten() == 1]\n",
    "rjct = X[y.flatten() == 0]\n",
    "plt.plot(acpt[:, 0], acpt[:, 1], 'k+', lw=2, ms=10)\n",
    "plt.plot(rjct[:, 0], rjct[:, 1], 'ko', mfc='y', ms=8, mec='k', mew=1)\n",
    "\n",
    "plt.xlabel('Microchip Test 1')\n",
    "plt.ylabel('Microchip Test 2')\n",
    "plt.legend(['Accepted', 'Rejected'])"
   ]
  },
  {
   "cell_type": "code",
   "execution_count": 6,
   "id": "4b0aa41d-3211-4c29-9408-bf31bd9e0768",
   "metadata": {},
   "outputs": [],
   "source": [
    "# Note that mapFeature already adds the ones column for us\n",
    "X = mapFeature(X[:,0], X[:,1], 6)"
   ]
  },
  {
   "cell_type": "code",
   "execution_count": 7,
   "id": "4a5626eb-87d3-4cd3-8fb5-7d6af80d94a4",
   "metadata": {},
   "outputs": [],
   "source": [
    "# Setting regularization parameter lambda=1\n",
    "lmbd = 1\n",
    "\n",
    "# m = number of training examples\n",
    "# n = number of features\n",
    "(m,n) = X.shape\n",
    "\n",
    "# Initializa theta as 0s\n",
    "initial_theta = np.zeros((n, 1))"
   ]
  },
  {
   "cell_type": "code",
   "execution_count": 8,
   "id": "a3ab611b-52ed-4218-ae75-62834a563bd3",
   "metadata": {},
   "outputs": [
    {
     "name": "stdout",
     "output_type": "stream",
     "text": [
      "Cost at initial theta (zeros):\n",
      " [[0.69314718]]\n",
      "Expected cost (approx): 0.693\n",
      "\n",
      "Gradient at initial theta (zeros) - first five values only:\n",
      "\n",
      "[[ 0.0085]\n",
      " [ 0.0188]\n",
      " [ 0.0001]\n",
      " [ 0.0503]\n",
      " [ 0.0115]]\n",
      "Expected gradients (approx) - first five values only:\n",
      "\n",
      " 0.0085\n",
      " 0.0188\n",
      " 0.0001\n",
      " 0.0503\n",
      " 0.0115\n",
      "\n"
     ]
    }
   ],
   "source": [
    "cost, grad = costFunction(initial_theta, X, y, lmbd)\n",
    "\n",
    "print('Cost at initial theta (zeros):\\n', cost)\n",
    "print('Expected cost (approx): 0.693\\n')\n",
    "print('Gradient at initial theta (zeros) - first five values only:\\n')\n",
    "np.set_printoptions(formatter={'float': '{: 0.4f}'.format})\n",
    "print(grad[0:5])\n",
    "print('Expected gradients (approx) - first five values only:\\n')\n",
    "print(' 0.0085\\n 0.0188\\n 0.0001\\n 0.0503\\n 0.0115\\n')"
   ]
  },
  {
   "cell_type": "code",
   "execution_count": 9,
   "id": "e587edc8-a5d9-4b0b-92ab-37906a0fb473",
   "metadata": {},
   "outputs": [
    {
     "name": "stdout",
     "output_type": "stream",
     "text": [
      "\n",
      "Cost at test theta (with lambda = 10):\n",
      " [[ 3.1645]]\n",
      "Expected cost (approx): 3.16\n",
      "\n",
      "Gradient at test theta - first five values only:\n",
      "\n",
      "[[ 0.3460]\n",
      " [ 0.1614]\n",
      " [ 0.1948]\n",
      " [ 0.2269]\n",
      " [ 0.0922]]\n",
      "Expected gradients (approx) - first five values only:\n",
      "\n",
      " 0.3460\n",
      " 0.1614\n",
      " 0.1948\n",
      " 0.2269\n",
      " 0.0922\n",
      "\n"
     ]
    }
   ],
   "source": [
    "test_theta = np.ones((n, 1))\n",
    "# Setting regularization parameter lambda=10\n",
    "lmbd = 10\n",
    "cost, grad = costFunction(test_theta, X, y, lmbd);\n",
    "print('\\nCost at test theta (with lambda = 10):\\n', cost)\n",
    "print('Expected cost (approx): 3.16\\n')\n",
    "print('Gradient at test theta - first five values only:\\n')\n",
    "np.set_printoptions(formatter={'float': '{: 0.4f}'.format})\n",
    "print(grad[0:5])\n",
    "print('Expected gradients (approx) - first five values only:\\n')\n",
    "print(' 0.3460\\n 0.1614\\n 0.1948\\n 0.2269\\n 0.0922\\n')"
   ]
  },
  {
   "cell_type": "markdown",
   "id": "196912e8-ba15-4ca1-9830-c89ba2dfa55f",
   "metadata": {},
   "source": [
    "## Regularization and Accuracy\n",
    "### Regularization $\\lambda$ = 1"
   ]
  },
  {
   "cell_type": "code",
   "execution_count": 27,
   "id": "10be6b46-857b-47ad-8daf-80d77863dbd9",
   "metadata": {},
   "outputs": [],
   "source": [
    "# Setting regularization parameter lambda=1\n",
    "lmbd = 1\n",
    "\n",
    "\n",
    "# Initializa theta as 0s\n",
    "initial_theta = np.zeros((n, 1))"
   ]
  },
  {
   "cell_type": "code",
   "execution_count": 28,
   "id": "34c7da95-07af-4023-88cc-bf559dd4ad4e",
   "metadata": {},
   "outputs": [
    {
     "name": "stdout",
     "output_type": "stream",
     "text": [
      "Cost at theta found by optimize.minimize: 0.529\n",
      "theta:\n",
      "\t[1.273, 0.625, 1.181]\n"
     ]
    }
   ],
   "source": [
    "# set options for optimize.minimize\n",
    "options= {'maxiter': 400}\n",
    "\n",
    "# The function returns an object `OptimizeResult`\n",
    "# We use truncated Newton algorithm for optimization which is \n",
    "# equivalent to MATLAB's fminunc\n",
    "# See https://stackoverflow.com/questions/18801002/fminunc-alternate-in-numpy\n",
    "res = optimize.minimize(costFunction,\n",
    "                        initial_theta.flatten(),\n",
    "                        (X, y.flatten(), lmbd),\n",
    "                        jac=True,\n",
    "                        method='TNC',\n",
    "                        options=options)\n",
    "\n",
    "# the fun property of `OptimizeResult` object returns\n",
    "# the value of costFunction at optimized theta\n",
    "cost = res.fun\n",
    "\n",
    "# the optimized theta is in the x property\n",
    "theta = res.x\n",
    "\n",
    "# Print theta to screen\n",
    "print('Cost at theta found by optimize.minimize: {:.3f}'.format(cost))\n",
    "\n",
    "print('theta:')\n",
    "print('\\t[{:.3f}, {:.3f}, {:.3f}]'.format(*theta))"
   ]
  },
  {
   "cell_type": "markdown",
   "id": "c19909ee-a498-44f2-96df-ef1684568c09",
   "metadata": {},
   "source": [
    "#### Prediction's accuracy"
   ]
  },
  {
   "cell_type": "code",
   "execution_count": 44,
   "id": "519f0323-e9c0-47fd-9429-506408007c6a",
   "metadata": {},
   "outputs": [
    {
     "name": "stdout",
     "output_type": "stream",
     "text": [
      "Train accuracy: 83.1\n",
      "\n",
      "Expected accuracy (with lambda = 1): 83.1 (approx)\n",
      "\n"
     ]
    }
   ],
   "source": [
    "p=predict(theta, X)\n",
    "accuracy = np.mean (p == y.flatten())\n",
    "print('Train accuracy: {:.1f}'.format(accuracy*100))\n",
    "\n",
    "print('\\nExpected accuracy (with lambda = 1): 83.1 (approx)\\n')"
   ]
  },
  {
   "cell_type": "markdown",
   "id": "e6979f38-8ea0-4b06-8ad8-4e54b63bcbe8",
   "metadata": {},
   "source": [
    "#### Plotting the decision boundary"
   ]
  },
  {
   "cell_type": "markdown",
   "id": "1e85930e-17c3-46a4-8ad4-107adf9904c2",
   "metadata": {},
   "source": [
    "In this case we don't have a linear decision boundary. We will plot the decision boundary computing the classifier predictions on an evenly spaced grid and drew the contour point where it changes from y=0 to y=1"
   ]
  },
  {
   "cell_type": "code",
   "execution_count": 30,
   "id": "865a325c-748b-40a0-a370-5757fdedc756",
   "metadata": {},
   "outputs": [],
   "source": [
    "u = np.linspace(-1, 1.5, 50)\n",
    "v = np.linspace(-1, 1.5, 50)\n",
    "z = np.zeros((len(u), len(v)))\n",
    "\n",
    "for i in range(len(u)):\n",
    "    for j in range(len(v)):\n",
    "        z[i,j]=np.dot(mapFeatureForPlotting(u[i],v[j],6), theta)"
   ]
  },
  {
   "cell_type": "code",
   "execution_count": 40,
   "id": "7d1ad5cc-2595-44a9-a033-211c4083554d",
   "metadata": {},
   "outputs": [
    {
     "data": {
      "text/plain": [
       "Text(0.5, 1.0, 'Training data with decision boundary ($\\\\lambda$=1)')"
      ]
     },
     "execution_count": 40,
     "metadata": {},
     "output_type": "execute_result"
    },
    {
     "data": {
      "image/png": "[encoded data removed]",
      "text/plain": [
       "<Figure size 432x288 with 1 Axes>"
      ]
     },
     "metadata": {
      "needs_background": "light"
     },
     "output_type": "display_data"
    }
   ],
   "source": [
    "plt.contour(u,v,z,0)\n",
    "plt.plot(acpt[:, 0], acpt[:, 1], 'k+', lw=2, ms=10)\n",
    "plt.plot(rjct[:, 0], rjct[:, 1], 'ko', mfc='y', ms=8, mec='k', mew=1)\n",
    "\n",
    "plt.xlabel('Microchip Test 1')\n",
    "plt.ylabel('Microchip Test 2')\n",
    "plt.legend(['Accepted', 'Rejected'])\n",
    "plotTitle='Training data with decision boundary ($\\lambda$=' + str(lmbd) + ')'\n",
    "plt.title(plotTitle) "
   ]
  },
  {
   "cell_type": "markdown",
   "id": "d77d0edb-bccf-4c37-8141-0121396960c6",
   "metadata": {},
   "source": [
    "### Test changes in the regularization parameter $\\lambda$ "
   ]
  },
  {
   "cell_type": "code",
   "execution_count": 54,
   "id": "5a25c046-9c10-49db-b795-7137d6b98c6d",
   "metadata": {},
   "outputs": [
    {
     "name": "stdin",
     "output_type": "stream",
     "text": [
      "Please enter a regularization value (lambda): 100\n"
     ]
    }
   ],
   "source": [
    "# Setting regularization parameter lambda=0\n",
    "lmbd = int(input('Please enter a regularization value (lambda):'))"
   ]
  },
  {
   "cell_type": "code",
   "execution_count": 55,
   "id": "c3693629-0c1b-468b-bfc2-598117d29c33",
   "metadata": {},
   "outputs": [
    {
     "name": "stdout",
     "output_type": "stream",
     "text": [
      "Cost at theta found by optimize.minimize: 0.686\n",
      "theta:\n",
      "\t[0.022, -0.017, 0.006]\n",
      "Train accuracy: 61.0\n"
     ]
    },
    {
     "data": {
      "text/plain": [
       "Text(0.5, 1.0, 'Training data with decision boundary ($\\\\lambda$=100)')"
      ]
     },
     "execution_count": 55,
     "metadata": {},
     "output_type": "execute_result"
    },
    {
     "data": {
      "image/png": "[encoded data removed]",
      "text/plain": [
       "<Figure size 432x288 with 1 Axes>"
      ]
     },
     "metadata": {
      "needs_background": "light"
     },
     "output_type": "display_data"
    }
   ],
   "source": [
    "\n",
    "\n",
    "# Initializa theta as 0s\n",
    "initial_theta = np.zeros((n, 1))\n",
    "\n",
    "# set options for optimize.minimize\n",
    "options= {'maxiter': 400}\n",
    "\n",
    "# The function returns an object `OptimizeResult`\n",
    "# We use truncated Newton algorithm for optimization which is \n",
    "# equivalent to MATLAB's fminunc\n",
    "# See https://stackoverflow.com/questions/18801002/fminunc-alternate-in-numpy\n",
    "res = optimize.minimize(costFunction,\n",
    "                        initial_theta.flatten(),\n",
    "                        (X, y.flatten(), lmbd),\n",
    "                        jac=True,\n",
    "                        method='TNC',\n",
    "                        options=options)\n",
    "\n",
    "# the fun property of `OptimizeResult` object returns\n",
    "# the value of costFunction at optimized theta\n",
    "cost = res.fun\n",
    "\n",
    "# the optimized theta is in the x property\n",
    "theta = res.x\n",
    "\n",
    "# Print theta to screen\n",
    "print('Cost at theta found by optimize.minimize: {:.3f}'.format(cost))\n",
    "\n",
    "print('theta:')\n",
    "print('\\t[{:.3f}, {:.3f}, {:.3f}]'.format(*theta))\n",
    "\n",
    "# Accuracy\n",
    "p=predict(theta, X)\n",
    "accuracy = np.mean (p == y.flatten())\n",
    "print('Train accuracy: {:.1f}'.format(accuracy*100))\n",
    "\n",
    "# Plotting decision boundary with the given lambda\n",
    "u = np.linspace(-1, 1.5, 50)\n",
    "v = np.linspace(-1, 1.5, 50)\n",
    "z = np.zeros((len(u), len(v)))\n",
    "\n",
    "for i in range(len(u)):\n",
    "    for j in range(len(v)):\n",
    "        z[i,j]=np.dot(mapFeatureForPlotting(u[i],v[j],6), theta)\n",
    "\n",
    "plt.contour(u,v,z,0)\n",
    "plt.plot(acpt[:, 0], acpt[:, 1], 'k+', lw=2, ms=10)\n",
    "plt.plot(rjct[:, 0], rjct[:, 1], 'ko', mfc='y', ms=8, mec='k', mew=1)\n",
    "\n",
    "plt.xlabel('Microchip Test 1')\n",
    "plt.ylabel('Microchip Test 2')\n",
    "plt.legend(['Accepted', 'Rejected'])\n",
    "plotTitle='Training data with decision boundary ($\\lambda$=' + str(lmbd) + ')'\n",
    "plt.title(plotTitle)\n"
   ]
  },
  {
   "cell_type": "markdown",
   "id": "2947b1bd-4f4a-4beb-9890-6250d5ffe9fc",
   "metadata": {},
   "source": []
  }
 ],
 "metadata": {
  "kernelspec": {
   "display_name": "Python 3 (ipykernel)",
   "language": "python",
   "name": "python3"
  },
  "language_info": {
   "codemirror_mode": {
    "name": "ipython",
    "version": 3
   },
   "file_extension": ".py",
   "mimetype": "text/x-python",
   "name": "python",
   "nbconvert_exporter": "python",
   "pygments_lexer": "ipython3",
   "version": "3.10.1"
  }
 },
 "nbformat": 4,
 "nbformat_minor": 5
}
