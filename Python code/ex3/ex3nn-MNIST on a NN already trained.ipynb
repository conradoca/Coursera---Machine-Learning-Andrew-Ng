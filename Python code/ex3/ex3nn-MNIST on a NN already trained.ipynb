{
 "cells": [
  {
   "cell_type": "markdown",
   "id": "1af3a080",
   "metadata": {},
   "source": [
    "# Programming Exercise 3nn: MNIST on a neural network already trained"
   ]
  },
  {
   "cell_type": "markdown",
   "id": "f56d38e8",
   "metadata": {},
   "source": [
    "In this exercise we're using an already trained NN to identify characters from the MNIST database to experiment with feedforward propagation algorithm."
   ]
  },
  {
   "cell_type": "code",
   "execution_count": 16,
   "id": "696a8bce",
   "metadata": {},
   "outputs": [],
   "source": [
    "# Importing the needed libraries\n",
    "# import pandas as pd\n",
    "import numpy as np\n",
    "import matplotlib.pyplot as plt\n",
    "\n",
    "# Optimization module in scipy\n",
    "#from scipy import optimize\n",
    "\n",
    "# We'll use loadmap to load the matlab dataset\n",
    "from scipy.io import loadmat\n",
    "\n",
    "# tells matplotlib to embed plots within the notebook\n",
    "%matplotlib inline"
   ]
  },
  {
   "cell_type": "code",
   "execution_count": 17,
   "id": "2acb63e4",
   "metadata": {},
   "outputs": [],
   "source": [
    "# Computing the sigmoid function\n",
    "# It only works with x being an array.\n",
    "# you can convert any value or Python's list to an array using numpy.array(list)\n",
    "def sigmoid(x):\n",
    "    z = np.exp(-x)\n",
    "    g = (1/(1+z))\n",
    "    return g\n",
    "\n",
    "\n",
    "# Feedforward propagation algorithm\n",
    "# Generic function that can work with any shape of NN\n",
    "# Theta = an array that contains the Theta[i] arrays for the various layers i\n",
    "# nnDef = NN definition. Vector that defines the number of nodes per each layer\n",
    "# Predict the label of an input given a trained neural network\n",
    "# p outputs the predicted label of X given the trained weights of a neural network (Theta)\n",
    "# Pred outputs the array with the probabilities for being each value\n",
    "def feedForwardPropagation(Theta, X, nnDef):\n",
    "    # Useful variables\n",
    "    (m, n) = X.shape                   # m = number of training examples, n = number of features\n",
    "    num_labels = nnDef[-1]             # Output Layer units\n",
    "    num_layers = nnDef.size            # Number of layers including the Input Layer\n",
    "    p = np.zeros((1, num_labels))       # Classification vector\n",
    "    Prob = np.zeros((m, num_labels))    # Matrix contaning all the probabilities per label\n",
    "    # layerActiv= Array containing the activation arrays\n",
    "    layerActiv = np.zeros((nnDef.size,), dtype=np.ndarray)\n",
    "\n",
    "    layerActiv[0] = X             # The activation for the Input layer is X\n",
    "\n",
    "    for i in range(num_layers-1):\n",
    "        # Add the bias unit to the activation\n",
    "        mLayer = layerActiv[i].shape[0]\n",
    "        layerActiv[i] = np.append(np.ones((mLayer, 1)), layerActiv[i], axis=1)\n",
    "        layerActiv[i+1] = sigmoid(np.dot(layerActiv[i], Theta[i].T))\n",
    "\n",
    "    Prob = layerActiv[-1]\n",
    "    p = np.argmax(layerActiv[-1], axis=1)\n",
    "\n",
    "    return Prob, p"
   ]
  },
  {
   "cell_type": "markdown",
   "id": "5afb4529",
   "metadata": {},
   "source": [
    "Defining the parameters for this exercise"
   ]
  },
  {
   "cell_type": "code",
   "execution_count": 18,
   "id": "0ef749d7",
   "metadata": {},
   "outputs": [],
   "source": [
    "input_layer_size  = 400  # 20x20 Input Images of Digits\n",
    "hidden_layer_size = 25   # 25 hidden units\n",
    "num_labels = 10          # 10 labels, from 0 to 9 - output layer\n",
    "\n",
    "# trying to represent the NN using an array.\n",
    "# nnDef.shape[0] = number of layers\n",
    "# nnDef[i] = number of neurons on layer i\n",
    "nnDef = np.array([input_layer_size, hidden_layer_size, num_labels])"
   ]
  },
  {
   "cell_type": "markdown",
   "id": "80ee007f-f1d4-4b79-83e5-81499713fce0",
   "metadata": {},
   "source": [
    "## Loading and parsing data from a Matlab file"
   ]
  },
  {
   "cell_type": "code",
   "execution_count": 19,
   "id": "f9ea7fc9-22cc-418c-a369-99dd4b2f821c",
   "metadata": {},
   "outputs": [],
   "source": [
    "# Loading all data on a dictonary\n",
    "data = loadmat('ex3data1.mat')\n",
    "\n",
    "# Convert the data into a numpy array\n",
    "X = data['X']\n",
    "y = data['y'].flatten()\n",
    "\n",
    "# m = number of training examples\n",
    "# n = number of features\n",
    "(m,n) = X.shape\n",
    "\n",
    "# note that X has mapped \"0\" to label 10 because Matlab arrays start on 1\n",
    "# We'll normalize the 10 value back to 0, so it matches the 0 digit\n",
    "y[y == 10] = 0"
   ]
  },
  {
   "cell_type": "markdown",
   "id": "b59dfcf2",
   "metadata": {},
   "source": [
    "## Load the weights into variables Theta1 and Theta2"
   ]
  },
  {
   "cell_type": "code",
   "execution_count": 20,
   "id": "29c8e0a5",
   "metadata": {},
   "outputs": [],
   "source": [
    "thetaMat = loadmat('ex3weights.mat')"
   ]
  },
  {
   "cell_type": "code",
   "execution_count": 21,
   "id": "5bc19b68",
   "metadata": {},
   "outputs": [],
   "source": [
    "Theta1 = thetaMat['Theta1']\n",
    "Theta2 = thetaMat['Theta2']\n",
    "\n",
    "# swap first and last columns of Theta2, due to legacy from MATLAB indexing, \n",
    "# since the weight file ex3weights.mat was saved based on MATLAB indexing\n",
    "# Explanation: 0 in MATLAB is represented by 10. \n",
    "# Therefore the theta for 10 in Matlab corresponds with 0 in Python\n",
    "Theta2 = np.roll(Theta2, 1, axis=0)\n",
    "\n",
    "# We create a Theta\n",
    "Theta = np.array([Theta1, Theta2], dtype=np.ndarray)"
   ]
  },
  {
   "cell_type": "markdown",
   "id": "7480aeab",
   "metadata": {},
   "source": [
    "Analizing the shape of <code>theta1</code> and <code>theta2</code> we see the coherence with the parameters defined for this exercise.\n",
    "* The Input Layer is made of 401 units (The images are 20x20 plus the bias unit = 401). The Hidden Layer is made of 25 nodes. Thus, <code>theta1</code> is (25, 401).\n",
    "* There is only one Hidden Layer. The Output Layer is made by 10 units (10 output labels) and it comes from 26 units (25 nodes from the Hidden Layer plus the bias unit)."
   ]
  },
  {
   "cell_type": "markdown",
   "id": "a3c71042",
   "metadata": {},
   "source": [
    "## Running feedforward propagation and prediction"
   ]
  },
  {
   "cell_type": "markdown",
   "id": "bb472bf6",
   "metadata": {},
   "source": [
    "We run feedforward propagation to make the prediction"
   ]
  },
  {
   "cell_type": "code",
   "execution_count": 22,
   "id": "8bfbff44",
   "metadata": {},
   "outputs": [],
   "source": [
    "Prob, pred = feedForwardPropagation(Theta, X, nnDef)"
   ]
  },
  {
   "cell_type": "code",
   "execution_count": 23,
   "id": "ce57e4b7",
   "metadata": {},
   "outputs": [
    {
     "name": "stdout",
     "output_type": "stream",
     "text": [
      "\n",
      "Training Set Accuracy: 97.52 %\n"
     ]
    }
   ],
   "source": [
    "print('\\nTraining Set Accuracy: {:.2f} %'.format(np.mean(pred == y) * 100))"
   ]
  },
  {
   "cell_type": "markdown",
   "id": "9e08aed2",
   "metadata": {},
   "source": [
    "## Seeing some examples to see what's predicting"
   ]
  },
  {
   "cell_type": "code",
   "execution_count": 24,
   "id": "68d29058",
   "metadata": {},
   "outputs": [],
   "source": [
    "# We determine how many case we want to see\n",
    "testCases = 10\n",
    "\n",
    "# We get a testCases random datapoints. First we get a number of testCases indices out of m\n",
    "rand_indices = np.random.choice(m, testCases, replace=False)\n",
    "\n",
    "# Second, we load these random vectors in the sel array\n",
    "selX = X[rand_indices, :]\n",
    "sely = y[rand_indices]\n",
    "selPred = pred[rand_indices]"
   ]
  },
  {
   "cell_type": "code",
   "execution_count": 25,
   "id": "b1d1a997",
   "metadata": {},
   "outputs": [],
   "source": [
    "# Creating the table data\n",
    "columns = ('Predicted', 'Actual')\n",
    "testData = ([[selPred[i], sely[i]] for i in range(testCases)])"
   ]
  },
  {
   "cell_type": "code",
   "execution_count": 26,
   "id": "ac3edf8f",
   "metadata": {},
   "outputs": [
    {
     "data": {
      "text/plain": [
       "<function matplotlib.pyplot.show(close=None, block=None)>"
      ]
     },
     "execution_count": 26,
     "metadata": {},
     "output_type": "execute_result"
    },
    {
     "data": {
      "image/png": "[encoded data removed]",
      "text/plain": [
       "<Figure size 432x288 with 30 Axes>"
      ]
     },
     "metadata": {
      "needs_background": "light"
     },
     "output_type": "display_data"
    }
   ],
   "source": [
    "fig = plt.figure()\n",
    "gs = fig.add_gridspec(testCases, 3, hspace=0, wspace=0)\n",
    "ax = gs.subplots(sharex='col', sharey='row')\n",
    "\n",
    "cols=['Image', 'Actual','Prediction']\n",
    "for i in range(testCases):\n",
    "    img = selX[i].reshape(20,20).T\n",
    "    ax[i, 0].imshow(img, cmap='Greys')\n",
    "    ax[i, 0].set_axis_off()\n",
    "    ax[i, 1].text(0.5, 0,sely[i], verticalalignment='bottom', horizontalalignment='right', fontsize=20, transform=ax[i, 1].transAxes)\n",
    "    ax[i, 1].set_xticks([])\n",
    "    ax[i, 1].set_yticks([])\n",
    "    ax[i, 1].spines['top'].set_visible(False)\n",
    "    ax[i, 1].spines['bottom'].set_visible(False)\n",
    "    ax[i, 1].spines['left'].set_visible(False)\n",
    "    ax[i, 1].spines['right'].set_visible(False)\n",
    "    ax[i, 2].text(1.5, 0,selPred[i], verticalalignment='bottom',horizontalalignment='right',fontsize=20, transform=ax[i, 1].transAxes)\n",
    "    ax[i, 2].spines['top'].set_visible(False)\n",
    "    ax[i, 2].spines['bottom'].set_visible(False)\n",
    "    ax[i, 2].spines['left'].set_visible(False)\n",
    "    ax[i, 2].spines['right'].set_visible(False)\n",
    "    ax[i, 2].set_xticks([])\n",
    "\n",
    "for axe, col in zip(ax[0], cols):\n",
    "    axe.set_title(col)\n",
    "\n",
    "fig.tight_layout()\n",
    "plt.show"
   ]
  }
 ],
 "metadata": {
  "kernelspec": {
   "display_name": "Python 3 (ipykernel)",
   "language": "python",
   "name": "python3"
  },
  "language_info": {
   "codemirror_mode": {
    "name": "ipython",
    "version": 3
   },
   "file_extension": ".py",
   "mimetype": "text/x-python",
   "name": "python",
   "nbconvert_exporter": "python",
   "pygments_lexer": "ipython3",
   "version": "3.10.1"
  }
 },
 "nbformat": 4,
 "nbformat_minor": 5
}
