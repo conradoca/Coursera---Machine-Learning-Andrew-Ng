{
 "cells": [
  {
   "cell_type": "markdown",
   "id": "284c5a00",
   "metadata": {},
   "source": [
    "# Programming Exercise 4: Neural Networks Learning"
   ]
  },
  {
   "cell_type": "code",
   "execution_count": 1,
   "id": "824a8232",
   "metadata": {},
   "outputs": [],
   "source": [
    "# Importing the needed libraries\n",
    "# import pandas as pd\n",
    "import numpy as np\n",
    "import matplotlib.pyplot as plt\n",
    "from neuralNetwork import *\n",
    "\n",
    "# Optimization module in scipy\n",
    "from scipy import optimize\n",
    "\n",
    "# We'll use loadmap to load the matlab dataset\n",
    "from scipy.io import loadmat\n",
    "\n",
    "# tells matplotlib to embed plots within the notebook\n",
    "%matplotlib inline"
   ]
  },
  {
   "cell_type": "code",
   "execution_count": 2,
   "id": "1628f269",
   "metadata": {},
   "outputs": [],
   "source": [
    "input_layer_size  = 400  # 20x20 Input Images of Digits\n",
    "hidden_layer_size = 25   # 25 hidden units\n",
    "num_labels = 10          # 10 labels, from 0 to 9 - output layer\n",
    "\n",
    "# trying to represent the NN using an array.\n",
    "# nnDef.shape[0] = number of layers\n",
    "# nnDef[i] = number of neurons on layer i\n",
    "nnDef = np.array([input_layer_size, hidden_layer_size, num_labels])"
   ]
  },
  {
   "cell_type": "code",
   "execution_count": 3,
   "id": "df10339e",
   "metadata": {},
   "outputs": [],
   "source": [
    "# Loading all data on a dictonary\n",
    "data = loadmat('ex4data1.mat')\n",
    "\n",
    "# Convert the data into a numpy array\n",
    "X = data['X']\n",
    "y = data['y'].flatten()\n",
    "\n",
    "# m = number of training examples\n",
    "# n = number of features\n",
    "(m,n) = X.shape\n",
    "\n",
    "# note that X has mapped \"0\" to label 10 because Matlab arrays start on 1\n",
    "# We'll normalize the 10 value back to 0, so it matches the 0 digit\n",
    "y[y == 10] = 0"
   ]
  },
  {
   "cell_type": "code",
   "execution_count": 4,
   "id": "1cf24491",
   "metadata": {},
   "outputs": [],
   "source": [
    "# We create a Theta array of arrays\n",
    "Theta = np.zeros(nnDef.size, dtype=np.ndarray)\n",
    "\n",
    "# Load the weights data to initialize Theta\n",
    "thetaMat = loadmat('ex4weights.mat')\n",
    "Theta[1] = thetaMat['Theta1']\n",
    "Theta[2] = thetaMat['Theta2']\n",
    "\n",
    "# swap first and last columns of Theta2, due to legacy from MATLAB indexing, \n",
    "# since the weight file ex3weights.mat was saved based on MATLAB indexing\n",
    "# Explanation: 0 in MATLAB is represented by 10. \n",
    "# Therefore the theta for 10 in Matlab corresponds with 0 in Python\n",
    "Theta[2] = np.roll(Theta[2], 1, axis=0)"
   ]
  },
  {
   "cell_type": "code",
   "execution_count": 5,
   "id": "f2cc0c4d",
   "metadata": {},
   "outputs": [],
   "source": [
    "# NNCOSTFUNCTION Implements the neural network cost function for the\n",
    "# neural network which performs classification\n",
    "#   J, grad = nnCostFunction(Theta, nnDef, X, y, lmbd) \n",
    "# computes the cost and gradient of the neural network\n",
    "# We are passing the Theta values as a single vector\n",
    "# because the minimize function only works with 1-D vectors.\n",
    "# That means that the function must reconstruct Theta as a first step\n",
    "def nnCostFunction(Theta1D, nnDef, X, y, lmbd):\n",
    "    # Useful variables\n",
    "    (m, n) = X.shape                   # m = number of training examples, n = number of features\n",
    "    num_labels = nnDef[-1]             # Output Layer units\n",
    "    num_layers = nnDef.size            # Number of layers including the Input Layer\n",
    "    \n",
    "    Theta = ThetaFrom1D(Theta1D, nnDef)\n",
    "    \n",
    "    # a array containing the activation arrays\n",
    "    # (using numbering from 1 to be coerent with notation)\n",
    "    a = np.zeros((nnDef.size+1,), dtype=np.ndarray)\n",
    "\n",
    "    a[1] = X                # The activation for the Input layer is X\n",
    "    \n",
    "    # Extending the y vector into an array where 1 representents the label\n",
    "    y10 = np.zeros((m,num_labels))\n",
    "    y= y[:, np.newaxis]\n",
    "    for i in range(num_labels):\n",
    "        y10[:,i][:,np.newaxis] = np.where(y==i,1,0) \n",
    "    \n",
    "    # Forward Propagation\n",
    "    for i in range(1, num_layers):\n",
    "        # Add the bias unit to the a layer\n",
    "        mLayer = a[i].shape[0]\n",
    "        a[i] = np.append(np.ones((mLayer, 1)), a[i], axis=1)\n",
    "        a[i+1] = sigmoid(np.dot(a[i], Theta[i].T))\n",
    "        \n",
    "    # Cost Function\n",
    "    J = (-1/m)*np.sum((np.multiply(np.log(a[num_layers]), y10) + np.multiply((1-y10), np.log(1-a[num_layers]))))\n",
    "    # Cost adding regularization\n",
    "    for i in range(1, num_layers):\n",
    "        J = J + (lmbd/(2*m))*(np.sum((np.power(Theta[i][:, 1:], 2))))\n",
    "        \n",
    "    # Getting the gradient\n",
    "    grad = np.zeros((Theta.shape), dtype=np.ndarray)\n",
    "    delta = np.zeros((nnDef.size+1,), dtype=np.ndarray)\n",
    "    \n",
    "    delta[num_layers] = (a[num_layers] - y10)\n",
    "    for i in reversed(range(2, num_layers)):\n",
    "        delta[i] = (np.dot(delta[i+1], Theta[i]))*(a[i]*(1-a[i]))\n",
    "        delta[i] = delta[i][:, 1:]\n",
    "    \n",
    "    # Regularization part of the gradient\n",
    "    for i in reversed(range(1, num_layers)):\n",
    "        grad[i] = ((1/m)*np.dot(delta[i+1].T, a[i])) + ((lmbd/m)*np.hstack((np.zeros((Theta[i].shape[0],1)),Theta[i][:,1:])))\n",
    "    \n",
    "    grad1D = ThetaTo1D(grad, nnDef)\n",
    "    \n",
    "    return J, grad1D"
   ]
  },
  {
   "cell_type": "code",
   "execution_count": 6,
   "id": "79eacfde",
   "metadata": {},
   "outputs": [],
   "source": [
    "# Function that converts the Theta array of arrays\n",
    "# in a 1D vector. This is required to be sent to \n",
    "# the minimize sCiPy function\n",
    "def ThetaTo1D(Theta, nnDef):\n",
    "    # Useful variables\n",
    "    num_labels = nnDef[-1]             # Output Layer units\n",
    "    num_layers = nnDef.size            # Number of layers including the Input Layer\n",
    "    \n",
    "    Theta1D = Theta[1].reshape(-1)\n",
    "    for i in range(2, num_layers):\n",
    "        Theta1D = np.concatenate((Theta1D, Theta[i].reshape(-1)), axis=None)\n",
    "    \n",
    "    return Theta1D\n",
    "\n",
    "# Function that converts back Theta from a 1D vector\n",
    "# into an array of arrays\n",
    "def ThetaFrom1D(Theta1D, nnDef):\n",
    "    # Useful variables\n",
    "    num_labels = nnDef[-1]             # Output Layer units\n",
    "    num_layers = nnDef.size            # Number of layers including the Input Layer\n",
    "    \n",
    "    Theta = np.zeros(nnDef.size, dtype=np.ndarray)\n",
    "    start=0\n",
    "    for i in range(1, num_layers):\n",
    "        Theta[i]= Theta1D[start:(start + (nnDef[i] * (nnDef[i-1]+1)))].reshape(nnDef[i], nnDef[i-1]+1)\n",
    "        start = start + (nnDef[i] * (nnDef[i-1]+1)+1) - 1 \n",
    "    \n",
    "    return Theta"
   ]
  },
  {
   "cell_type": "markdown",
   "id": "5160cf17",
   "metadata": {},
   "source": [
    "## Compute Cost Function (Feedforward)"
   ]
  },
  {
   "cell_type": "code",
   "execution_count": 7,
   "id": "e7fee1c3",
   "metadata": {},
   "outputs": [],
   "source": [
    "Theta1D = ThetaTo1D(Theta, nnDef)"
   ]
  },
  {
   "cell_type": "code",
   "execution_count": 8,
   "id": "2da543a0",
   "metadata": {},
   "outputs": [
    {
     "name": "stdout",
     "output_type": "stream",
     "text": [
      "Cost at parameters (loaded from ex4weights): 0.287629 \n",
      "(this value should be about 0.287629)\n",
      "\n"
     ]
    }
   ],
   "source": [
    "J, grad = nnCostFunction(Theta1D, nnDef, X, y, 0);\n",
    "\n",
    "print('Cost at parameters (loaded from ex4weights): {:.6f} \\n(this value should be about 0.287629)\\n'.format(J))"
   ]
  },
  {
   "cell_type": "markdown",
   "id": "35b96aab",
   "metadata": {},
   "source": [
    "## Implement Regularization in the Cost Function"
   ]
  },
  {
   "cell_type": "code",
   "execution_count": 9,
   "id": "1bbaca3d",
   "metadata": {},
   "outputs": [
    {
     "name": "stdout",
     "output_type": "stream",
     "text": [
      "Cost at parameters (loaded from ex4weights): 0.383770 \n",
      "(this value should be about 0.383770)\n",
      "\n"
     ]
    }
   ],
   "source": [
    "lmbd = 1\n",
    "\n",
    "J, grad = nnCostFunction(Theta1D, nnDef, X, y, lmbd)\n",
    "\n",
    "print('Cost at parameters (loaded from ex4weights): {:.6f} \\n(this value should be about 0.383770)\\n'.format(J))"
   ]
  },
  {
   "cell_type": "markdown",
   "id": "ab7dc2f6",
   "metadata": {},
   "source": [
    "## Checking NN gradients"
   ]
  },
  {
   "cell_type": "code",
   "execution_count": 10,
   "id": "0dd5642a",
   "metadata": {},
   "outputs": [
    {
     "name": "stdout",
     "output_type": "stream",
     "text": [
      "Cost at (fixed) debugging parameters (w/ lambda = 3) 0.576051\n",
      "(for lambda = 3, this value should be about 0.576051)\n",
      "\n"
     ]
    }
   ],
   "source": [
    "lmbd = 3\n",
    "J, grad = nnCostFunction(Theta1D, nnDef, X, y, lmbd)\n",
    "\n",
    "print('Cost at (fixed) debugging parameters (w/ lambda = 3) {:.6f}\\n(for lambda = 3, this value should be about 0.576051)\\n'. format(J))"
   ]
  },
  {
   "cell_type": "markdown",
   "id": "f9ca24fa",
   "metadata": {},
   "source": [
    "## Train the NN"
   ]
  },
  {
   "cell_type": "code",
   "execution_count": 37,
   "id": "7e3373f0",
   "metadata": {},
   "outputs": [],
   "source": [
    "Theta= initializeTheta(nnDef)\n",
    "Theta1D = ThetaTo1D(Theta, nnDef)"
   ]
  },
  {
   "cell_type": "code",
   "execution_count": 38,
   "id": "f99d3ac6",
   "metadata": {},
   "outputs": [
    {
     "name": "stdout",
     "output_type": "stream",
     "text": [
      "Cost at theta found by optimize.minimize: 0.563\n"
     ]
    }
   ],
   "source": [
    "lmdb = 1\n",
    "\n",
    "# set options for optimize.minimize\n",
    "options= {'maxiter': 500}\n",
    "\n",
    "# The function returns an object `OptimizeResult`\n",
    "# We use truncated Newton algorithm for optimization which is \n",
    "# equivalent to MATLAB's fminunc\n",
    "# See https://stackoverflow.com/questions/18801002/fminunc-alternate-in-numpy\n",
    "res = optimize.minimize(nnCostFunction,\n",
    "                        Theta1D,\n",
    "                        (nnDef, X, y.flatten(), lmbd),\n",
    "                        jac=True,\n",
    "                        method='TNC',\n",
    "                        options=options)\n",
    "\n",
    "# the fun property of `OptimizeResult` object returns\n",
    "# the value of costFunction at optimized theta\n",
    "cost = res.fun\n",
    "\n",
    "# the optimized theta is in the x property\n",
    "theta = res.x\n",
    "\n",
    "# Print theta to screen\n",
    "print('Cost at theta found by optimize.minimize: {:.3f}'.format(cost))"
   ]
  },
  {
   "cell_type": "code",
   "execution_count": 39,
   "id": "0f9f51c1",
   "metadata": {},
   "outputs": [],
   "source": [
    "Theta = ThetaFrom1D(theta, nnDef)"
   ]
  },
  {
   "cell_type": "code",
   "execution_count": 40,
   "id": "136036bd",
   "metadata": {},
   "outputs": [],
   "source": [
    "def feedForwardPropagation(Theta, X, nnDef):\n",
    "    # Useful variables\n",
    "    (m, n) = X.shape                   # m = number of training examples, n = number of features\n",
    "    num_labels = nnDef[-1]             # Output Layer units\n",
    "    num_layers = nnDef.size            # Number of layers including the Input Layer\n",
    "    p = np.zeros((1, num_labels))       # Classification vector\n",
    "    Prob = np.zeros((m, num_labels))    # Matrix contaning all the probabilities per label\n",
    "    # layerActiv= Array containing the activation arrays\n",
    "    layerActiv = np.zeros((nnDef.size,), dtype=np.ndarray)\n",
    "\n",
    "    layerActiv[0] = X             # The activation for the Input layer is X\n",
    "\n",
    "    for i in range(num_layers-1):\n",
    "        # Add the bias unit to the activation\n",
    "        mLayer = layerActiv[i].shape[0]\n",
    "        layerActiv[i] = np.append(np.ones((mLayer, 1)), layerActiv[i], axis=1)\n",
    "        layerActiv[i+1] = sigmoid(np.dot(layerActiv[i], Theta[i+1].T))\n",
    "\n",
    "    Prob = layerActiv[-1]\n",
    "    p = np.argmax(layerActiv[-1], axis=1)\n",
    "\n",
    "    return Prob, p"
   ]
  },
  {
   "cell_type": "code",
   "execution_count": 41,
   "id": "495d30f3",
   "metadata": {},
   "outputs": [],
   "source": [
    "Prob, pred = feedForwardPropagation(Theta, X, nnDef)"
   ]
  },
  {
   "cell_type": "code",
   "execution_count": 42,
   "id": "8c3a70e7",
   "metadata": {},
   "outputs": [
    {
     "name": "stdout",
     "output_type": "stream",
     "text": [
      "\n",
      "Training Set Accuracy: 97.56 %\n"
     ]
    }
   ],
   "source": [
    "print('\\nTraining Set Accuracy: {:.2f} %'.format(np.mean(pred == y) * 100))"
   ]
  },
  {
   "cell_type": "code",
   "execution_count": null,
   "id": "ecab4783",
   "metadata": {},
   "outputs": [],
   "source": []
  },
  {
   "cell_type": "code",
   "execution_count": null,
   "id": "55f063b1",
   "metadata": {},
   "outputs": [],
   "source": []
  }
 ],
 "metadata": {
  "kernelspec": {
   "display_name": "Python 3 (ipykernel)",
   "language": "python",
   "name": "python3"
  },
  "language_info": {
   "codemirror_mode": {
    "name": "ipython",
    "version": 3
   },
   "file_extension": ".py",
   "mimetype": "text/x-python",
   "name": "python",
   "nbconvert_exporter": "python",
   "pygments_lexer": "ipython3",
   "version": "3.10.1"
  }
 },
 "nbformat": 4,
 "nbformat_minor": 5
}
