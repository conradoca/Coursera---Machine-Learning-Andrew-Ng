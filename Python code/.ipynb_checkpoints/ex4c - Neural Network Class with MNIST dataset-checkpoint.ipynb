{
 "cells": [
  {
   "cell_type": "markdown",
   "id": "32410aba",
   "metadata": {},
   "source": [
    "# Programming Exercise 4c: Neural Network Class with MNIST dataset\n",
    "\n",
    "In this version of the exercise 4 we will use the MNIST original dataset and not the one coming from Andrew Ng's course.\n",
    "> This can be used for this competition: https://www.kaggle.com/c/digit-recognizer. \n",
    "> The dataset is available at http://yann.lecun.com/exdb/mnist/.\n",
    "> You can also get data importing it from keras (look at https://www.askpython.com/python/examples/load-and-plot-mnist-dataset-in-python).\n",
    "\n",
    "The digits have been size-normalized and centered in a fixed-sized image. The original black and white (bilevel) images from NIST were size normalized to fit in a 20x20 pixel box while preserving their aspect ratio. The resulting images contain grey levels as a result of the anti-aliasing technique used by the normalization algorithm. the images were centered in a 28x28 image by computing the center of mass of the pixels, and translating the image so as to position this point at the center of the 28x28 field.\n",
    "\n",
    "I am saving the unzipped files downloaded from that website in <code>/MNIST database/</code> subfolder."
   ]
  },
  {
   "cell_type": "code",
   "execution_count": 1,
   "id": "6a6a2d71",
   "metadata": {},
   "outputs": [],
   "source": [
    "# Importing the needed libraries\n",
    "import os\n",
    "import struct\n",
    "import numpy as np\n",
    "import matplotlib.pyplot as plt\n",
    "# Importing the needed libraries\n",
    "import pandas as pd\n",
    "from neuralNetworkClass import *\n",
    "\n",
    "# tells matplotlib to embed plots within the notebook\n",
    "%matplotlib inline\n",
    "\n",
    "mnistFolder=r\"C:\\Users\\conrado.camacho\\OneDrive\\Personal Projects\\Coursera - Machine Learning Andrew Ng\\Python code\\MNIST database\"\n",
    "trainImages = mnistFolder + '\\\\train-images.idx3-ubyte'\n",
    "trainLabels = mnistFolder + '\\\\train-labels.idx1-ubyte'\n",
    "testImages = mnistFolder + '\\\\t10k-images.idx3-ubyte'\n",
    "testLabels = mnistFolder + '\\\\t10k-labels.idx1-ubyte'"
   ]
  },
  {
   "cell_type": "code",
   "execution_count": 2,
   "id": "2dcd7b76",
   "metadata": {},
   "outputs": [],
   "source": [
    "# This function will open whatever labels mnist file and return the data\n",
    "def load_mnist_labels(path):\n",
    "    # Open the file rb means read only + binary\n",
    "    with open(path, 'rb') as lbpath:\n",
    "        magic, n = struct.unpack('>II', lbpath.read(8))\n",
    "        labels = np.fromfile(lbpath, dtype=np.uint8)\n",
    "    return labels\n",
    "\n",
    "# This function will open whatever images mnist file and return the data\n",
    "# \n",
    "def load_mnist_images(path):\n",
    "    # Open the file rb means read only + binary\n",
    "    with open(path, 'rb') as imgpath:\n",
    "        magic, n, rows, cols = struct.unpack('>IIII', imgpath.read(16))\n",
    "        images_data = np.fromfile(imgpath, dtype=np.uint8)\n",
    "        # with reshape with reorganize the array into n rows, \n",
    "        # where every row is the image data flat \n",
    "        images = np.reshape(images_data, (n, rows*cols))\n",
    "    return images"
   ]
  },
  {
   "cell_type": "code",
   "execution_count": 3,
   "id": "f69d250f",
   "metadata": {},
   "outputs": [],
   "source": [
    "# Load the Training data\n",
    "X_train = load_mnist_images(trainImages)\n",
    "y_train = load_mnist_labels(trainLabels)"
   ]
  },
  {
   "cell_type": "code",
   "execution_count": 4,
   "id": "f3ff5c22",
   "metadata": {},
   "outputs": [
    {
     "data": {
      "text/plain": [
       "(60000, 784)"
      ]
     },
     "execution_count": 4,
     "metadata": {},
     "output_type": "execute_result"
    }
   ],
   "source": [
    "## NN definition\n",
    "input_layer_size  = np.array([784])  # 28x28 Input Images of Digits\n",
    "hidden_layer = np.array([25])   # 25 hidden units\n",
    "num_labels = np.array([10])          # 10 labels, from 0 to 9 - output layer\n",
    "\n",
    "# trying to represent the NN using an array.\n",
    "# nnDef.shape[0] = number of layers\n",
    "# nnDef[i] = number of neurons on layer i\n",
    "nnDef = np.concatenate((input_layer_size, hidden_layer, num_labels), axis=None)"
   ]
  },
  {
   "cell_type": "markdown",
   "id": "59c7ff61",
   "metadata": {},
   "source": [
    "## Train the NN"
   ]
  },
  {
   "cell_type": "code",
   "execution_count": null,
   "id": "ec8fdf2e",
   "metadata": {},
   "outputs": [],
   "source": [
    "# Initialize the NN\n",
    "nn=NNClassifier(nnDef, 500, 0)"
   ]
  },
  {
   "cell_type": "code",
   "execution_count": null,
   "id": "ed299247",
   "metadata": {},
   "outputs": [],
   "source": [
    "# Train the NN\n",
    "nn.fit(X_train,y_train)\n",
    "# Print theta to screen\n",
    "print('Cost at theta found by optimize.minimize: {:.3f}'.format(nn.cost))"
   ]
  },
  {
   "cell_type": "markdown",
   "id": "fa9b46db",
   "metadata": {},
   "source": [
    "## Test the model"
   ]
  },
  {
   "cell_type": "code",
   "execution_count": null,
   "id": "d96bc3d0",
   "metadata": {},
   "outputs": [],
   "source": [
    "X_test = load_mnist_images(testImages)\n",
    "y_test = load_mnist_labels(testLabels)"
   ]
  },
  {
   "cell_type": "code",
   "execution_count": null,
   "id": "9d84773d",
   "metadata": {},
   "outputs": [],
   "source": [
    "pred = nn.predict(X_test)\n",
    "print('\\nTraining Set Accuracy: {:.2f} %'.format(np.mean(pred == y_test) * 100))"
   ]
  }
 ],
 "metadata": {
  "kernelspec": {
   "display_name": "Python 3 (ipykernel)",
   "language": "python",
   "name": "python3"
  },
  "language_info": {
   "codemirror_mode": {
    "name": "ipython",
    "version": 3
   },
   "file_extension": ".py",
   "mimetype": "text/x-python",
   "name": "python",
   "nbconvert_exporter": "python",
   "pygments_lexer": "ipython3",
   "version": "3.10.1"
  }
 },
 "nbformat": 4,
 "nbformat_minor": 5
}
