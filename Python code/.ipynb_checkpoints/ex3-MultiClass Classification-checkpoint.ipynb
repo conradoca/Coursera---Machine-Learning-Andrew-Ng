{
 "cells": [
  {
   "cell_type": "markdown",
   "id": "bec57e01-c053-45d6-903e-f6758db7d3d3",
   "metadata": {},
   "source": [
    "# Programming Exercise 3: Multi-Class Classification"
   ]
  },
  {
   "cell_type": "markdown",
   "id": "03326d5e-a991-4541-bca1-3cb987077603",
   "metadata": {},
   "source": [
    "We'll be using the output from the previous exercise. Logistic Regression with regularizaton"
   ]
  },
  {
   "cell_type": "code",
   "execution_count": 1,
   "id": "20d3300e-3982-4f26-930e-16d148052110",
   "metadata": {},
   "outputs": [],
   "source": [
    "# Importing the needed libraries\n",
    "import pandas as pd\n",
    "import numpy as np\n",
    "import matplotlib.pyplot as plt\n",
    "from logisticRegression import *\n",
    "from multiClassClassification import *\n",
    "\n",
    "# Optimization module in scipy\n",
    "from scipy import optimize\n",
    "\n",
    "# We'll use loadmap to load the matlab dataset\n",
    "from scipy.io import loadmat\n",
    "\n",
    "# tells matplotlib to embed plots within the notebook\n",
    "%matplotlib inline"
   ]
  },
  {
   "cell_type": "markdown",
   "id": "80ee007f-f1d4-4b79-83e5-81499713fce0",
   "metadata": {},
   "source": [
    "## Loading and parsing data from a Matlab file"
   ]
  },
  {
   "cell_type": "code",
   "execution_count": 2,
   "id": "f9ea7fc9-22cc-418c-a369-99dd4b2f821c",
   "metadata": {},
   "outputs": [
    {
     "name": "stdout",
     "output_type": "stream",
     "text": [
      "{'__header__': b'MATLAB 5.0 MAT-file, Platform: GLNXA64, Created on: Sun Oct 16 13:09:09 2011', '__version__': '1.0', '__globals__': [], 'X': array([[0., 0., 0., ..., 0., 0., 0.],\n",
      "       [0., 0., 0., ..., 0., 0., 0.],\n",
      "       [0., 0., 0., ..., 0., 0., 0.],\n",
      "       ...,\n",
      "       [0., 0., 0., ..., 0., 0., 0.],\n",
      "       [0., 0., 0., ..., 0., 0., 0.],\n",
      "       [0., 0., 0., ..., 0., 0., 0.]]), 'y': array([[10],\n",
      "       [10],\n",
      "       [10],\n",
      "       ...,\n",
      "       [ 9],\n",
      "       [ 9],\n",
      "       [ 9]], dtype=uint8)}\n"
     ]
    }
   ],
   "source": [
    "data = loadmat('ex3data1.mat')\n",
    "# This loads all the information on a dictonary\n",
    "print(data)"
   ]
  },
  {
   "cell_type": "code",
   "execution_count": 3,
   "id": "6e3f88bf-1a30-4f27-9dcb-01e4d02048e9",
   "metadata": {},
   "outputs": [
    {
     "data": {
      "text/plain": [
       "dict_keys(['__header__', '__version__', '__globals__', 'X', 'y'])"
      ]
     },
     "execution_count": 3,
     "metadata": {},
     "output_type": "execute_result"
    }
   ],
   "source": [
    "# Looking at the dictionary keys\n",
    "data.keys()"
   ]
  },
  {
   "cell_type": "code",
   "execution_count": 4,
   "id": "55889321-94d2-4507-b0ea-dac9667e3077",
   "metadata": {},
   "outputs": [
    {
     "data": {
      "text/plain": [
       "b'MATLAB 5.0 MAT-file, Platform: GLNXA64, Created on: Sun Oct 16 13:09:09 2011'"
      ]
     },
     "execution_count": 4,
     "metadata": {},
     "output_type": "execute_result"
    }
   ],
   "source": [
    "# We can access the contents of each dictionary key as an array\n",
    "data['__header__']"
   ]
  },
  {
   "cell_type": "code",
   "execution_count": 5,
   "id": "da4c68df-0cf7-4728-a2c9-f09440fbcd5b",
   "metadata": {},
   "outputs": [
    {
     "data": {
      "text/plain": [
       "(array([[0., 0., 0., ..., 0., 0., 0.],\n",
       "        [0., 0., 0., ..., 0., 0., 0.],\n",
       "        [0., 0., 0., ..., 0., 0., 0.],\n",
       "        ...,\n",
       "        [0., 0., 0., ..., 0., 0., 0.],\n",
       "        [0., 0., 0., ..., 0., 0., 0.],\n",
       "        [0., 0., 0., ..., 0., 0., 0.]]),\n",
       " array([[10],\n",
       "        [10],\n",
       "        [10],\n",
       "        ...,\n",
       "        [ 9],\n",
       "        [ 9],\n",
       "        [ 9]], dtype=uint8))"
      ]
     },
     "execution_count": 5,
     "metadata": {},
     "output_type": "execute_result"
    }
   ],
   "source": [
    "# Having a look at the dataset\n",
    "data['X'], data['y']"
   ]
  },
  {
   "cell_type": "code",
   "execution_count": 6,
   "id": "d3e7af7f-5124-4a09-b966-2d173d1c16fe",
   "metadata": {},
   "outputs": [],
   "source": [
    "# Convert the data into a numpy array\n",
    "X = data['X']\n",
    "y = data['y'].flatten()"
   ]
  },
  {
   "cell_type": "markdown",
   "id": "eee269da-9ae6-4a5b-952b-ae74e2d49e5e",
   "metadata": {},
   "source": [
    "y should be made of values from 0-9. However, as matlab does not have 0 index, the value is replaced by 10.\n",
    "We'll normalize the 10 value back to 0, so it matches the 0 digit."
   ]
  },
  {
   "cell_type": "code",
   "execution_count": 7,
   "id": "f2d42b68-6eeb-4d06-8b00-509d3d706334",
   "metadata": {},
   "outputs": [],
   "source": [
    "y = np.where(y == 10, 0, y)\n",
    "# Another way to do it\n",
    "# y[y == 10] = 0"
   ]
  },
  {
   "cell_type": "code",
   "execution_count": 8,
   "id": "c06e5c3d-5e07-418a-9d33-5db6da4fccea",
   "metadata": {},
   "outputs": [
    {
     "data": {
      "text/plain": [
       "array([0, 0, 0, ..., 9, 9, 9], dtype=uint8)"
      ]
     },
     "execution_count": 8,
     "metadata": {},
     "output_type": "execute_result"
    }
   ],
   "source": [
    "y"
   ]
  },
  {
   "cell_type": "code",
   "execution_count": 9,
   "id": "f08ff205-d0a5-4029-86cc-46b6fed4e78a",
   "metadata": {},
   "outputs": [],
   "source": [
    "# m = number of training examples\n",
    "# n = number of features\n",
    "(m,n) = X.shape"
   ]
  },
  {
   "cell_type": "markdown",
   "id": "7c803f13-c71a-4e48-adb1-e7b0b73f387f",
   "metadata": {},
   "source": [
    "## Visualizing the data"
   ]
  },
  {
   "cell_type": "markdown",
   "id": "28a58ee8-f0aa-4dba-b753-70e7fe5da230",
   "metadata": {},
   "source": [
    "We'll visualize 100 random data points from the training set."
   ]
  },
  {
   "cell_type": "code",
   "execution_count": 10,
   "id": "28705acd-406b-483e-8659-ff6422bdc03d",
   "metadata": {},
   "outputs": [],
   "source": [
    "# We get a 100 random datapoints. First we get a 100 indices out of m\n",
    "rand_indices = np.random.choice(m, 100, replace=False)\n",
    "# Second, we load these random vectors in the sel array\n",
    "sel = X[rand_indices, :]"
   ]
  },
  {
   "cell_type": "raw",
   "id": "0f273834",
   "metadata": {},
   "source": [
    "fig, ax = plt.subplots(nrows=10, ncols=10, sharex=True, sharey=True)\n",
    "ax = ax.flatten()\n",
    "\n",
    "for i in range(100):\n",
    "    img = sel[i].reshape(20,20).T\n",
    "    ax[i].imshow(img, cmap='Greys')\n",
    "\n",
    "ax[0].set_xticks([])\n",
    "ax[0].set_yticks([])\n",
    "plt.tight_layout()\n",
    "plt.show"
   ]
  },
  {
   "cell_type": "markdown",
   "id": "5f5ed91b",
   "metadata": {},
   "source": [
    "## Vectorized logistic regression"
   ]
  },
  {
   "cell_type": "code",
   "execution_count": 11,
   "id": "0751ee4b",
   "metadata": {},
   "outputs": [],
   "source": [
    "# test values for the parameters theta\n",
    "theta_t = np.array([-2, -1, 1, 2], dtype=float)\n",
    "\n",
    "# test values for the inputs\n",
    "X_t = np.concatenate([np.ones((5, 1)), np.arange(1, 16).reshape(5, 3, order='F')/10.0], axis=1)\n",
    "\n",
    "# test values for the labels\n",
    "y_t = np.array([1, 0, 1, 0, 1])\n",
    "\n",
    "# test value for the regularization parameter\n",
    "lambda_t = 3"
   ]
  },
  {
   "cell_type": "code",
   "execution_count": 12,
   "id": "6b469c9b",
   "metadata": {},
   "outputs": [
    {
     "name": "stdout",
     "output_type": "stream",
     "text": [
      "Cost         : 2.534819\n",
      "Expected cost: 2.534819\n",
      "-----------------------\n",
      "Gradients:\n",
      " [0.146561, -0.548558, 0.724722, 1.398003]\n",
      "Expected gradients:\n",
      " [0.146561, -0.548558, 0.724722, 1.398003]\n"
     ]
    }
   ],
   "source": [
    "J, grad = costFunction(theta_t, X_t, y_t, lambda_t)\n",
    "\n",
    "print('Cost         : {:.6f}'.format(J))\n",
    "print('Expected cost: 2.534819')\n",
    "print('-----------------------')\n",
    "print('Gradients:')\n",
    "print(' [{:.6f}, {:.6f}, {:.6f}, {:.6f}]'.format(*grad))\n",
    "print('Expected gradients:')\n",
    "print(' [0.146561, -0.548558, 0.724722, 1.398003]');"
   ]
  },
  {
   "cell_type": "markdown",
   "id": "d787fd0b",
   "metadata": {},
   "source": [
    "## One-vs-All Classification"
   ]
  },
  {
   "cell_type": "code",
   "execution_count": 13,
   "id": "ec8afb28",
   "metadata": {},
   "outputs": [],
   "source": [
    "lmbd = 0.1\n",
    "num_labels = 10\n",
    "all_theta, all_cost = oneVsAll(X, y, num_labels, lmbd)"
   ]
  },
  {
   "cell_type": "code",
   "execution_count": 14,
   "id": "d9d3791e",
   "metadata": {},
   "outputs": [],
   "source": [
    "pred = predictOneVsAll(all_theta, X)"
   ]
  },
  {
   "cell_type": "code",
   "execution_count": 15,
   "id": "1eadca84",
   "metadata": {},
   "outputs": [
    {
     "name": "stdout",
     "output_type": "stream",
     "text": [
      "\n",
      "Training Set Accuracy: 96.46 %\n"
     ]
    }
   ],
   "source": [
    "print('\\nTraining Set Accuracy: {:.2f} %'.format(np.mean(pred == y) * 100));"
   ]
  }
 ],
 "metadata": {
  "kernelspec": {
   "display_name": "Python 3 (ipykernel)",
   "language": "python",
   "name": "python3"
  },
  "language_info": {
   "codemirror_mode": {
    "name": "ipython",
    "version": 3
   },
   "file_extension": ".py",
   "mimetype": "text/x-python",
   "name": "python",
   "nbconvert_exporter": "python",
   "pygments_lexer": "ipython3",
   "version": "3.10.1"
  }
 },
 "nbformat": 4,
 "nbformat_minor": 5
}
