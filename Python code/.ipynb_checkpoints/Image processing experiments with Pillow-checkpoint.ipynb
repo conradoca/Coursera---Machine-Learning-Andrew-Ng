{
 "cells": [
  {
   "cell_type": "markdown",
   "id": "fe7ab1ca",
   "metadata": {},
   "source": [
    "# Image processing experiments with Pillow"
   ]
  },
  {
   "cell_type": "markdown",
   "id": "18f720e7",
   "metadata": {},
   "source": [
    "In this notebook we will make some basic experimentation with Pillow to make some basic image manipulation\n",
    "> https://pillow.readthedocs.io/en/stable/index.html"
   ]
  },
  {
   "cell_type": "code",
   "execution_count": 49,
   "id": "1b1a2326",
   "metadata": {},
   "outputs": [],
   "source": [
    "from PIL import Image\n",
    "# We import the following two to show images inline in the notebook\n",
    "from matplotlib.pyplot import imshow\n",
    "import numpy as np\n",
    "import pandas as pd\n",
    "%matplotlib inline"
   ]
  },
  {
   "cell_type": "markdown",
   "id": "f914e5ec",
   "metadata": {},
   "source": [
    "### Open the image and extract basic information"
   ]
  },
  {
   "cell_type": "code",
   "execution_count": 22,
   "id": "b79d698e",
   "metadata": {},
   "outputs": [
    {
     "name": "stdout",
     "output_type": "stream",
     "text": [
      "File format: PNG\n",
      "File size: (864, 864)\n",
      "File mode: RGB\n"
     ]
    }
   ],
   "source": [
    "img = Image.open('My handwritten numbers\\zero.png', 'r')\n",
    "\n",
    "# identifies the source of an image. If the image was not read from a file, it is set to None\n",
    "print('File format:', img.format)\n",
    "# width and height (in pixels)\n",
    "print('File size:', img.size)\n",
    "# number and names of the bands in the image, and also the pixel type and depth.\n",
    "# Common modes are “L” (luminance) for greyscale images, “RGB” for true color images,\n",
    "# and “CMYK” for pre-press images.\n",
    "print('File mode:', img.mode)"
   ]
  },
  {
   "cell_type": "markdown",
   "id": "ae08e5b7",
   "metadata": {},
   "source": [
    "Show the image on a external application"
   ]
  },
  {
   "cell_type": "code",
   "execution_count": 23,
   "id": "16521ed1",
   "metadata": {},
   "outputs": [],
   "source": [
    "# This opens another window to show the image.\n",
    "# It does not show the image inline in the Jupyter notebook\n",
    "img.show()"
   ]
  },
  {
   "cell_type": "markdown",
   "id": "7e4f2864",
   "metadata": {},
   "source": [
    "Show the image inline"
   ]
  },
  {
   "cell_type": "code",
   "execution_count": 24,
   "id": "85cb3c29",
   "metadata": {},
   "outputs": [
    {
     "data": {
      "text/plain": [
       "<matplotlib.image.AxesImage at 0x2aa0bd0e560>"
      ]
     },
     "execution_count": 24,
     "metadata": {},
     "output_type": "execute_result"
    },
    {
     "data": {
      "image/png": "[encoded data removed]",
      "text/plain": [
       "<Figure size 432x288 with 1 Axes>"
      ]
     },
     "metadata": {
      "needs_background": "light"
     },
     "output_type": "display_data"
    }
   ],
   "source": [
    "imshow(np.asarray(img))"
   ]
  },
  {
   "cell_type": "markdown",
   "id": "85b554b1",
   "metadata": {},
   "source": [
    "### Resizing and converting to greyscale"
   ]
  },
  {
   "cell_type": "code",
   "execution_count": 25,
   "id": "af4963f8",
   "metadata": {},
   "outputs": [
    {
     "name": "stdout",
     "output_type": "stream",
     "text": [
      "<PIL.Image.Image image mode=RGB size=20x20 at 0x2AA0E470700>\n"
     ]
    }
   ],
   "source": [
    "# Resize the image to a 20, 20 pixels\n",
    "out = img.resize((20, 20))\n",
    "print(out)"
   ]
  },
  {
   "cell_type": "markdown",
   "id": "7c5390ae",
   "metadata": {},
   "source": [
    "Note that the resized image 'out' is processed as an array with <code>np.asarray</code>"
   ]
  },
  {
   "cell_type": "code",
   "execution_count": 26,
   "id": "5cdc919b",
   "metadata": {},
   "outputs": [
    {
     "data": {
      "text/plain": [
       "<matplotlib.image.AxesImage at 0x2aa0bd832e0>"
      ]
     },
     "execution_count": 26,
     "metadata": {},
     "output_type": "execute_result"
    },
    {
     "data": {
      "image/png": "[encoded data removed]",
      "text/plain": [
       "<Figure size 432x288 with 1 Axes>"
      ]
     },
     "metadata": {
      "needs_background": "light"
     },
     "output_type": "display_data"
    }
   ],
   "source": [
    "imshow(np.asarray(out))"
   ]
  },
  {
   "cell_type": "markdown",
   "id": "8ea3ae9e",
   "metadata": {},
   "source": [
    "The output image does not seem to have a well defined layout. We will try to apply image enhancement methods to try to improve the image."
   ]
  },
  {
   "cell_type": "markdown",
   "id": "0454c826",
   "metadata": {},
   "source": [
    "Convertimng the image to greyscale - \"L\" - and resizing it to 20,20."
   ]
  },
  {
   "cell_type": "code",
   "execution_count": 32,
   "id": "89d72df5",
   "metadata": {},
   "outputs": [
    {
     "data": {
      "text/plain": [
       "<matplotlib.image.AxesImage at 0x2aa0e813eb0>"
      ]
     },
     "execution_count": 32,
     "metadata": {},
     "output_type": "execute_result"
    },
    {
     "data": {
      "image/png": "[encoded data removed]",
      "text/plain": [
       "<Figure size 432x288 with 1 Axes>"
      ]
     },
     "metadata": {
      "needs_background": "light"
     },
     "output_type": "display_data"
    }
   ],
   "source": [
    "outL=img.resize((20,20)).convert('L')\n",
    "imshow(np.asarray(outL))"
   ]
  },
  {
   "cell_type": "markdown",
   "id": "afc439c1",
   "metadata": {},
   "source": [
    "The yellow and blue colors did confuse me. It appears that matplotlib defaults to a color map that intensifies the colors. For this we can apply a grey scale map when showing the image.\n",
    "> https://github.com/opencv/opencv/issues/10587"
   ]
  },
  {
   "cell_type": "code",
   "execution_count": 41,
   "id": "8d5ca225",
   "metadata": {},
   "outputs": [
    {
     "data": {
      "text/plain": [
       "<matplotlib.image.AxesImage at 0x2aa0ea1c1c0>"
      ]
     },
     "execution_count": 41,
     "metadata": {},
     "output_type": "execute_result"
    },
    {
     "data": {
      "image/png": "[encoded data removed]",
      "text/plain": [
       "<Figure size 432x288 with 1 Axes>"
      ]
     },
     "metadata": {
      "needs_background": "light"
     },
     "output_type": "display_data"
    }
   ],
   "source": [
    "imshow(np.asarray(outL), cmap='Greys')"
   ]
  },
  {
   "cell_type": "markdown",
   "id": "3b96877f",
   "metadata": {},
   "source": [
    "An alternative would be to use <code>ImageOps.grayscale</code>"
   ]
  },
  {
   "cell_type": "code",
   "execution_count": 34,
   "id": "f8004d85",
   "metadata": {},
   "outputs": [
    {
     "data": {
      "text/plain": [
       "<matplotlib.image.AxesImage at 0x2aa0e8e3f40>"
      ]
     },
     "execution_count": 34,
     "metadata": {},
     "output_type": "execute_result"
    },
    {
     "data": {
      "image/png": "[encoded data removed]",
      "text/plain": [
       "<Figure size 432x288 with 1 Axes>"
      ]
     },
     "metadata": {
      "needs_background": "light"
     },
     "output_type": "display_data"
    }
   ],
   "source": [
    "from PIL import ImageOps\n",
    "outGreyScale = ImageOps.grayscale(img.resize((20,20)))\n",
    "imshow(np.asarray(outGreyScale))"
   ]
  },
  {
   "cell_type": "markdown",
   "id": "efc08c49",
   "metadata": {},
   "source": [
    "### Save the image"
   ]
  },
  {
   "cell_type": "code",
   "execution_count": 38,
   "id": "0d143462",
   "metadata": {},
   "outputs": [],
   "source": [
    "outGreyScale.save(\"My handwritten numbers\\converted\\zero-converted.png\", format=\"png\")"
   ]
  },
  {
   "cell_type": "markdown",
   "id": "b59b2def",
   "metadata": {},
   "source": [
    "### Convert the imageas an array equivalent to the MNIST format"
   ]
  },
  {
   "cell_type": "code",
   "execution_count": 45,
   "id": "30f0e946",
   "metadata": {},
   "outputs": [
    {
     "data": {
      "text/plain": [
       "<matplotlib.image.AxesImage at 0x2aa0ea80460>"
      ]
     },
     "execution_count": 45,
     "metadata": {},
     "output_type": "execute_result"
    },
    {
     "data": {
      "image/png": "[encoded data removed]",
      "text/plain": [
       "<Figure size 432x288 with 1 Axes>"
      ]
     },
     "metadata": {
      "needs_background": "light"
     },
     "output_type": "display_data"
    }
   ],
   "source": [
    "number=255-np.asarray(outGreyScale)\n",
    "imshow(np.asarray(number), cmap='Greys')"
   ]
  },
  {
   "cell_type": "code",
   "execution_count": 47,
   "id": "537b6355",
   "metadata": {},
   "outputs": [
    {
     "data": {
      "text/plain": [
       "array([[ 0,  0,  0,  0,  0,  0,  0,  0,  0,  0,  0,  0,  0,  0,  0,  0,\n",
       "         0,  0,  0,  0,  0,  0,  0,  0,  0,  0,  0,  0,  0,  0,  0,  0,\n",
       "         0,  0,  0,  0,  0,  0,  0,  0,  0,  0,  0,  0,  0,  0,  0,  0,\n",
       "         0,  0,  0,  0,  3,  0,  0,  0,  0,  0,  0,  0,  0,  0,  0,  0,\n",
       "         0,  0,  0,  0,  0,  0, 12, 22, 37, 33,  1,  0,  0,  0,  0,  0,\n",
       "         0,  0,  0,  0,  0,  0,  0,  0,  0, 21, 20,  5,  3, 19, 21,  0,\n",
       "         0,  0,  0,  0,  0,  0,  0,  0,  0,  0,  0,  0, 19, 16,  0,  0,\n",
       "         0,  0, 22,  6,  0,  0,  0,  0,  0,  0,  0,  0,  0,  0,  0, 10,\n",
       "        22,  0,  0,  0,  0,  0, 11, 16,  0,  0,  0,  0,  0,  0,  0,  0,\n",
       "         0,  0,  1, 26,  3,  0,  0,  0,  0,  0,  6, 20,  0,  0,  0,  0,\n",
       "         0,  0,  0,  0,  0,  0, 10, 19,  0,  0,  0,  0,  0,  0,  5, 21,\n",
       "         0,  0,  0,  0,  0,  0,  0,  0,  0,  0, 17,  9,  0,  0,  0,  0,\n",
       "         0,  0,  6, 20,  0,  0,  0,  0,  0,  0,  0,  0,  0,  0, 18,  5,\n",
       "         0,  0,  0,  0,  0,  0, 10, 17,  0,  0,  0,  0,  0,  0,  0,  0,\n",
       "         0,  0, 18,  7,  0,  0,  0,  0,  0,  0, 19,  9,  0,  0,  0,  0,\n",
       "         0,  0,  0,  0,  0,  0, 12, 16,  0,  0,  0,  0,  0,  0, 25,  1,\n",
       "         0,  0,  0,  0,  0,  0,  0,  0,  0,  0,  2, 26,  2,  0,  0,  0,\n",
       "         0, 17, 15,  0,  0,  0,  0,  0,  0,  0,  0,  0,  0,  0,  0,  8,\n",
       "        25,  7,  1,  4, 18, 21,  0,  0,  0,  0,  0,  0,  0,  0,  0,  0,\n",
       "         0,  0,  0,  0,  7, 22, 22, 23, 14,  0,  0,  0,  0,  0,  0,  0,\n",
       "         0,  0,  0,  0,  0,  0,  0,  0,  0,  0,  0,  0,  0,  0,  0,  0,\n",
       "         0,  0,  0,  0,  0,  0,  0,  0,  0,  0,  0,  0,  0,  0,  0,  0,\n",
       "         0,  0,  0,  0,  0,  0,  0,  0,  0,  0,  0,  0,  0,  0,  0,  0,\n",
       "         0,  0,  0,  0,  0,  0,  0,  0,  0,  0,  0,  0,  0,  0,  0,  0,\n",
       "         0,  0,  0,  0,  0,  0,  0,  0,  0,  0,  0,  0,  0,  0,  0,  0]],\n",
       "      dtype=uint8)"
      ]
     },
     "execution_count": 47,
     "metadata": {},
     "output_type": "execute_result"
    }
   ],
   "source": [
    "number.reshape(1, 400)"
   ]
  },
  {
   "cell_type": "markdown",
   "id": "e466d0e2",
   "metadata": {},
   "source": [
    "## Convert all the images in a folder into a MNIST format"
   ]
  },
  {
   "cell_type": "code",
   "execution_count": 72,
   "id": "406436c8",
   "metadata": {},
   "outputs": [
    {
     "name": "stdout",
     "output_type": "stream",
     "text": [
      "My handwritten numbers\\eight.png 0\n",
      "My handwritten numbers\\five.png 1\n",
      "My handwritten numbers\\four.png 2\n",
      "My handwritten numbers\\nine.png 3\n",
      "My handwritten numbers\\one.png 4\n",
      "My handwritten numbers\\seven.png 5\n",
      "My handwritten numbers\\six.png 6\n",
      "My handwritten numbers\\three.png 7\n",
      "My handwritten numbers\\two.png 8\n",
      "My handwritten numbers\\zero.png 9\n"
     ]
    },
    {
     "data": {
      "image/png": "[encoded data removed]",
      "text/plain": [
       "<Figure size 432x288 with 1 Axes>"
      ]
     },
     "metadata": {
      "needs_background": "light"
     },
     "output_type": "display_data"
    }
   ],
   "source": [
    "import os\n",
    "directory = \"My handwritten numbers\"\n",
    "X_data=np.zeros((10,400))\n",
    "i=0\n",
    "for filename in os.listdir(directory):\n",
    "    f = os.path.join(directory, filename)\n",
    "    # checking if it is a file\n",
    "    if os.path.isfile(f):\n",
    "        img = Image.open(f, 'r')\n",
    "        outL=img.resize((20,20)).convert('L')\n",
    "        number=255-np.asarray(outL)\n",
    "        X_data[i]=number.reshape(1, 400)\n",
    "        i+=1\n"
   ]
  },
  {
   "cell_type": "markdown",
   "id": "5aa5d760",
   "metadata": {},
   "source": [
    "### Save as Pandas CSV file"
   ]
  },
  {
   "cell_type": "code",
   "execution_count": 73,
   "id": "5b15dca6",
   "metadata": {},
   "outputs": [],
   "source": [
    "data = pd.DataFrame(X_data)\n",
    "data.to_csv('My handwritten numbers\\data.csv', index=False, header=False)"
   ]
  },
  {
   "cell_type": "code",
   "execution_count": null,
   "id": "c342e181",
   "metadata": {},
   "outputs": [],
   "source": []
  }
 ],
 "metadata": {
  "kernelspec": {
   "display_name": "Python 3 (ipykernel)",
   "language": "python",
   "name": "python3"
  },
  "language_info": {
   "codemirror_mode": {
    "name": "ipython",
    "version": 3
   },
   "file_extension": ".py",
   "mimetype": "text/x-python",
   "name": "python",
   "nbconvert_exporter": "python",
   "pygments_lexer": "ipython3",
   "version": "3.10.1"
  }
 },
 "nbformat": 4,
 "nbformat_minor": 5
}
