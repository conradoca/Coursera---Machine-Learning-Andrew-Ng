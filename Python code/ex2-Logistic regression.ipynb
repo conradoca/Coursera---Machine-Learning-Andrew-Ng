{
 "cells": [
  {
   "cell_type": "markdown",
   "id": "f5680d47-e9f0-41de-abb3-8107a55e7f75",
   "metadata": {
    "tags": []
   },
   "source": [
    "# Programming Exercise 2: Logistic Regression"
   ]
  },
  {
   "cell_type": "code",
   "execution_count": 2,
   "id": "bed78abe-2470-4f34-b651-b626c7da23ca",
   "metadata": {},
   "outputs": [],
   "source": [
    "# Importing the needed libraries\n",
    "import pandas as pd\n",
    "import numpy as np\n",
    "import matplotlib.pyplot as plt\n",
    "from logisticRegression import *\n",
    "\n",
    "# Optimization module in scipy\n",
    "from scipy import optimize\n",
    "\n",
    "# tells matplotlib to embed plots within the notebook\n",
    "%matplotlib inline"
   ]
  },
  {
   "cell_type": "code",
   "execution_count": 3,
   "id": "7ea4f291-f509-4452-ab42-c9f2954f139f",
   "metadata": {},
   "outputs": [
    {
     "data": {
      "text/html": [
       "<div>\n",
       "<style scoped>\n",
       "    .dataframe tbody tr th:only-of-type {\n",
       "        vertical-align: middle;\n",
       "    }\n",
       "\n",
       "    .dataframe tbody tr th {\n",
       "        vertical-align: top;\n",
       "    }\n",
       "\n",
       "    .dataframe thead th {\n",
       "        text-align: right;\n",
       "    }\n",
       "</style>\n",
       "<table border=\"1\" class=\"dataframe\">\n",
       "  <thead>\n",
       "    <tr style=\"text-align: right;\">\n",
       "      <th></th>\n",
       "      <th>0</th>\n",
       "      <th>1</th>\n",
       "      <th>2</th>\n",
       "    </tr>\n",
       "  </thead>\n",
       "  <tbody>\n",
       "    <tr>\n",
       "      <th>0</th>\n",
       "      <td>34.623660</td>\n",
       "      <td>78.024693</td>\n",
       "      <td>0</td>\n",
       "    </tr>\n",
       "    <tr>\n",
       "      <th>1</th>\n",
       "      <td>30.286711</td>\n",
       "      <td>43.894998</td>\n",
       "      <td>0</td>\n",
       "    </tr>\n",
       "    <tr>\n",
       "      <th>2</th>\n",
       "      <td>35.847409</td>\n",
       "      <td>72.902198</td>\n",
       "      <td>0</td>\n",
       "    </tr>\n",
       "    <tr>\n",
       "      <th>3</th>\n",
       "      <td>60.182599</td>\n",
       "      <td>86.308552</td>\n",
       "      <td>1</td>\n",
       "    </tr>\n",
       "    <tr>\n",
       "      <th>4</th>\n",
       "      <td>79.032736</td>\n",
       "      <td>75.344376</td>\n",
       "      <td>1</td>\n",
       "    </tr>\n",
       "  </tbody>\n",
       "</table>\n",
       "</div>"
      ],
      "text/plain": [
       "           0          1  2\n",
       "0  34.623660  78.024693  0\n",
       "1  30.286711  43.894998  0\n",
       "2  35.847409  72.902198  0\n",
       "3  60.182599  86.308552  1\n",
       "4  79.032736  75.344376  1"
      ]
     },
     "execution_count": 3,
     "metadata": {},
     "output_type": "execute_result"
    }
   ],
   "source": [
    "# header=None as the imported data has no header. Otherwise Pandas considers the first row of data as the header\n",
    "data = pd.read_csv('ex2data1.txt', header=None)\n",
    "\n",
    "# data.describe - with no () gives results in a different format\n",
    "data.head()"
   ]
  },
  {
   "cell_type": "code",
   "execution_count": 4,
   "id": "ca1f9711-acda-44db-a097-ebf046a71a4b",
   "metadata": {},
   "outputs": [],
   "source": [
    "# Convert the data into a numpy array\n",
    "X = data.iloc[:,:-1].to_numpy()\n",
    "\n",
    "# I am not totally sure why I have to put the [] on [-1]. On this way I have a list of vectors also on y\n",
    "y = data.iloc[:,[-1]].to_numpy()"
   ]
  },
  {
   "cell_type": "code",
   "execution_count": 5,
   "id": "6a7b9fc7-7509-431f-8b5e-b71fa2d4b768",
   "metadata": {},
   "outputs": [
    {
     "data": {
      "text/plain": [
       "<matplotlib.legend.Legend at 0x1db1ca77130>"
      ]
     },
     "execution_count": 5,
     "metadata": {},
     "output_type": "execute_result"
    },
    {
     "data": {
      "image/png": "[encoded data removed]",
      "text/plain": [
       "<Figure size 432x288 with 1 Axes>"
      ]
     },
     "metadata": {
      "needs_background": "light"
     },
     "output_type": "display_data"
    }
   ],
   "source": [
    "# Plotting the data\n",
    "adm  = X[y.flatten() == 1]\n",
    "nadm = X[y.flatten() == 0]\n",
    "plt.plot(adm[:, 0], adm[:, 1], 'k*', lw=2, ms=10)\n",
    "plt.plot(nadm[:, 0], nadm[:, 1], 'ko', mfc='y', ms=8, mec='k', mew=1)\n",
    "\n",
    "plt.xlabel('Exam 1 score')\n",
    "plt.ylabel('Exam 2 score')\n",
    "plt.legend(['Admitted', 'Not admitted'])"
   ]
  },
  {
   "cell_type": "markdown",
   "id": "52d6a444-e0b3-4593-9515-7bdfc459cd9c",
   "metadata": {},
   "source": [
    "## Implement the sigmoid function"
   ]
  },
  {
   "cell_type": "code",
   "execution_count": 6,
   "id": "75690ab1-bb28-47d2-81cd-e4888e441188",
   "metadata": {},
   "outputs": [
    {
     "data": {
      "text/plain": [
       "array([[0.98201379, 0.99330715, 0.99752738]])"
      ]
     },
     "execution_count": 6,
     "metadata": {},
     "output_type": "execute_result"
    }
   ],
   "source": [
    "sigmoid(np.array([[4, 5, 6]]))"
   ]
  },
  {
   "cell_type": "markdown",
   "id": "e7f6c2d1-495c-40ab-a96f-7531ae2d6bf1",
   "metadata": {},
   "source": [
    "## Cost Function and Gradient descent"
   ]
  },
  {
   "cell_type": "code",
   "execution_count": 7,
   "id": "d8c798b6-c85e-4b31-a510-42988496279e",
   "metadata": {},
   "outputs": [],
   "source": [
    "# m = number of training examples\n",
    "# n = number of features\n",
    "(m,n) = X.shape\n",
    "\n",
    "# Add a ones column to X\n",
    "X = np.append(np.ones((m, 1)), X, axis=1)\n",
    "\n",
    "# Initializa theta as 0s\n",
    "initial_theta = np.zeros((n+1, 1))"
   ]
  },
  {
   "cell_type": "code",
   "execution_count": 8,
   "id": "93d0c1aa-80ea-41fc-a428-2c3e02874a87",
   "metadata": {},
   "outputs": [
    {
     "name": "stdout",
     "output_type": "stream",
     "text": [
      "When theta=[0, 0, 0] the computeCost value is 0.693\n",
      "Expected cost value (approx) 0.693\n",
      "\n"
     ]
    }
   ],
   "source": [
    "cost, grad = costFunction(initial_theta, X, y)\n",
    "\n",
    "print('When theta=[0, 0, 0] the computeCost value is %.3f' %cost)\n",
    "print('Expected cost value (approx) 0.693\\n')"
   ]
  },
  {
   "cell_type": "code",
   "execution_count": 9,
   "id": "5be8b782-ce16-4967-a9a9-ab035f5a5f26",
   "metadata": {},
   "outputs": [
    {
     "name": "stdout",
     "output_type": "stream",
     "text": [
      "Gradient at initial theta (zeros):\n",
      "\t [-0.1000 -12.0092 -11.2628]\n",
      "\n",
      "Expected gradients (approx):\n",
      "\t[-0.1000, -12.0092, -11.2628]\n",
      "\n"
     ]
    }
   ],
   "source": [
    "print('Gradient at initial theta (zeros):')\n",
    "np.set_printoptions(formatter={'float': '{: 0.4f}'.format})\n",
    "print('\\t',grad.flatten())\n",
    "print('\\nExpected gradients (approx):\\n\\t[-0.1000, -12.0092, -11.2628]\\n')"
   ]
  },
  {
   "cell_type": "code",
   "execution_count": 10,
   "id": "4e9c12a1-eedb-430c-9097-17d97135479a",
   "metadata": {},
   "outputs": [
    {
     "name": "stdout",
     "output_type": "stream",
     "text": [
      "When theta= [-24, 0.2, 0.2] the computeCost value is 0.218\n",
      "Expected cost value (approx) 0.218\n",
      "\n"
     ]
    }
   ],
   "source": [
    "cost, grad = costFunction(np.array([[-24, 0.2, 0.2]]).T, X, y)\n",
    "\n",
    "print('When theta= [-24, 0.2, 0.2] the computeCost value is %.3f' %cost)\n",
    "print('Expected cost value (approx) 0.218\\n')"
   ]
  },
  {
   "cell_type": "code",
   "execution_count": 11,
   "id": "799aa493-ac45-4daa-a8b2-4e483524c67a",
   "metadata": {},
   "outputs": [
    {
     "name": "stdout",
     "output_type": "stream",
     "text": [
      "Gradient at initial theta (zeros):\n",
      "\t [ 0.043  2.566  2.647]\n",
      "\n",
      "Expected gradients (approx):\n",
      "\t[0.043, 2.566, 2.647]\n",
      "\n"
     ]
    }
   ],
   "source": [
    "print('Gradient at initial theta (zeros):')\n",
    "np.set_printoptions(formatter={'float': '{: 0.3f}'.format})\n",
    "print('\\t',grad.flatten())\n",
    "print('\\nExpected gradients (approx):\\n\\t[0.043, 2.566, 2.647]\\n')"
   ]
  },
  {
   "cell_type": "markdown",
   "id": "60251fe7-ea4b-48c7-a5a3-d4762f2a1520",
   "metadata": {},
   "source": [
    "## Learning parameters using <code>scipy.optimize</code>"
   ]
  },
  {
   "cell_type": "markdown",
   "id": "477da226-bf4a-41ec-adcf-3ef4e43764d4",
   "metadata": {},
   "source": [
    "Andrew NG's course uses a MATLAB/Octave built-in function called <code>fminunc</code>.\n",
    "Octave/MATLAB's fminunc is an optimization solver that finds the minimum of an unconstrained function. For logistic regression, you want to optimize the cost function $J(\\theta)$ with parameters.\n",
    "Concretely, you are going to use fminunc to find the best parameters $\\theta$ for the logistic regression cost function, given a fixed dataset (of $X$ and y values)."
   ]
  },
  {
   "cell_type": "markdown",
   "id": "70b79db6-61c4-4815-b38f-32fde53b4db9",
   "metadata": {},
   "source": [
    "In this case, using Python, we'll use the <code>scipy.optimize</code> module. SciPy is a numerical computing library for python. It provides an optimization module for root finding and minimization. As of scipy 1.0, the function <code>scipy.optimize.minimize</code> is the method to use for optimization problems(both constrained and unconstrained - constraints refer to constraints for the parameters. For example limiting that <code>theta</code> can only be <1)."
   ]
  },
  {
   "cell_type": "markdown",
   "id": "871f7bd9-3e21-40ba-a033-8bc9ccf7de86",
   "metadata": {},
   "source": [
    "For logistic regression, you want to optimize the cost function with parameters . Concretely, you are going to use <code>optimize.minimize</code> to find the best parameters\n",
    "\n",
    "for the logistic regression cost function, given a fixed dataset (of $X$ and y values). You will pass to <code>optimize.minimize</code> the following inputs:\n",
    "* <code>costFunction</code>: A cost function that, when given the training set and a particular $\\theta$, computes the logistic regression cost and gradient with respect to for the dataset (X, y). It is important to note that we only pass the name of the function without the parenthesis. This indicates that we are only providing a reference to this function, and not evaluating the result from this function.\n",
    "* <code>initial_theta</code>: The initial values of the parameters we are trying to optimize.\n",
    "* <code>(X, y)</code>: These are additional arguments to the cost function.\n",
    "* <code>jac</code>: Indication if the cost function returns the Jacobian (gradient) along with cost value. (True)\n",
    "* <code>method</code>: Optimization method/algorithm to use\n",
    "* <code>options</code>: Additional options which might be specific to the specific optimization method. In the following, we only tell the algorithm the maximum number of iterations before it terminates.\n",
    "\n",
    "If you have completed the costFunction correctly, <code>optimize.minimize</code> will converge on the right optimization parameters and return the final values of the cost and $\\theta$ in a class object. Notice that by using optimize.minimize, you did not have to write any loops yourself, or set a learning rate like you did for gradient descent. This is all done by <code>optimize.minimize</code>: you only needed to provide a function calculating the cost and the gradient."
   ]
  },
  {
   "cell_type": "markdown",
   "id": "384eb2d0-cb2c-4f1b-9964-9c3a087e5881",
   "metadata": {},
   "source": [
    "> More information about <code>scipy.optimize</code> here: https://docs.scipy.org/doc/scipy/reference/generated/scipy.optimize.minimize.html"
   ]
  },
  {
   "cell_type": "markdown",
   "id": "b1a61943-5774-4396-9760-0812bbdc3442",
   "metadata": {},
   "source": [
    "In this case we will use the TNC algoritm, using only the <code>maxiter</code> option. More info here: https://docs.scipy.org/doc/scipy/reference/optimize.minimize-tnc.html#optimize-minimize-tnc"
   ]
  },
  {
   "cell_type": "code",
   "execution_count": 12,
   "id": "5bebbc2a-8aff-4305-8c0b-f49c2d22507d",
   "metadata": {},
   "outputs": [
    {
     "name": "stdout",
     "output_type": "stream",
     "text": [
      "Cost at theta found by optimize.minimize: 0.203\n",
      "Expected cost (approx): 0.203\n",
      "\n",
      "theta:\n",
      "\t[-25.161, 0.206, 0.201]\n",
      "Expected theta (approx):\n",
      "\t[-25.161, 0.206, 0.201]\n"
     ]
    }
   ],
   "source": [
    "# set options for optimize.minimize\n",
    "options= {'maxiter': 400}\n",
    "\n",
    "# The function returns an object `OptimizeResult`\n",
    "# We use truncated Newton algorithm for optimization which is \n",
    "# equivalent to MATLAB's fminunc\n",
    "# See https://stackoverflow.com/questions/18801002/fminunc-alternate-in-numpy\n",
    "res = optimize.minimize(costFunction,\n",
    "                        initial_theta.flatten(),\n",
    "                        (X, y.flatten()),\n",
    "                        jac=True,\n",
    "                        method='TNC',\n",
    "                        options=options)\n",
    "\n",
    "# the fun property of `OptimizeResult` object returns\n",
    "# the value of costFunction at optimized theta\n",
    "cost = res.fun\n",
    "\n",
    "# the optimized theta is in the x property\n",
    "theta = res.x\n",
    "\n",
    "# Print theta to screen\n",
    "print('Cost at theta found by optimize.minimize: {:.3f}'.format(cost))\n",
    "print('Expected cost (approx): 0.203\\n');\n",
    "\n",
    "print('theta:')\n",
    "print('\\t[{:.3f}, {:.3f}, {:.3f}]'.format(*theta))\n",
    "print('Expected theta (approx):\\n\\t[-25.161, 0.206, 0.201]')\n",
    "\n"
   ]
  },
  {
   "cell_type": "markdown",
   "id": "04702c94-1d11-4637-8f9e-88b464586967",
   "metadata": {},
   "source": [
    "> This part of the exercise required me to play a lot with the way the data was passed to the <code>optimize.minimize</code> function. Note the <code>flatten()</code>. Unfortunately <code>optimize.minimize</code> does not work well with column or row vectors. It expects the parameters to be in an array format. <code>flatten()</code> reduces a column or vector row into an array.\n",
    "\n",
    "> Note that we should not set a learning rate. This is all done with the TNC function. We only had to provide the cost function and the gradient.\n",
    "\n",
    "> Thanks to https://medium.com/analytics-vidhya/python-implementation-of-andrew-ngs-machine-learning-course-part-2-1-1a666f049ad6 to help me on this."
   ]
  },
  {
   "cell_type": "markdown",
   "id": "8b06d8d0-353c-4d35-8dba-99697cbc42c7",
   "metadata": {},
   "source": [
    "## Evaluating logistic regression"
   ]
  },
  {
   "cell_type": "markdown",
   "id": "253e6cce-c9a8-4ee2-bbc9-feecf8f70d20",
   "metadata": {},
   "source": [
    "### Plot decision boundary"
   ]
  },
  {
   "cell_type": "code",
   "execution_count": 17,
   "id": "94c55592-b281-4bc1-b89d-eca58893b010",
   "metadata": {},
   "outputs": [
    {
     "data": {
      "text/plain": [
       "[<matplotlib.lines.Line2D at 0x1db1fd58c40>]"
      ]
     },
     "execution_count": 17,
     "metadata": {},
     "output_type": "execute_result"
    },
    {
     "data": {
      "image/png": "[encoded data removed]",
      "text/plain": [
       "<Figure size 432x288 with 1 Axes>"
      ]
     },
     "metadata": {
      "needs_background": "light"
     },
     "output_type": "display_data"
    }
   ],
   "source": [
    "# Plotting the data\n",
    "adm  = X[y.flatten() == 1]\n",
    "nadm = X[y.flatten() == 0]\n",
    "plt.plot(adm[:, 1], adm[:, 2], 'k*', lw=2, ms=10)\n",
    "plt.plot(nadm[:, 1], nadm[:, 2], 'ko', mfc='y', ms=8, mec='k', mew=1)\n",
    "\n",
    "plt.xlabel('Exam 1 score')\n",
    "plt.ylabel('Exam 2 score')\n",
    "plt.legend(['Admitted', 'Not admitted'])\n",
    "\n",
    "# plot_x shows the data points in the x axis\n",
    "plot_x = np.array([np.min(X[:, 1]) - 2, np.max(X[:, 1]) + 2])\n",
    "# Calculate the decision boundary line. This is the line when sigmoid(x)=0.5.\n",
    "# Sigmoid is 0.5 when x=0 (e.power(0)=1). Therefore it is the case when x.dot.theta=0 and thus the following equation\n",
    "plot_y = (-1. / theta[2]) * (theta[1] * plot_x + theta[0])\n",
    "# Plot, and adjust axes for better viewing\n",
    "plt.plot(plot_x, plot_y)"
   ]
  },
  {
   "cell_type": "markdown",
   "id": "182a0475-6c6f-49f4-bd96-0a619283c3b6",
   "metadata": {},
   "source": [
    "### Prediction"
   ]
  },
  {
   "cell_type": "code",
   "execution_count": 10,
   "id": "b2839035-8589-475b-adf3-5d461598b4eb",
   "metadata": {},
   "outputs": [
    {
     "name": "stdout",
     "output_type": "stream",
     "text": [
      "Admission predicted for a student with an Exam 1 score of 45 and an Exam 2 score of 85: 0.7762906224352402\n",
      "\n",
      "Expected value: 0.775 +/- 0.002\n",
      "\n",
      "\n"
     ]
    }
   ],
   "source": [
    "print('Admission predicted for a student with an Exam 1 score of 45 and an Exam 2 score of 85:', sigmoid(np.dot([1, 45, 85],theta.T)))\n",
    "\n",
    "print('\\nExpected value: 0.775 +/- 0.002\\n\\n')"
   ]
  },
  {
   "cell_type": "markdown",
   "id": "bb3dd088-033b-44a0-935f-156f9ab70729",
   "metadata": {},
   "source": [
    "### Prediction's accuracy"
   ]
  },
  {
   "cell_type": "code",
   "execution_count": 15,
   "id": "7652f7b9-7208-4ecd-9445-434fd3c9a975",
   "metadata": {},
   "outputs": [],
   "source": [
    "p=predict(theta, X)"
   ]
  },
  {
   "cell_type": "code",
   "execution_count": 18,
   "id": "95e3d5d8-4a91-49f7-9520-d737dbc523c3",
   "metadata": {},
   "outputs": [],
   "source": [
    "accuracy = np.mean (p == y.flatten())"
   ]
  },
  {
   "cell_type": "code",
   "execution_count": 19,
   "id": "216272d4-68c9-4c2c-84a2-ec68ed262150",
   "metadata": {},
   "outputs": [
    {
     "name": "stdout",
     "output_type": "stream",
     "text": [
      "Train accuracy: 89.0\n",
      "\n",
      "Expected accuracy (approx): 89.0\n",
      "\n",
      "\n",
      "\n"
     ]
    }
   ],
   "source": [
    "print('Train accuracy:', accuracy*100)\n",
    "\n",
    "print('\\nExpected accuracy (approx): 89.0\\n\\n\\n')"
   ]
  }
 ],
 "metadata": {
  "kernelspec": {
   "display_name": "Python 3 (ipykernel)",
   "language": "python",
   "name": "python3"
  },
  "language_info": {
   "codemirror_mode": {
    "name": "ipython",
    "version": 3
   },
   "file_extension": ".py",
   "mimetype": "text/x-python",
   "name": "python",
   "nbconvert_exporter": "python",
   "pygments_lexer": "ipython3",
   "version": "3.10.1"
  }
 },
 "nbformat": 4,
 "nbformat_minor": 5
}
