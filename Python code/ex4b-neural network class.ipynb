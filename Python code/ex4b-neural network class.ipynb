{
 "cells": [
  {
   "cell_type": "markdown",
   "id": "284c5a00",
   "metadata": {},
   "source": [
    "# Programming Exercise 4b: Neural Network Class\n",
    "\n",
    "In this version of the exercise 4 we will achieve the same objective but implementing a NN class in python."
   ]
  },
  {
   "cell_type": "code",
   "execution_count": 1,
   "id": "824a8232",
   "metadata": {},
   "outputs": [],
   "source": [
    "# Importing the needed libraries\n",
    "import pandas as pd\n",
    "import numpy as np\n",
    "import matplotlib.pyplot as plt\n",
    "from neuralNetworkClass import *\n",
    "\n",
    "# We'll use loadmap to load the matlab dataset\n",
    "from scipy.io import loadmat\n",
    "\n",
    "# tells matplotlib to embed plots within the notebook\n",
    "%matplotlib inline"
   ]
  },
  {
   "cell_type": "markdown",
   "id": "81f56e62",
   "metadata": {},
   "source": [
    "In this section we are configuring the NN layers and neurons.\n",
    "Each of the dimensions of the nnDef vector represents a layer. The value for each dimension represents the number of neurons per layer (this is not considering the bias neuron, which is added during the NN training)."
   ]
  },
  {
   "cell_type": "code",
   "execution_count": 10,
   "id": "1628f269",
   "metadata": {},
   "outputs": [],
   "source": [
    "## NN definition\n",
    "input_layer_size  = np.array([400])  # 20x20 Input Images of Digits\n",
    "hidden_layer = np.array([25])   # 25 hidden units\n",
    "num_labels = np.array([10])          # 10 labels, from 0 to 9 - output layer\n",
    "\n",
    "# trying to represent the NN using an array.\n",
    "# nnDef.shape[0] = number of layers\n",
    "# nnDef[i] = number of neurons on layer i\n",
    "nnDef = np.concatenate((input_layer_size, hidden_layer, num_labels), axis=None)"
   ]
  },
  {
   "cell_type": "code",
   "execution_count": 11,
   "id": "df10339e",
   "metadata": {},
   "outputs": [],
   "source": [
    "# Loading all data on a dictonary\n",
    "data = loadmat('ex4data1.mat')\n",
    "\n",
    "# Convert the data into a numpy array\n",
    "X = data['X']\n",
    "y = data['y'].flatten()\n",
    "\n",
    "# m = number of training examples\n",
    "# n = number of features\n",
    "(m,n) = X.shape\n",
    "\n",
    "# note that X has mapped \"0\" to label 10 because Matlab arrays start on 1\n",
    "# We'll normalize the 10 value back to 0, so it matches the 0 digit\n",
    "y[y == 10] = 0"
   ]
  },
  {
   "cell_type": "markdown",
   "id": "f9ca24fa",
   "metadata": {},
   "source": [
    "## Train the NN"
   ]
  },
  {
   "cell_type": "code",
   "execution_count": 12,
   "id": "5d2c73da",
   "metadata": {},
   "outputs": [],
   "source": [
    "# Initialize the NN\n",
    "nn=NNClassifier(nnDef, 500, 2)"
   ]
  },
  {
   "cell_type": "code",
   "execution_count": 13,
   "id": "b9e774eb",
   "metadata": {},
   "outputs": [
    {
     "name": "stdout",
     "output_type": "stream",
     "text": [
      "Cost at theta found by optimize.minimize: 0.459\n"
     ]
    }
   ],
   "source": [
    "# Train the NN\n",
    "nn.fit(X,y)\n",
    "# Print theta to screen\n",
    "print('Cost at theta found by optimize.minimize: {:.3f}'.format(nn.cost))"
   ]
  },
  {
   "cell_type": "code",
   "execution_count": 14,
   "id": "677ba6ef",
   "metadata": {},
   "outputs": [
    {
     "name": "stdout",
     "output_type": "stream",
     "text": [
      "\n",
      "Training Set Accuracy: 98.44 %\n"
     ]
    }
   ],
   "source": [
    "pred = nn.predict(X)\n",
    "print('\\nTraining Set Accuracy: {:.2f} %'.format(np.mean(pred == y) * 100))"
   ]
  },
  {
   "cell_type": "markdown",
   "id": "6e121345",
   "metadata": {},
   "source": [
    "## Test the model with my own handwritten numbers\n",
    "In order to test the model with my own handwritten numbers \n",
    "> I am taking inspiration from this article: \n",
    "> https://medium.com/@ashok.tankala/build-the-mnist-model-with-your-own-handwritten-digits-using-tensorflow-keras-and-python-f8ec9f871fd3\n",
    "\n",
    "The data in the 'data.csv' has been created from handwritten numbers. Follow this 'Image processing experiments with Pillow.ipynb' in the same folder."
   ]
  },
  {
   "cell_type": "code",
   "execution_count": 19,
   "id": "946aac51",
   "metadata": {},
   "outputs": [],
   "source": [
    "data = pd.read_csv('My handwritten numbers\\data.csv', header=None)\n",
    "X_test = data.iloc[:,:].to_numpy(dtype='uint8')"
   ]
  },
  {
   "cell_type": "code",
   "execution_count": 20,
   "id": "de0d02fe",
   "metadata": {},
   "outputs": [],
   "source": [
    "pred = nn.predict(X_test)"
   ]
  },
  {
   "cell_type": "markdown",
   "id": "405341d5",
   "metadata": {},
   "source": [
    "### Compare number and prediction"
   ]
  },
  {
   "cell_type": "code",
   "execution_count": 21,
   "id": "5e90bc1c",
   "metadata": {},
   "outputs": [
    {
     "data": {
      "image/png": "[encoded data removed]",
      "text/plain": [
       "<Figure size 432x288 with 15 Axes>"
      ]
     },
     "metadata": {},
     "output_type": "display_data"
    }
   ],
   "source": [
    "Check_cases = X_test.shape[0]\n",
    "\n",
    "fig, ax = plt.subplots(nrows = 3, ncols = 5, sharex = True, sharey = True)\n",
    "ax = ax.flatten()\n",
    "for i in range(Check_cases):\n",
    "    img = X_test[i].reshape(20,20)\n",
    "    ax[i].imshow(img, cmap = 'Greys', interpolation = 'nearest')\n",
    "    ax[i].set_title('%d) p:%d' % (i+1, pred[i]))\n",
    "ax[0].set_xticks([])\n",
    "ax[0].set_yticks([])\n",
    "plt.tight_layout()\n",
    "plt.show()"
   ]
  },
  {
   "cell_type": "code",
   "execution_count": null,
   "id": "fe788962",
   "metadata": {},
   "outputs": [],
   "source": []
  }
 ],
 "metadata": {
  "kernelspec": {
   "display_name": "Python 3 (ipykernel)",
   "language": "python",
   "name": "python3"
  },
  "language_info": {
   "codemirror_mode": {
    "name": "ipython",
    "version": 3
   },
   "file_extension": ".py",
   "mimetype": "text/x-python",
   "name": "python",
   "nbconvert_exporter": "python",
   "pygments_lexer": "ipython3",
   "version": "3.10.1"
  }
 },
 "nbformat": 4,
 "nbformat_minor": 5
}
