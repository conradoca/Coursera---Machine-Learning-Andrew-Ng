{
 "cells": [
  {
   "cell_type": "markdown",
   "id": "e07acbd7",
   "metadata": {},
   "source": [
    "# Programming Exercise 5b: Regularized Linear Regression and Bias v.s. Variance\n",
    "In this exercise we implement regularized logistic regression using skleanr and not our own defined class.\n",
    "\n",
    "## Load and review the data"
   ]
  },
  {
   "cell_type": "code",
   "execution_count": 2,
   "id": "81875da3",
   "metadata": {},
   "outputs": [],
   "source": [
    "# Importing the needed libraries\n",
    "# import pandas as pd\n",
    "import numpy as np\n",
    "import matplotlib.pyplot as plt\n",
    "\n",
    "# We'll use loadmap to load the matlab dataset\n",
    "from scipy.io import loadmat\n",
    "\n",
    "# tells matplotlib to embed plots within the notebook\n",
    "%matplotlib inline\n",
    "\n",
    "from sklearn.preprocessing import PolynomialFeatures\n",
    "from sklearn.preprocessing import StandardScaler\n",
    "from sklearn.linear_model import LinearRegression"
   ]
  },
  {
   "cell_type": "code",
   "execution_count": 6,
   "id": "9cd6e5f6",
   "metadata": {},
   "outputs": [],
   "source": [
    "# Loading all data on a dictonary\n",
    "data = loadmat('ex5data1.mat')\n",
    "\n",
    "# Convert the data into a numpy array\n",
    "X = data['X']\n",
    "y = data['y'].flatten()\n",
    "Xtest = data['Xtest']\n",
    "ytest = data['ytest'].flatten()\n",
    "Xval = data['Xval']\n",
    "yval = data['yval'].flatten()\n",
    "\n",
    "# m = number of training examples\n",
    "# n = number of features\n",
    "(m,n) = X.shape\n",
    "# Add a ones column to X\n",
    "# X = np.append(np.ones((m, 1)), X, axis=1)\n",
    "# Xval = np.append(np.ones((Xval.shape[0], 1)), Xval, axis=1)\n",
    "# Xtest = np.append(np.ones((Xtest.shape[0], 1)), Xtest, axis=1)"
   ]
  },
  {
   "cell_type": "code",
   "execution_count": 7,
   "id": "1cf4e44a",
   "metadata": {},
   "outputs": [
    {
     "data": {
      "text/plain": [
       "Text(0, 0.5, 'Water flowing out of the dam (y)')"
      ]
     },
     "execution_count": 7,
     "metadata": {},
     "output_type": "execute_result"
    },
    {
     "data": {
      "image/png": "[encoded data removed]",
      "text/plain": [
       "<Figure size 432x288 with 1 Axes>"
      ]
     },
     "metadata": {
      "needs_background": "light"
     },
     "output_type": "display_data"
    }
   ],
   "source": [
    "plt.scatter(X, y, marker='x', color='red')\n",
    "plt.xlabel('Change in water level (x)')\n",
    "plt.ylabel('Water flowing out of the dam (y)')"
   ]
  },
  {
   "cell_type": "markdown",
   "id": "bfc618d4",
   "metadata": {},
   "source": [
    "## Training the model"
   ]
  },
  {
   "cell_type": "code",
   "execution_count": 13,
   "id": "a1e64485",
   "metadata": {},
   "outputs": [],
   "source": [
    "lr = LinearRegression()\n",
    "lr.fit(X, y)\n",
    "y_pred = lr.predict(X)"
   ]
  },
  {
   "cell_type": "code",
   "execution_count": 14,
   "id": "0d818311",
   "metadata": {},
   "outputs": [
    {
     "data": {
      "text/plain": [
       "<matplotlib.legend.Legend at 0x25395f57b50>"
      ]
     },
     "execution_count": 14,
     "metadata": {},
     "output_type": "execute_result"
    },
    {
     "data": {
      "image/png": "[encoded data removed]",
      "text/plain": [
       "<Figure size 432x288 with 1 Axes>"
      ]
     },
     "metadata": {
      "needs_background": "light"
     },
     "output_type": "display_data"
    }
   ],
   "source": [
    "# Using the predict method we plot the bist fit line\n",
    "plt.scatter(X, y, marker='x', color='red')\n",
    "plt.plot(X, y_pred, color='green')\n",
    "plt.xlabel('Change in water level (x)')\n",
    "plt.ylabel('Water flowing out of the dam (y)')\n",
    "plt.legend(['Training data', 'Linear regression'])"
   ]
  },
  {
   "cell_type": "markdown",
   "id": "a986a41d",
   "metadata": {},
   "source": [
    "The values of $\\theta$ are:"
   ]
  },
  {
   "cell_type": "code",
   "execution_count": 15,
   "id": "f37a81ec",
   "metadata": {},
   "outputs": [
    {
     "data": {
      "text/plain": [
       "array([0.36777923])"
      ]
     },
     "execution_count": 15,
     "metadata": {},
     "output_type": "execute_result"
    }
   ],
   "source": [
    "lr.coef_"
   ]
  },
  {
   "cell_type": "markdown",
   "id": "9f034db6",
   "metadata": {},
   "source": [
    "## Learning Curve"
   ]
  },
  {
   "cell_type": "code",
   "execution_count": null,
   "id": "43a97c4e",
   "metadata": {},
   "outputs": [],
   "source": [
    "#This function calculates and plots the learning curve \n",
    "def learningCurve(X_train, y_train, X_val, y_val, epochs, lmbd):\n",
    "    \n",
    "    # m = number of training examples\n",
    "    # n = number of features\n",
    "    (m,n) = X_train.shape\n",
    "    \n",
    "    lr = linearRegression(epochs,lmbd)\n",
    "\n",
    "    for i in range(m):\n",
    "        lr.fit(X_train[:i+1,:],y_train[:i+1])\n",
    "        error_train[i], grad = lr._CostFunction(lr.theta, X_train[:i+1,:], y_train[:i+1], 0)\n",
    "        error_val[i], grad = lr._CostFunction(lr.theta, X_val, y_val, 0)\n",
    "        \n",
    "    # plot the learning curves\n",
    "    plt.xlim(min(range(1, m+1))-1, max(range(1, m+1))+1)\n",
    "    plt.ylim(0, 150)\n",
    "    plt.plot(range(1, m+1), error_train, color='blue')\n",
    "    plt.plot(range(1, m+1), error_val, color='green')\n",
    "    plt.xlabel('Number of training examples')\n",
    "    plt.ylabel('Error')\n",
    "    plt.legend(['Train', 'Cross Validation'])\n",
    "    plt.title('Polynomial Regression with lambda={:.2f}'.format(lmbd))\n",
    "    \n",
    "    return"
   ]
  },
  {
   "cell_type": "markdown",
   "id": "d6e03994",
   "metadata": {},
   "source": [
    "## Polynomial Regression"
   ]
  },
  {
   "cell_type": "code",
   "execution_count": 17,
   "id": "f2aee903",
   "metadata": {},
   "outputs": [],
   "source": [
    "# It is important to understand the following:\n",
    "# From https://scikit-learn.org/stable/modules/generated/sklearn.preprocessing.MinMaxScaler.html\n",
    "# mms.fit -> Compute the minimum and maximum to be used for later scaling\n",
    "# mms.fit_transform ->  Fit to data, then transform it\n",
    "# mms.transform ->  Scale features of X according to feature_range\n",
    "# this helps to transform a test dataset or any new data point\n",
    "\n",
    "# Adding Polynomial degrees and \n",
    "# tandardizing the data using min-max scaling from sklearn\n",
    "trans = PolynomialFeatures(degree=8)\n",
    "stdsc = StandardScaler()\n",
    "\n",
    "# We increment polynomial degrees and standardize all three datasets\n",
    "# We already added the 1s column\n",
    "X_poly = trans.fit_transform(X)\n",
    "X_poly = stdsc.fit_transform(X_poly)\n",
    "\n",
    "X_poly_val = trans.transform(Xval)\n",
    "X_poly_val = stdsc.transform(X_poly_val)\n",
    "\n",
    "X_poly_test = trans.transform(Xtest)\n",
    "X_poly_test = stdsc.transform(X_poly_test)"
   ]
  },
  {
   "cell_type": "code",
   "execution_count": 18,
   "id": "e281cf51",
   "metadata": {},
   "outputs": [
    {
     "data": {
      "text/plain": [
       "array([  0.        ,   9.13124818,  18.17727033,  28.9301793 ,\n",
       "       -27.23824133, -74.47076142,   6.77178106,  60.68644113,\n",
       "        20.63841717])"
      ]
     },
     "execution_count": 18,
     "metadata": {},
     "output_type": "execute_result"
    }
   ],
   "source": [
    "lr = LinearRegression()\n",
    "lr.fit(X_poly, y)\n",
    "lr.coef_"
   ]
  },
  {
   "cell_type": "code",
   "execution_count": 19,
   "id": "fd0170b0",
   "metadata": {},
   "outputs": [],
   "source": [
    "X_fit = np.arange(-100, 100, 5)[:, np.newaxis]\n",
    "X_poly_fit = trans.transform(X_fit)\n",
    "X_poly_fit = stdsc.transform(X_poly_fit)"
   ]
  },
  {
   "cell_type": "code",
   "execution_count": 20,
   "id": "8f778be8",
   "metadata": {},
   "outputs": [
    {
     "data": {
      "text/plain": [
       "<matplotlib.legend.Legend at 0x25395fcfca0>"
      ]
     },
     "execution_count": 20,
     "metadata": {},
     "output_type": "execute_result"
    },
    {
     "data": {
      "image/png": "[encoded data removed]",
      "text/plain": [
       "<Figure size 432x288 with 1 Axes>"
      ]
     },
     "metadata": {
      "needs_background": "light"
     },
     "output_type": "display_data"
    }
   ],
   "source": [
    "# Using the predict method we plot the bist fit line\n",
    "plt.scatter(X, y, marker='x', color='red')\n",
    "plt.plot(X_fit, lr.predict(X_poly_fit), color='green')\n",
    "plt.xlim(-100, 100)\n",
    "plt.ylim(-100, 100)\n",
    "plt.xlabel('Change in water level (x)')\n",
    "plt.ylabel('Water flowing out of the dam (y)')\n",
    "plt.legend(['Training data', 'Linear regression'])\n",
    "# plt.title('Polynomial Regression with lambda={:.2f}'.format(lmbd))"
   ]
  },
  {
   "cell_type": "code",
   "execution_count": null,
   "id": "e344da25",
   "metadata": {},
   "outputs": [],
   "source": []
  }
 ],
 "metadata": {
  "kernelspec": {
   "display_name": "Python 3 (ipykernel)",
   "language": "python",
   "name": "python3"
  },
  "language_info": {
   "codemirror_mode": {
    "name": "ipython",
    "version": 3
   },
   "file_extension": ".py",
   "mimetype": "text/x-python",
   "name": "python",
   "nbconvert_exporter": "python",
   "pygments_lexer": "ipython3",
   "version": "3.10.1"
  }
 },
 "nbformat": 4,
 "nbformat_minor": 5
}
