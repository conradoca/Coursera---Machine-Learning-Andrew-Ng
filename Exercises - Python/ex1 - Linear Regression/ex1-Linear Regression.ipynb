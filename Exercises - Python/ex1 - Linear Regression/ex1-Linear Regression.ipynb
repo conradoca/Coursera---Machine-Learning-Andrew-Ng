{
 "cells": [
  {
   "cell_type": "markdown",
   "id": "c7557be7-e385-461f-bb11-a4ed2ae8b520",
   "metadata": {},
   "source": [
    "# Programming Exercise 1: Linear Regression with one variable"
   ]
  },
  {
   "cell_type": "code",
   "execution_count": 1,
   "id": "7f97d328-2452-4c10-b6ee-ea4442ccb1a3",
   "metadata": {},
   "outputs": [],
   "source": [
    "# Importing the needed libraries\n",
    "import pandas as pd\n",
    "import numpy as np\n",
    "import matplotlib.pyplot as plt\n",
    "from linearRegression import *"
   ]
  },
  {
   "cell_type": "markdown",
   "id": "823c6150-ad3b-4073-9c4b-32bc665c3680",
   "metadata": {},
   "source": [
    "## Load the dataset"
   ]
  },
  {
   "cell_type": "code",
   "execution_count": 2,
   "id": "97edc13b-53e2-4784-94af-6cc31e328e85",
   "metadata": {},
   "outputs": [],
   "source": [
    "# header=None as the imported data has no header. Otherwise Pandas considers the first row of data as the header\n",
    "data = pd.read_csv('ex1data1.txt', header=None)"
   ]
  },
  {
   "cell_type": "code",
   "execution_count": 3,
   "id": "96c8057b-c4df-464e-b330-efcf9c814dad",
   "metadata": {},
   "outputs": [
    {
     "data": {
      "text/html": [
       "<div>\n",
       "<style scoped>\n",
       "    .dataframe tbody tr th:only-of-type {\n",
       "        vertical-align: middle;\n",
       "    }\n",
       "\n",
       "    .dataframe tbody tr th {\n",
       "        vertical-align: top;\n",
       "    }\n",
       "\n",
       "    .dataframe thead th {\n",
       "        text-align: right;\n",
       "    }\n",
       "</style>\n",
       "<table border=\"1\" class=\"dataframe\">\n",
       "  <thead>\n",
       "    <tr style=\"text-align: right;\">\n",
       "      <th></th>\n",
       "      <th>0</th>\n",
       "      <th>1</th>\n",
       "    </tr>\n",
       "  </thead>\n",
       "  <tbody>\n",
       "    <tr>\n",
       "      <th>count</th>\n",
       "      <td>97.000000</td>\n",
       "      <td>97.000000</td>\n",
       "    </tr>\n",
       "    <tr>\n",
       "      <th>mean</th>\n",
       "      <td>8.159800</td>\n",
       "      <td>5.839135</td>\n",
       "    </tr>\n",
       "    <tr>\n",
       "      <th>std</th>\n",
       "      <td>3.869884</td>\n",
       "      <td>5.510262</td>\n",
       "    </tr>\n",
       "    <tr>\n",
       "      <th>min</th>\n",
       "      <td>5.026900</td>\n",
       "      <td>-2.680700</td>\n",
       "    </tr>\n",
       "    <tr>\n",
       "      <th>25%</th>\n",
       "      <td>5.707700</td>\n",
       "      <td>1.986900</td>\n",
       "    </tr>\n",
       "    <tr>\n",
       "      <th>50%</th>\n",
       "      <td>6.589400</td>\n",
       "      <td>4.562300</td>\n",
       "    </tr>\n",
       "    <tr>\n",
       "      <th>75%</th>\n",
       "      <td>8.578100</td>\n",
       "      <td>7.046700</td>\n",
       "    </tr>\n",
       "    <tr>\n",
       "      <th>max</th>\n",
       "      <td>22.203000</td>\n",
       "      <td>24.147000</td>\n",
       "    </tr>\n",
       "  </tbody>\n",
       "</table>\n",
       "</div>"
      ],
      "text/plain": [
       "               0          1\n",
       "count  97.000000  97.000000\n",
       "mean    8.159800   5.839135\n",
       "std     3.869884   5.510262\n",
       "min     5.026900  -2.680700\n",
       "25%     5.707700   1.986900\n",
       "50%     6.589400   4.562300\n",
       "75%     8.578100   7.046700\n",
       "max    22.203000  24.147000"
      ]
     },
     "execution_count": 3,
     "metadata": {},
     "output_type": "execute_result"
    }
   ],
   "source": [
    "data.describe()"
   ]
  },
  {
   "cell_type": "code",
   "execution_count": 1,
   "id": "821be3b2-1e11-41d4-94fe-cfe45ee9e5a1",
   "metadata": {},
   "outputs": [
    {
     "ename": "NameError",
     "evalue": "name 'data' is not defined",
     "output_type": "error",
     "traceback": [
      "\u001b[1;31m---------------------------------------------------------------------------\u001b[0m",
      "\u001b[1;31mNameError\u001b[0m                                 Traceback (most recent call last)",
      "\u001b[1;32mC:\\Users\\CONRAD~1.CAM\\AppData\\Local\\Temp/ipykernel_17716/89701400.py\u001b[0m in \u001b[0;36m<module>\u001b[1;34m\u001b[0m\n\u001b[0;32m      1\u001b[0m \u001b[1;31m# Convert the data into a numpy array\u001b[0m\u001b[1;33m\u001b[0m\u001b[1;33m\u001b[0m\u001b[0m\n\u001b[1;32m----> 2\u001b[1;33m \u001b[0mX\u001b[0m \u001b[1;33m=\u001b[0m \u001b[0mdata\u001b[0m\u001b[1;33m.\u001b[0m\u001b[0miloc\u001b[0m\u001b[1;33m[\u001b[0m\u001b[1;33m:\u001b[0m\u001b[1;33m,\u001b[0m\u001b[1;33m:\u001b[0m\u001b[1;33m-\u001b[0m\u001b[1;36m1\u001b[0m\u001b[1;33m]\u001b[0m\u001b[1;33m.\u001b[0m\u001b[0mto_numpy\u001b[0m\u001b[1;33m(\u001b[0m\u001b[1;33m)\u001b[0m\u001b[1;33m\u001b[0m\u001b[1;33m\u001b[0m\u001b[0m\n\u001b[0m\u001b[0;32m      3\u001b[0m \u001b[1;33m\u001b[0m\u001b[0m\n\u001b[0;32m      4\u001b[0m \u001b[1;31m# I am not totally sure why I have to put the [] on [-1]. On this way I have a list of vectors also on y\u001b[0m\u001b[1;33m\u001b[0m\u001b[1;33m\u001b[0m\u001b[0m\n\u001b[0;32m      5\u001b[0m \u001b[0my\u001b[0m \u001b[1;33m=\u001b[0m \u001b[0mdata\u001b[0m\u001b[1;33m.\u001b[0m\u001b[0miloc\u001b[0m\u001b[1;33m[\u001b[0m\u001b[1;33m:\u001b[0m\u001b[1;33m,\u001b[0m\u001b[1;33m[\u001b[0m\u001b[1;33m-\u001b[0m\u001b[1;36m1\u001b[0m\u001b[1;33m]\u001b[0m\u001b[1;33m]\u001b[0m\u001b[1;33m.\u001b[0m\u001b[0mto_numpy\u001b[0m\u001b[1;33m(\u001b[0m\u001b[1;33m)\u001b[0m\u001b[1;33m\u001b[0m\u001b[1;33m\u001b[0m\u001b[0m\n",
      "\u001b[1;31mNameError\u001b[0m: name 'data' is not defined"
     ]
    }
   ],
   "source": [
    "# Convert the data into a numpy array\n",
    "X = data.iloc[:,:-1].to_numpy()\n",
    "\n",
    "# I am not totally sure why I have to put the [] on [-1]. On this way I have a list of vectors also on y\n",
    "y = data.iloc[:,[-1]].to_numpy()"
   ]
  },
  {
   "cell_type": "code",
   "execution_count": 5,
   "id": "eef2726b-9102-4dc2-95f3-e2f9944d04d5",
   "metadata": {},
   "outputs": [
    {
     "data": {
      "text/plain": [
       "<matplotlib.collections.PathCollection at 0x26fc862f790>"
      ]
     },
     "execution_count": 5,
     "metadata": {},
     "output_type": "execute_result"
    },
    {
     "data": {
      "image/png": "[encoded data removed]",
      "text/plain": [
       "<Figure size 432x288 with 1 Axes>"
      ]
     },
     "metadata": {
      "needs_background": "light"
     },
     "output_type": "display_data"
    }
   ],
   "source": [
    "# Plotting the data\n",
    "plt.xlabel('Population of City in 10,000s')\n",
    "plt.ylabel('Profit in $10,000s')\n",
    "plt.scatter(X,y, marker='x', color='red')"
   ]
  },
  {
   "cell_type": "markdown",
   "id": "177828f3-12c5-415f-b2a6-19760c4dad3c",
   "metadata": {},
   "source": [
    "## Run Gradient Descent"
   ]
  },
  {
   "cell_type": "code",
   "execution_count": 6,
   "id": "b8551c10-84b1-4166-bd28-efaf96165009",
   "metadata": {},
   "outputs": [],
   "source": [
    "# m = number of training examples\n",
    "# n = number of features\n",
    "m = np.size(X,0)\n",
    "n = np.size(X,1)\n",
    "\n",
    "# Add a ones column to X\n",
    "X = np.append(np.ones((m, 1)), X, axis=1)\n",
    "\n",
    "# Initializa theta as 0s\n",
    "theta = np.zeros((n+1, 1))"
   ]
  },
  {
   "cell_type": "code",
   "execution_count": 7,
   "id": "f9cb1e6b-3b5b-4ad2-a8ed-0aa30b316054",
   "metadata": {},
   "outputs": [],
   "source": [
    "iterations = 1500\n",
    "alpha = 0.01"
   ]
  },
  {
   "cell_type": "markdown",
   "id": "9fcf76d0-e2fd-4325-91a7-4b7847e47ed2",
   "metadata": {},
   "source": [
    "### Computing the cost\n",
    "\n",
    "We use the computeCost function"
   ]
  },
  {
   "cell_type": "code",
   "execution_count": 8,
   "id": "632ed8a0-bcb9-466c-a7b3-09b3b4da8ba6",
   "metadata": {},
   "outputs": [
    {
     "name": "stdout",
     "output_type": "stream",
     "text": [
      "When theta=[0, 0] the computeCost value is 32.07\n",
      "Expected cost value (approx) 32.07\n",
      "\n"
     ]
    }
   ],
   "source": [
    "print('When theta=[0, 0] the computeCost value is %.2f' %computeCost(X,y, theta))\n",
    "print('Expected cost value (approx) 32.07\\n')\n"
   ]
  },
  {
   "cell_type": "code",
   "execution_count": 9,
   "id": "017b098a-e395-43f3-a15e-e31cf8782015",
   "metadata": {},
   "outputs": [
    {
     "name": "stdout",
     "output_type": "stream",
     "text": [
      "When theta=[-1 ,2] the computeCost value is 54.24\n",
      "Expected cost value (approx) 54.24\n",
      "\n"
     ]
    }
   ],
   "source": [
    "print('When theta=[-1 ,2] the computeCost value is %.2f' %computeCost(X,y, [[-1], [2]]))\n",
    "print('Expected cost value (approx) 54.24\\n')"
   ]
  },
  {
   "cell_type": "markdown",
   "id": "bbb1383b-57a0-4bbb-a261-e1d548c224b4",
   "metadata": {},
   "source": [
    "### Run gradient descent"
   ]
  },
  {
   "cell_type": "code",
   "execution_count": 10,
   "id": "50bd4a25-6944-4638-841d-6ccbdc62a98e",
   "metadata": {},
   "outputs": [],
   "source": [
    "theta, J_history = gradientDescent(X, y, theta, alpha, iterations)"
   ]
  },
  {
   "cell_type": "code",
   "execution_count": 11,
   "id": "ae7708a5-83ab-4f3e-8ec9-261fa276128a",
   "metadata": {},
   "outputs": [
    {
     "name": "stdout",
     "output_type": "stream",
     "text": [
      "Theta found by gradient descent: [[-3.63029144]\n",
      " [ 1.16636235]]\n",
      "Expected theta values (approx)\n",
      "\n",
      "[-3.6303, 1.1664]\n"
     ]
    }
   ],
   "source": [
    "print('Theta found by gradient descent:', theta)\n",
    "\n",
    "print('Expected theta values (approx)\\n');\n",
    "print('[-3.6303, 1.1664]');"
   ]
  },
  {
   "cell_type": "markdown",
   "id": "6721cae4-050e-48e4-bf3a-f000aff30c87",
   "metadata": {},
   "source": [
    "### Plotting data and using it to do predictions"
   ]
  },
  {
   "cell_type": "code",
   "execution_count": 12,
   "id": "82e4594f-d279-42e6-8f24-c901cacd982d",
   "metadata": {},
   "outputs": [
    {
     "data": {
      "text/plain": [
       "<matplotlib.legend.Legend at 0x26fc86ac250>"
      ]
     },
     "execution_count": 12,
     "metadata": {},
     "output_type": "execute_result"
    },
    {
     "data": {
      "image/png": "[encoded data removed]",
      "text/plain": [
       "<Figure size 432x288 with 1 Axes>"
      ]
     },
     "metadata": {
      "needs_background": "light"
     },
     "output_type": "display_data"
    }
   ],
   "source": [
    "# Plotting the data\n",
    "plt.xlabel('Population of City in 10,000s')\n",
    "plt.ylabel('Profit in $10,000s')\n",
    "plt.scatter(X[:,1],y, marker='x', color='red')\n",
    "plt.plot(X[:,1],X.dot(theta), color='green')\n",
    "plt.legend(['Training data', 'Linear regression'])"
   ]
  },
  {
   "cell_type": "code",
   "execution_count": 13,
   "id": "6b1a5718-825c-4ac7-8b83-bff87898a3ad",
   "metadata": {},
   "outputs": [
    {
     "name": "stdout",
     "output_type": "stream",
     "text": [
      "for population 35,000, we predict a profit of  [4519.7678677]\n",
      "for population 70,000, we predict a profit of  [45342.45012945]\n"
     ]
    }
   ],
   "source": [
    "print('for population 35,000, we predict a profit of ', np.dot([1, 3.5], theta)*10000)\n",
    "print('for population 70,000, we predict a profit of ', np.dot([1, 7], theta)*10000)"
   ]
  },
  {
   "cell_type": "markdown",
   "id": "693f6d29-c8cf-40cb-a86b-5155f48bfd4a",
   "metadata": {},
   "source": [
    "## Visualizing some graphs\n",
    "\n",
    "### Cost versus iterations"
   ]
  },
  {
   "cell_type": "code",
   "execution_count": 14,
   "id": "b6975ab5-a800-476f-8197-60857d0454cf",
   "metadata": {},
   "outputs": [
    {
     "data": {
      "text/plain": [
       "[<matplotlib.lines.Line2D at 0x26fca7e3370>]"
      ]
     },
     "execution_count": 14,
     "metadata": {},
     "output_type": "execute_result"
    },
    {
     "data": {
      "image/png": "[encoded data removed]",
      "text/plain": [
       "<Figure size 432x288 with 1 Axes>"
      ]
     },
     "metadata": {
      "needs_background": "light"
     },
     "output_type": "display_data"
    }
   ],
   "source": [
    "plt.xlabel('Number of iterations')\n",
    "plt.ylabel('J')\n",
    "plt.plot(np.arange(0, iterations, 1), J_history, color='green')"
   ]
  },
  {
   "cell_type": "markdown",
   "id": "cebcc87c-404f-4732-ade8-cfae8324c846",
   "metadata": {},
   "source": [
    "### Visualizing $J(\\theta)$"
   ]
  },
  {
   "cell_type": "code",
   "execution_count": 15,
   "id": "909bf3c2-522b-4055-bffc-cb0fb80b57ab",
   "metadata": {},
   "outputs": [],
   "source": [
    "theta0_vals = np.linspace(-10, 10, 100)\n",
    "theta1_vals = np.linspace(-1, 4, 100)\n",
    "J_vals = np.zeros((len(theta0_vals),len(theta1_vals)))\n",
    "\n",
    "\n"
   ]
  },
  {
   "cell_type": "code",
   "execution_count": 16,
   "id": "33e93a90-5fb3-4721-9978-0d1d6d8cd975",
   "metadata": {},
   "outputs": [],
   "source": [
    "for i in range(len(theta0_vals)):\n",
    "    for j in range(len(theta1_vals)):\n",
    "        t = ([[theta0_vals[i]], [theta1_vals[j]]])\n",
    "        J_vals[i, j] = computeCost(X, y, t)\n",
    "J_vals = J_vals.T"
   ]
  },
  {
   "cell_type": "code",
   "execution_count": 17,
   "id": "3fdf00db-6cce-4aa4-adc6-7021be68c939",
   "metadata": {},
   "outputs": [
    {
     "data": {
      "image/png": "[encoded data removed]",
      "text/plain": [
       "<Figure size 432x288 with 1 Axes>"
      ]
     },
     "metadata": {
      "needs_background": "light"
     },
     "output_type": "display_data"
    }
   ],
   "source": [
    "fig, ax = plt.subplots(subplot_kw={\"projection\": \"3d\"})\n",
    "surf = ax.plot_surface(theta0_vals, theta1_vals, J_vals, cmap='viridis',\n",
    "                       linewidth=0)"
   ]
  },
  {
   "cell_type": "code",
   "execution_count": 18,
   "id": "1454f760-d658-48ea-85fd-2a5bdd427c8f",
   "metadata": {},
   "outputs": [
    {
     "data": {
      "text/plain": [
       "Text(0.5, 1.0, 'Contour, showing minimum')"
      ]
     },
     "execution_count": 18,
     "metadata": {},
     "output_type": "execute_result"
    },
    {
     "data": {
      "image/png": "[encoded data removed]",
      "text/plain": [
       "<Figure size 432x288 with 1 Axes>"
      ]
     },
     "metadata": {
      "needs_background": "light"
     },
     "output_type": "display_data"
    }
   ],
   "source": [
    "ax = plt.subplot(122)\n",
    "plt.contour(theta0_vals, theta1_vals, J_vals, linewidths=2, cmap='viridis', levels=np.logspace(-2, 3, 20))\n",
    "plt.xlabel('theta0')\n",
    "plt.ylabel('theta1')\n",
    "plt.plot(theta[0], theta[1], 'ro', ms=10, lw=2)\n",
    "plt.title('Contour, showing minimum')"
   ]
  },
  {
   "cell_type": "markdown",
   "id": "daf33422-94f3-4f69-a1a0-8cd8323078e0",
   "metadata": {},
   "source": [
    "# Programming Exercise 1: Linear Regression with multiple variables"
   ]
  },
  {
   "cell_type": "markdown",
   "id": "e0232501-2ade-4fd1-9323-1ff38e4a9cd1",
   "metadata": {},
   "source": [
    "## Load the dataset"
   ]
  },
  {
   "cell_type": "code",
   "execution_count": 19,
   "id": "f64ef680-3338-4ee1-88e3-104d62c54ef0",
   "metadata": {},
   "outputs": [],
   "source": [
    "# Importing the needed libraries\n",
    "import pandas as pd\n",
    "import numpy as np\n",
    "import matplotlib.pyplot as plt\n",
    "from linearRegression import *"
   ]
  },
  {
   "cell_type": "code",
   "execution_count": 20,
   "id": "b06320a6-f8ee-43eb-828e-62a0d3227e64",
   "metadata": {},
   "outputs": [],
   "source": [
    "# header=None as the imported data has no header. Otherwise Pandas considers the first row of data as the header\n",
    "data = pd.read_csv('ex1data2.txt', header=None)"
   ]
  },
  {
   "cell_type": "code",
   "execution_count": 21,
   "id": "8ec3d29a-d685-42ce-80f0-0d70a0d13a31",
   "metadata": {},
   "outputs": [
    {
     "data": {
      "text/html": [
       "<div>\n",
       "<style scoped>\n",
       "    .dataframe tbody tr th:only-of-type {\n",
       "        vertical-align: middle;\n",
       "    }\n",
       "\n",
       "    .dataframe tbody tr th {\n",
       "        vertical-align: top;\n",
       "    }\n",
       "\n",
       "    .dataframe thead th {\n",
       "        text-align: right;\n",
       "    }\n",
       "</style>\n",
       "<table border=\"1\" class=\"dataframe\">\n",
       "  <thead>\n",
       "    <tr style=\"text-align: right;\">\n",
       "      <th></th>\n",
       "      <th>0</th>\n",
       "      <th>1</th>\n",
       "      <th>2</th>\n",
       "    </tr>\n",
       "  </thead>\n",
       "  <tbody>\n",
       "    <tr>\n",
       "      <th>count</th>\n",
       "      <td>47.000000</td>\n",
       "      <td>47.000000</td>\n",
       "      <td>47.000000</td>\n",
       "    </tr>\n",
       "    <tr>\n",
       "      <th>mean</th>\n",
       "      <td>2000.680851</td>\n",
       "      <td>3.170213</td>\n",
       "      <td>340412.659574</td>\n",
       "    </tr>\n",
       "    <tr>\n",
       "      <th>std</th>\n",
       "      <td>794.702354</td>\n",
       "      <td>0.760982</td>\n",
       "      <td>125039.899586</td>\n",
       "    </tr>\n",
       "    <tr>\n",
       "      <th>min</th>\n",
       "      <td>852.000000</td>\n",
       "      <td>1.000000</td>\n",
       "      <td>169900.000000</td>\n",
       "    </tr>\n",
       "    <tr>\n",
       "      <th>25%</th>\n",
       "      <td>1432.000000</td>\n",
       "      <td>3.000000</td>\n",
       "      <td>249900.000000</td>\n",
       "    </tr>\n",
       "    <tr>\n",
       "      <th>50%</th>\n",
       "      <td>1888.000000</td>\n",
       "      <td>3.000000</td>\n",
       "      <td>299900.000000</td>\n",
       "    </tr>\n",
       "    <tr>\n",
       "      <th>75%</th>\n",
       "      <td>2269.000000</td>\n",
       "      <td>4.000000</td>\n",
       "      <td>384450.000000</td>\n",
       "    </tr>\n",
       "    <tr>\n",
       "      <th>max</th>\n",
       "      <td>4478.000000</td>\n",
       "      <td>5.000000</td>\n",
       "      <td>699900.000000</td>\n",
       "    </tr>\n",
       "  </tbody>\n",
       "</table>\n",
       "</div>"
      ],
      "text/plain": [
       "                 0          1              2\n",
       "count    47.000000  47.000000      47.000000\n",
       "mean   2000.680851   3.170213  340412.659574\n",
       "std     794.702354   0.760982  125039.899586\n",
       "min     852.000000   1.000000  169900.000000\n",
       "25%    1432.000000   3.000000  249900.000000\n",
       "50%    1888.000000   3.000000  299900.000000\n",
       "75%    2269.000000   4.000000  384450.000000\n",
       "max    4478.000000   5.000000  699900.000000"
      ]
     },
     "execution_count": 21,
     "metadata": {},
     "output_type": "execute_result"
    }
   ],
   "source": [
    "data.describe()"
   ]
  },
  {
   "cell_type": "code",
   "execution_count": 22,
   "id": "05306d92-a646-4f4f-b364-9a2a590d0f8a",
   "metadata": {},
   "outputs": [],
   "source": [
    "# Convert the data into a numpy array\n",
    "X = data.iloc[:,:-1].to_numpy()\n",
    "\n",
    "# I am not totally sure why I have to put the [] on [-1]. On this way I have a list of vectors also on y\n",
    "y = data.iloc[:,[-1]].to_numpy()"
   ]
  },
  {
   "cell_type": "code",
   "execution_count": 23,
   "id": "f16f7135-3b17-451f-9d07-d3d033daded3",
   "metadata": {},
   "outputs": [
    {
     "data": {
      "text/plain": [
       "<matplotlib.collections.PathCollection at 0x26fcba8dc30>"
      ]
     },
     "execution_count": 23,
     "metadata": {},
     "output_type": "execute_result"
    },
    {
     "data": {
      "image/png": "[encoded data removed]",
      "text/plain": [
       "<Figure size 432x288 with 1 Axes>"
      ]
     },
     "metadata": {
      "needs_background": "light"
     },
     "output_type": "display_data"
    }
   ],
   "source": [
    "## Plot the data\n",
    "plt.xlabel('House size (sqf)')\n",
    "plt.ylabel('Number of bedrooms')\n",
    "plt.scatter(X[:,0],X[:,1], marker='x', color='red')"
   ]
  },
  {
   "cell_type": "markdown",
   "id": "4ef59ae3-7f89-483b-b386-e4ddea2c3bf0",
   "metadata": {},
   "source": [
    "## Normalize the data\n",
    "\n",
    "We'll be normalizing the data using both our own function in the linearRegression.py library and the minmax scaling from sklearn"
   ]
  },
  {
   "cell_type": "code",
   "execution_count": 24,
   "id": "59ffbca0-9f04-480c-ab01-77edb712574b",
   "metadata": {},
   "outputs": [],
   "source": [
    "# Normalizing the data using our own function\n",
    "Xnorm = normalizeData(X)\n",
    "ynorm = normalizeData(y)"
   ]
  },
  {
   "cell_type": "code",
   "execution_count": 25,
   "id": "f0949601-7fd6-4d3e-b955-84c288c4a8d8",
   "metadata": {},
   "outputs": [
    {
     "data": {
      "text/plain": [
       "<matplotlib.collections.PathCollection at 0x26fcbb9ab60>"
      ]
     },
     "execution_count": 25,
     "metadata": {},
     "output_type": "execute_result"
    },
    {
     "data": {
      "image/png": "[encoded data removed]",
      "text/plain": [
       "<Figure size 432x288 with 1 Axes>"
      ]
     },
     "metadata": {
      "needs_background": "light"
     },
     "output_type": "display_data"
    }
   ],
   "source": [
    "## Plot the normalized data\n",
    "plt.xlabel('House size (sqf)')\n",
    "plt.ylabel('Number of bedrooms')\n",
    "plt.scatter(Xnorm[:,0],Xnorm[:,1], marker='x', color='red')"
   ]
  },
  {
   "cell_type": "code",
   "execution_count": 26,
   "id": "2e192302-9c68-4fcb-9557-7466ee5924b3",
   "metadata": {},
   "outputs": [],
   "source": [
    "# Normalizing the data using min-max scaling from sklearn\n",
    "from sklearn.preprocessing import MinMaxScaler\n",
    "mms = MinMaxScaler()\n",
    "y_SKnorm = mms.fit_transform(y)\n",
    "X_SKnorm = mms.fit_transform(X)\n",
    "\n",
    "# It is important to understand the following:\n",
    "# From https://scikit-learn.org/stable/modules/generated/sklearn.preprocessing.MinMaxScaler.html\n",
    "# mms.fit -> Compute the minimum and maximum to be used for later scaling\n",
    "# mms.fit_transform ->  Fit to data, then transform it\n",
    "# mms.transform ->  Scale features of X according to feature_range\n",
    "# this helps to transform a test dataset or any new data point"
   ]
  },
  {
   "cell_type": "code",
   "execution_count": 27,
   "id": "d895f6c4-c97e-43c5-8835-be4e556299e1",
   "metadata": {},
   "outputs": [
    {
     "data": {
      "text/plain": [
       "array([[0.22007722, 0.5       ]])"
      ]
     },
     "execution_count": 27,
     "metadata": {},
     "output_type": "execute_result"
    }
   ],
   "source": [
    "mms.transform([[1650, 3]])"
   ]
  },
  {
   "cell_type": "markdown",
   "id": "baff3b9f-08a9-4f5e-87af-a9d8c76498d3",
   "metadata": {},
   "source": [
    "## Standardize the data\n",
    "\n",
    "As on the normalization part we'll be standardizing the data using both our own function in the linearRegression.py library and the StandardScaler scaling from sklearn"
   ]
  },
  {
   "cell_type": "code",
   "execution_count": 28,
   "id": "3eba2bfc-be9a-48f4-91ac-eed77c3b41c4",
   "metadata": {},
   "outputs": [],
   "source": [
    "# Standardizing the data using our own function\n",
    "Xstd = standardizeData(X)\n",
    "ystd = standardizeData(y)"
   ]
  },
  {
   "cell_type": "code",
   "execution_count": 29,
   "id": "57a9bd05-9f5f-4b84-a1e5-3945337b1960",
   "metadata": {},
   "outputs": [],
   "source": [
    "# Standardizing the data using min-max scaling from sklearn\n",
    "from sklearn.preprocessing import StandardScaler\n",
    "stdsc = StandardScaler()\n",
    "X_SKstd = stdsc.fit_transform(X)\n",
    "y_SKstd = stdsc.fit_transform(y)"
   ]
  },
  {
   "cell_type": "markdown",
   "id": "bb5e3691-9b1f-4b4e-a2d9-5de8cf977f49",
   "metadata": {},
   "source": [
    "### Run Gradient descent on the normalized dataset"
   ]
  },
  {
   "cell_type": "code",
   "execution_count": 30,
   "id": "aea0c8c7-bdd4-404c-aca7-d1b07a01027c",
   "metadata": {},
   "outputs": [],
   "source": [
    "# m = number of training examples\n",
    "# n = number of features\n",
    "m = np.size(Xnorm,0)\n",
    "n = np.size(Xnorm,1)\n",
    "\n",
    "# Add a ones column to Xnorm\n",
    "X = np.append(np.ones((m, 1)), Xnorm, axis=1)\n",
    "\n",
    "# Initializa theta as 0s\n",
    "theta = np.zeros((n+1, 1))"
   ]
  },
  {
   "cell_type": "code",
   "execution_count": 31,
   "id": "006850f0-e072-4c20-b693-dc7ca548997c",
   "metadata": {},
   "outputs": [],
   "source": [
    "# Choose some alpha value\n",
    "# alpha = 0.01 in the case the convergence speed is much lower! It needs num_iters = 2500 to reach the normalEquation result\n",
    "# alpha = 0.1 in the case the convergence speed is fast! with 400 iters it converges!\n",
    "alpha = 0.1\n",
    "num_iters = 500"
   ]
  },
  {
   "cell_type": "code",
   "execution_count": 32,
   "id": "9f3e55e3-5442-42fc-bf0b-26d3d3d3bfc2",
   "metadata": {},
   "outputs": [],
   "source": [
    "# Run Gradient descent\n",
    "theta, J_history = gradientDescent(X, y, theta, alpha, num_iters)"
   ]
  },
  {
   "cell_type": "code",
   "execution_count": 33,
   "id": "99338bf9-3a95-4f47-b8ef-66b081956221",
   "metadata": {},
   "outputs": [
    {
     "data": {
      "text/plain": [
       "[<matplotlib.lines.Line2D at 0x26fdad5d0f0>]"
      ]
     },
     "execution_count": 33,
     "metadata": {},
     "output_type": "execute_result"
    },
    {
     "data": {
      "image/png": "[encoded data removed]",
      "text/plain": [
       "<Figure size 432x288 with 1 Axes>"
      ]
     },
     "metadata": {
      "needs_background": "light"
     },
     "output_type": "display_data"
    }
   ],
   "source": [
    "plt.xlabel('Number of iterations')\n",
    "plt.ylabel('J')\n",
    "plt.plot(np.arange(0, num_iters, 1), J_history, color='green')"
   ]
  },
  {
   "cell_type": "markdown",
   "id": "0d887990-2fdd-4934-929a-65ac8da5881b",
   "metadata": {},
   "source": [
    "## Make a prediction\n",
    "\n",
    "Once we have found $\\theta$ using use it to make a price prediction for a 1650-square-foot house with 3 bedrooms."
   ]
  },
  {
   "cell_type": "code",
   "execution_count": 34,
   "id": "295d39d1-f20d-4b26-88d8-20d248d06663",
   "metadata": {},
   "outputs": [
    {
     "name": "stdout",
     "output_type": "stream",
     "text": [
      "for a 1650-square-foot house with 3 bedrooms, we predict a price of  [298336.15910797]\n"
     ]
    }
   ],
   "source": [
    "print('for a 1650-square-foot house with 3 bedrooms, we predict a price of ', np.dot(np.append([1], mms.transform([[1650, 3]])), theta))"
   ]
  },
  {
   "cell_type": "markdown",
   "id": "d7f70e5a-aa73-444b-8491-c9aca3e6d3be",
   "metadata": {},
   "source": [
    "Note that I had to normalize the input value"
   ]
  },
  {
   "cell_type": "markdown",
   "id": "8f629d6e-fa5d-45c8-8728-ddd2c89db349",
   "metadata": {},
   "source": [
    "## Testing the values using Coursera Ex1 Test Cases"
   ]
  },
  {
   "cell_type": "code",
   "execution_count": 35,
   "id": "1dbf6909-e7e0-40de-a095-6aca0034d89d",
   "metadata": {},
   "outputs": [
    {
     "data": {
      "text/plain": [
       "array([5.295])"
      ]
     },
     "execution_count": 35,
     "metadata": {},
     "output_type": "execute_result"
    }
   ],
   "source": [
    "# Testing the cases using corsera: https://www.coursera.org/learn/machine-learning/discussions/all/threads/5wftpZnyEeWKNwpBrKr_Fw\n",
    "X1 = np.array([[2, 1, 3], [7, 1, 9], [1, 8, 1], [3, 7, 4]])\n",
    "y1 = np.array([[2] , [5] , [5] ,[6]])\n",
    "theta_test = np.array([[0.4], [0.6],[0.8]])\n",
    "computeCost( X1, y1, theta_test )"
   ]
  },
  {
   "cell_type": "code",
   "execution_count": 36,
   "id": "06adbf8d-962f-4b2a-8f6d-743272e9bd68",
   "metadata": {},
   "outputs": [
    {
     "data": {
      "text/plain": [
       "array([[0.1855552 ],\n",
       "       [0.50436048],\n",
       "       [0.40137032]])"
      ]
     },
     "execution_count": 36,
     "metadata": {},
     "output_type": "execute_result"
    }
   ],
   "source": [
    "X2 = np.array([[2, 1, 3], [7, 1, 9], [1, 8, 1], [3, 7, 4]])\n",
    "y2 = np.array([[2], [5],[5],[6]])\n",
    "theta, J_history = gradientDescent(X2, y2, np.array([[0.1],[-0.2],[0.3]]), 0.01, 10)\n",
    "theta"
   ]
  },
  {
   "cell_type": "code",
   "execution_count": 37,
   "id": "6a63a95f-2d2e-4dad-b8f0-87e59fc254d4",
   "metadata": {},
   "outputs": [
    {
     "data": {
      "text/plain": [
       "array([3.63254683, 1.76609451, 1.02151689, 0.64100838, 0.41530551,\n",
       "       0.27229629, 0.1793844 , 0.11847852, 0.07842877, 0.05206495])"
      ]
     },
     "execution_count": 37,
     "metadata": {},
     "output_type": "execute_result"
    }
   ],
   "source": [
    "J_history"
   ]
  },
  {
   "cell_type": "code",
   "execution_count": null,
   "id": "946ebc03",
   "metadata": {},
   "outputs": [],
   "source": []
  }
 ],
 "metadata": {
  "kernelspec": {
   "display_name": "Python 3 (ipykernel)",
   "language": "python",
   "name": "python3"
  },
  "language_info": {
   "codemirror_mode": {
    "name": "ipython",
    "version": 3
   },
   "file_extension": ".py",
   "mimetype": "text/x-python",
   "name": "python",
   "nbconvert_exporter": "python",
   "pygments_lexer": "ipython3",
   "version": "3.10.1"
  }
 },
 "nbformat": 4,
 "nbformat_minor": 5
}
