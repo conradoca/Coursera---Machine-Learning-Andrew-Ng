{
 "cells": [
  {
   "cell_type": "markdown",
   "id": "9c9114cf",
   "metadata": {},
   "source": [
    "# MNIST classification with SVM\n",
    "We will try to use SVM to classify the numbers in the MNIST dataset:\n",
    ">This exercise is inspired in: https://scikit-learn.org/stable/auto_examples/classification/plot_digits_classification.html"
   ]
  },
  {
   "cell_type": "code",
   "execution_count": 2,
   "id": "4e08ef10",
   "metadata": {},
   "outputs": [],
   "source": [
    "# Importing the needed libraries\n",
    "import os\n",
    "import struct\n",
    "import numpy as np\n",
    "import matplotlib.pyplot as plt\n",
    "\n",
    "# tells matplotlib to embed plots within the notebook\n",
    "%matplotlib inline\n",
    "\n",
    "from sklearn.svm import SVC\n",
    "from sklearn.model_selection import GridSearchCV"
   ]
  },
  {
   "cell_type": "markdown",
   "id": "80e02db0",
   "metadata": {},
   "source": [
    "## Load the dataset"
   ]
  },
  {
   "cell_type": "code",
   "execution_count": 3,
   "id": "b41b9cb1",
   "metadata": {},
   "outputs": [],
   "source": [
    "# This function will open whatever labels mnist file and return the data\n",
    "def load_mnist_labels(path):\n",
    "    # Open the file rb means read only + binary\n",
    "    with open(path, 'rb') as lbpath:\n",
    "        magic, n = struct.unpack('>II', lbpath.read(8))\n",
    "        labels = np.fromfile(lbpath, dtype=np.uint8)\n",
    "    return labels\n",
    "\n",
    "# This function will open whatever images mnist file and return the data\n",
    "# \n",
    "def load_mnist_images(path):\n",
    "    # Open the file rb means read only + binary\n",
    "    with open(path, 'rb') as imgpath:\n",
    "        magic, n, rows, cols = struct.unpack('>IIII', imgpath.read(16))\n",
    "        images_data = np.fromfile(imgpath, dtype=np.uint8)\n",
    "        # with reshape with reorganize the array into n rows, \n",
    "        # where every row is the image data flat \n",
    "        images = np.reshape(images_data, (n, rows*cols))\n",
    "    return images"
   ]
  },
  {
   "cell_type": "code",
   "execution_count": 4,
   "id": "6fe47d38",
   "metadata": {},
   "outputs": [],
   "source": [
    "mnistFolder=r\"..\\ex3 - MultiClass Classification + NN intro\\MNIST database\"\n",
    "trainImages = mnistFolder + '\\\\train-images.idx3-ubyte'\n",
    "trainLabels = mnistFolder + '\\\\train-labels.idx1-ubyte'\n",
    "testImages = mnistFolder + '\\\\t10k-images.idx3-ubyte'\n",
    "testLabels = mnistFolder + '\\\\t10k-labels.idx1-ubyte'\n",
    "\n",
    "# labels = load_mnist_labels(testLabels)\n",
    "X_train = load_mnist_images(trainImages)\n",
    "y_train = load_mnist_labels(trainLabels)\n",
    "X_test = load_mnist_images(testImages)\n",
    "y_test = load_mnist_labels(testLabels)"
   ]
  },
  {
   "cell_type": "markdown",
   "id": "8c09af4f",
   "metadata": {},
   "source": [
    "## Train and test the model"
   ]
  },
  {
   "cell_type": "code",
   "execution_count": 5,
   "id": "f59989cb",
   "metadata": {},
   "outputs": [
    {
     "data": {
      "text/plain": [
       "SVC(gamma=0.001)"
      ]
     },
     "execution_count": 5,
     "metadata": {},
     "output_type": "execute_result"
    }
   ],
   "source": [
    "svm = SVC(gamma=0.001)\n",
    "svm.fit(X_train,y_train)"
   ]
  },
  {
   "cell_type": "code",
   "execution_count": 7,
   "id": "3557e1da",
   "metadata": {},
   "outputs": [
    {
     "name": "stdout",
     "output_type": "stream",
     "text": [
      "Test accuracy: 0.114\n"
     ]
    }
   ],
   "source": [
    "pred = svm.predict(X_test)\n",
    "print('Test accuracy: %.3f' %svm.score(X_test, y_test))"
   ]
  },
  {
   "cell_type": "markdown",
   "id": "b191ca89",
   "metadata": {},
   "source": [
    "## Train the model with GridSearchCV"
   ]
  },
  {
   "cell_type": "code",
   "execution_count": null,
   "id": "e09a7696",
   "metadata": {},
   "outputs": [
    {
     "name": "stdout",
     "output_type": "stream",
     "text": [
      "Fitting 10 folds for each of 1 candidates, totalling 10 fits\n"
     ]
    }
   ],
   "source": [
    "param_range = [0.0001, 0.001, 0.01, 0.1, 1, 10, 100]\n",
    "param_grid = [{'C' : param_range,\n",
    "               'kernel': ['linear']},\n",
    "              {'C' : param_range,\n",
    "               'gamma': param_range,\n",
    "               'kernel': ['rbf']}]\n",
    "\n",
    " \n",
    "gs = GridSearchCV(estimator=SVC(random_state=1),\n",
    "                 param_grid=param_grid,\n",
    "                 scoring='accuracy',\n",
    "                 cv=10,\n",
    "                 refit=True,\n",
    "                 n_jobs=-1,\n",
    "                 verbose=3)\n",
    "\n",
    "gs.fit(X_train, y_train)"
   ]
  },
  {
   "cell_type": "code",
   "execution_count": null,
   "id": "c30abf6d",
   "metadata": {},
   "outputs": [],
   "source": [
    "gs.best_params_, gs.best_score_"
   ]
  },
  {
   "cell_type": "markdown",
   "id": "1a6eea7a",
   "metadata": {},
   "source": [
    "### Predict the Test Dataset"
   ]
  },
  {
   "cell_type": "code",
   "execution_count": null,
   "id": "01e7935b",
   "metadata": {},
   "outputs": [],
   "source": [
    "pred = gs.predict(Xtest)\n",
    "print('Test accuracy: %.3f' %gs.score(Xtest, ytest))"
   ]
  },
  {
   "cell_type": "markdown",
   "id": "70419f7e",
   "metadata": {},
   "source": [
    "## Check the cases not predicted properly"
   ]
  },
  {
   "cell_type": "code",
   "execution_count": null,
   "id": "affffbb5",
   "metadata": {},
   "outputs": [],
   "source": [
    "Check_cases = 25\n",
    "\n",
    "# First we identify the cases where the prediction \n",
    "# is not correct - misclassified \n",
    "misclX = Xtest[pred != ytest]\n",
    "correct_label = ytest[pred != ytest]\n",
    "miscl_label = pred[pred !=ytest]\n",
    "\n",
    "miscl_m = miscl_label.size\n",
    "\n",
    "# We get a testCases random datapoints. First we get a number of testCases indices out of m\n",
    "rand_indices = np.random.choice(miscl_m, Check_cases, replace=False)\n",
    "\n",
    "sel_misclX = misclX[rand_indices, :]\n",
    "sel_correct_label = correct_label[rand_indices]\n",
    "sel_miscl_label = miscl_label[rand_indices]"
   ]
  },
  {
   "cell_type": "code",
   "execution_count": null,
   "id": "5ef560a1",
   "metadata": {},
   "outputs": [],
   "source": [
    "fig, ax = plt.subplots(nrows = 5, ncols = 5, sharex = True, sharey = True)\n",
    "ax = ax.flatten()\n",
    "for i in range(Check_cases):\n",
    "    img = sel_misclX[i].reshape(28,28)\n",
    "    ax[i].imshow(img, cmap = 'Greys', interpolation = 'nearest')\n",
    "    ax[i].set_title('%d) t:%d p:%d' % (i+1,sel_correct_label[i], sel_miscl_label[i]))\n",
    "ax[0].set_xticks([])\n",
    "ax[0].set_yticks([])\n",
    "plt.tight_layout()\n",
    "plt.show()"
   ]
  }
 ],
 "metadata": {
  "kernelspec": {
   "display_name": "Python 3 (ipykernel)",
   "language": "python",
   "name": "python3"
  },
  "language_info": {
   "codemirror_mode": {
    "name": "ipython",
    "version": 3
   },
   "file_extension": ".py",
   "mimetype": "text/x-python",
   "name": "python",
   "nbconvert_exporter": "python",
   "pygments_lexer": "ipython3",
   "version": "3.10.1"
  }
 },
 "nbformat": 4,
 "nbformat_minor": 5
}
