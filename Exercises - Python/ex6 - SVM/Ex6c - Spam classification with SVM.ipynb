{
 "cells": [
  {
   "cell_type": "markdown",
   "id": "3c52328d",
   "metadata": {},
   "source": [
    "# Ex6c - Spam classification with SVM\n",
    "Here we use what we have learned in the Email Features Extraction developed on the previous notebook to create a function that runs the work for us."
   ]
  },
  {
   "cell_type": "code",
   "execution_count": 1,
   "id": "353c9dc0",
   "metadata": {},
   "outputs": [],
   "source": [
    "import re\n",
    "from nltk.stem import PorterStemmer\n",
    "import numpy as np\n",
    "\n",
    "# We'll use loadmap to load the matlab dataset\n",
    "from scipy.io import loadmat\n",
    "\n",
    "from sklearn.svm import SVC\n",
    "from sklearn.model_selection import GridSearchCV"
   ]
  },
  {
   "cell_type": "markdown",
   "id": "2a5753ba",
   "metadata": {},
   "source": [
    "## Email Features Extraction Function"
   ]
  },
  {
   "cell_type": "code",
   "execution_count": 2,
   "id": "8641aad2",
   "metadata": {},
   "outputs": [],
   "source": [
    "fname = 'emailSample1.txt'\n",
    "fh = open(fname)\n",
    "words = list()\n",
    "for line in fh:\n",
    "    linewords = line.split()\n",
    "    for word in linewords:\n",
    "        if word not in words:\n",
    "            words.append(word)\n",
    "# words.sort()\n",
    "fh.close()"
   ]
  },
  {
   "cell_type": "code",
   "execution_count": 3,
   "id": "c83aa4da",
   "metadata": {},
   "outputs": [],
   "source": [
    "def eFeatExtract(words):\n",
    "    \n",
    "    # Email Preprocess\n",
    "    ##################\n",
    "    # lower case\n",
    "    words = list(map(lambda word: word.lower(), words))\n",
    "    # Stripping HTML\n",
    "    words = list(map(lambda word: re.sub('<[^<>]+>', ' ', word), words))\n",
    "    # Handle numbers\n",
    "    words = list(map(lambda word: re.sub('[0-9]+', 'number', word), words))\n",
    "    # Handle URLs\n",
    "    words = list(map(lambda word: re.sub('(http|https)://[^\\s]*', 'httpaddr', word), words))\n",
    "    # Handle Email Addresses\n",
    "    words = list(map(lambda word: re.sub('[^\\s]+@[^\\s]+', 'emailaddr', word), words))\n",
    "    # Handle Email Addresses\n",
    "    words = list(map(lambda word: re.sub('[$]+', 'dollar', word), words))\n",
    "    # Remove any non alphanumeric characters\n",
    "    words = list(map(lambda word: re.sub('[^a-zA-Z0-9]', '', word), words))\n",
    "    # Remove any empty string\n",
    "    words = list(filter(None, words))\n",
    "    \n",
    "    # Email tokenize\n",
    "    ###########################\n",
    "    ps = PorterStemmer()\n",
    "    words = list(map(lambda word: ps.stem(word), words))\n",
    "    \n",
    "    # VocabList\n",
    "    #######################\n",
    "    fname = 'vocab.txt'\n",
    "    fh = open(fname)\n",
    "    vocabList = list()\n",
    "    for line in fh:\n",
    "        linewords = line.split()\n",
    "        for word in linewords[1:]:\n",
    "            if word not in vocabList:\n",
    "                vocabList.append(word)\n",
    "    fh.close()\n",
    "\n",
    "    wordIndices = list(map(lambda word: vocabList.index(word) if (word in vocabList) else None, words))\n",
    "    # Remove the characters not found\n",
    "    wordIndices = list(filter(None, wordIndices))\n",
    "    \n",
    "    featVector = np.zeros((len(vocabList)), dtype = int)\n",
    "    for i in range(len(wordIndices)): featVector[wordIndices[i]]=1\n",
    "    \n",
    "    return featVector\n"
   ]
  },
  {
   "cell_type": "code",
   "execution_count": 4,
   "id": "420d5402",
   "metadata": {},
   "outputs": [
    {
     "name": "stdout",
     "output_type": "stream",
     "text": [
      "[0 0 0 ... 0 0 0]\n"
     ]
    }
   ],
   "source": [
    "print(eFeatExtract(words))"
   ]
  },
  {
   "cell_type": "markdown",
   "id": "daff588f",
   "metadata": {},
   "source": [
    "## Training SVM for Spam Classification"
   ]
  },
  {
   "cell_type": "markdown",
   "id": "db99e471",
   "metadata": {},
   "source": [
    "Loading the Spam Email dataset. <code>spamTrain.mat</code> contains 4000 examples of spam and not spam email while <code>spamTest.mat</code> contains 1000."
   ]
  },
  {
   "cell_type": "code",
   "execution_count": 5,
   "id": "7192fee3",
   "metadata": {},
   "outputs": [],
   "source": [
    "# Loading all data on a dictonary\n",
    "data = loadmat('spamTrain.mat')\n",
    "\n",
    "# Convert the data into a numpy array\n",
    "X = data['X']\n",
    "y = data['y'].flatten()\n",
    "\n",
    "data = loadmat('spamTest.mat')\n",
    "Xtest = data['Xtest']\n",
    "ytest = data['ytest'].flatten()\n"
   ]
  },
  {
   "cell_type": "code",
   "execution_count": 13,
   "id": "31a1eb15",
   "metadata": {},
   "outputs": [
    {
     "data": {
      "text/plain": [
       "GridSearchCV(cv=10, estimator=SVC(random_state=1), n_jobs=-1,\n",
       "             param_grid=[{'C': [0.1], 'kernel': ['linear']}],\n",
       "             scoring='accuracy')"
      ]
     },
     "execution_count": 13,
     "metadata": {},
     "output_type": "execute_result"
    }
   ],
   "source": [
    "# param_range = [0.0001, 0.001, 0.01, 0.1, 1, 10, 100]\n",
    "# param_grid = [{'C' : param_range,\n",
    "#               'kernel': ['linear']},\n",
    "#              {'C' : param_range,\n",
    "#               'gamma': param_range,\n",
    "#               'kernel': ['rbf']}]\n",
    "\n",
    "param_range = [0.1]\n",
    "param_grid = [{'C' : param_range,\n",
    "               'kernel': ['linear']}]\n",
    "\n",
    "gs = GridSearchCV(estimator=SVC(random_state=1),\n",
    "                 param_grid=param_grid,\n",
    "                 scoring='accuracy',\n",
    "                 cv=10,\n",
    "                 refit=True,\n",
    "                 n_jobs=-1)\n",
    "\n",
    "gs.fit(X, y)"
   ]
  },
  {
   "cell_type": "code",
   "execution_count": 14,
   "id": "671ab935",
   "metadata": {},
   "outputs": [
    {
     "data": {
      "text/plain": [
       "({'C': 0.1, 'kernel': 'linear'}, 0.9770000000000001)"
      ]
     },
     "execution_count": 14,
     "metadata": {},
     "output_type": "execute_result"
    }
   ],
   "source": [
    "gs.best_params_, gs.best_score_"
   ]
  },
  {
   "cell_type": "code",
   "execution_count": 15,
   "id": "39494c13",
   "metadata": {},
   "outputs": [
    {
     "name": "stdout",
     "output_type": "stream",
     "text": [
      "Test accuracy: 0.989\n"
     ]
    }
   ],
   "source": [
    "print('Test accuracy: %.3f' %gs.score(Xtest, ytest))"
   ]
  }
 ],
 "metadata": {
  "kernelspec": {
   "display_name": "Python 3 (ipykernel)",
   "language": "python",
   "name": "python3"
  },
  "language_info": {
   "codemirror_mode": {
    "name": "ipython",
    "version": 3
   },
   "file_extension": ".py",
   "mimetype": "text/x-python",
   "name": "python",
   "nbconvert_exporter": "python",
   "pygments_lexer": "ipython3",
   "version": "3.10.1"
  }
 },
 "nbformat": 4,
 "nbformat_minor": 5
}
