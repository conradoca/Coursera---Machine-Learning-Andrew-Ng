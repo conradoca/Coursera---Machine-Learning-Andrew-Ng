{
 "cells": [
  {
   "cell_type": "markdown",
   "id": "9fd910a0",
   "metadata": {},
   "source": [
    "# Programming Exercise 4c: Neural Network Class with MNIST dataset\n",
    "\n",
    "In this version of the exercise 4 we will use the MNIST original dataset and not the one coming from Andrew Ng's course.\n",
    "> This can be used for this competition: https://www.kaggle.com/c/digit-recognizer. \n",
    "> The dataset is available at http://yann.lecun.com/exdb/mnist/.\n",
    "> You can also get data importing it from keras (look at https://www.askpython.com/python/examples/load-and-plot-mnist-dataset-in-python).\n",
    "\n",
    "The digits have been size-normalized and centered in a fixed-sized image. The original black and white (bilevel) images from NIST were size normalized to fit in a 20x20 pixel box while preserving their aspect ratio. The resulting images contain grey levels as a result of the anti-aliasing technique used by the normalization algorithm. the images were centered in a 28x28 image by computing the center of mass of the pixels, and translating the image so as to position this point at the center of the 28x28 field.\n",
    "\n",
    "I am saving the unzipped files downloaded from that website in <code>/MNIST database/</code> subfolder."
   ]
  },
  {
   "cell_type": "code",
   "execution_count": 7,
   "id": "9a8d403e",
   "metadata": {},
   "outputs": [],
   "source": [
    "# Importing the needed libraries\n",
    "import os\n",
    "import struct\n",
    "import numpy as np\n",
    "import matplotlib.pyplot as plt\n",
    "# Importing the needed libraries\n",
    "import pandas as pd\n",
    "from neuralNetworkClass import *\n",
    "\n",
    "# tells matplotlib to embed plots within the notebook\n",
    "%matplotlib inline\n",
    "\n",
    "mnistFolder=r\"..\\ex3 - MultiClass Classification + NN intro\\MNIST database\"\n",
    "trainImages = mnistFolder + '\\\\train-images.idx3-ubyte'\n",
    "trainLabels = mnistFolder + '\\\\train-labels.idx1-ubyte'\n",
    "testImages = mnistFolder + '\\\\t10k-images.idx3-ubyte'\n",
    "testLabels = mnistFolder + '\\\\t10k-labels.idx1-ubyte'"
   ]
  },
  {
   "cell_type": "code",
   "execution_count": 8,
   "id": "f3de2237",
   "metadata": {},
   "outputs": [],
   "source": [
    "# This function will open whatever labels mnist file and return the data\n",
    "def load_mnist_labels(path):\n",
    "    # Open the file rb means read only + binary\n",
    "    with open(path, 'rb') as lbpath:\n",
    "        magic, n = struct.unpack('>II', lbpath.read(8))\n",
    "        labels = np.fromfile(lbpath, dtype=np.uint8)\n",
    "    return labels\n",
    "\n",
    "# This function will open whatever images mnist file and return the data\n",
    "# \n",
    "def load_mnist_images(path):\n",
    "    # Open the file rb means read only + binary\n",
    "    with open(path, 'rb') as imgpath:\n",
    "        magic, n, rows, cols = struct.unpack('>IIII', imgpath.read(16))\n",
    "        images_data = np.fromfile(imgpath, dtype=np.uint8)\n",
    "        # with reshape with reorganize the array into n rows, \n",
    "        # where every row is the image data flat \n",
    "        images = np.reshape(images_data, (n, rows*cols))\n",
    "    return images"
   ]
  },
  {
   "cell_type": "code",
   "execution_count": 9,
   "id": "b252bbc9",
   "metadata": {},
   "outputs": [],
   "source": [
    "# Load the Training data\n",
    "X_train = load_mnist_images(trainImages)\n",
    "y_train = load_mnist_labels(trainLabels)"
   ]
  },
  {
   "cell_type": "code",
   "execution_count": 10,
   "id": "35362e2e",
   "metadata": {},
   "outputs": [],
   "source": [
    "## NN definition\n",
    "input_layer_size  = np.array([784])  # 28x28 Input Images of Digits\n",
    "hidden_layer = np.array([50,50, 50])   # 25 hidden units\n",
    "num_labels = np.array([10])          # 10 labels, from 0 to 9 - output layer\n",
    "\n",
    "# trying to represent the NN using an array.\n",
    "# nnDef.shape[0] = number of layers\n",
    "# nnDef[i] = number of neurons on layer i\n",
    "nnDef = np.concatenate((input_layer_size, hidden_layer, num_labels), axis=None)"
   ]
  },
  {
   "cell_type": "markdown",
   "id": "98594dcd",
   "metadata": {},
   "source": [
    "## Train the NN"
   ]
  },
  {
   "cell_type": "code",
   "execution_count": 11,
   "id": "5740b361",
   "metadata": {},
   "outputs": [],
   "source": [
    "# Initialize the NN\n",
    "nn=NNClassifier(nnDef, 500, 0)"
   ]
  },
  {
   "cell_type": "code",
   "execution_count": 12,
   "id": "00ba33d2",
   "metadata": {},
   "outputs": [
    {
     "name": "stderr",
     "output_type": "stream",
     "text": [
      "C:\\Users\\conrado.camacho\\OneDrive\\Personal Projects\\Coursera - Machine Learning Andrew Ng\\Python code\\ex4\\neuralNetworkClass.py:45: RuntimeWarning: overflow encountered in exp\n",
      "  z = np.exp(-x)\n"
     ]
    },
    {
     "name": "stdout",
     "output_type": "stream",
     "text": [
      "Cost at theta found by optimize.minimize: 0.528\n"
     ]
    }
   ],
   "source": [
    "# Train the NN\n",
    "nn.fit(X_train,y_train)\n",
    "# Print theta to screen\n",
    "print('Cost at theta found by optimize.minimize: {:.3f}'.format(nn.cost))"
   ]
  },
  {
   "cell_type": "markdown",
   "id": "eda17da9",
   "metadata": {},
   "source": [
    "## Test the model"
   ]
  },
  {
   "cell_type": "code",
   "execution_count": 13,
   "id": "91a19a8b",
   "metadata": {},
   "outputs": [],
   "source": [
    "X_test = load_mnist_images(testImages)\n",
    "y_test = load_mnist_labels(testLabels)"
   ]
  },
  {
   "cell_type": "code",
   "execution_count": 14,
   "id": "b2a14da5",
   "metadata": {},
   "outputs": [
    {
     "name": "stdout",
     "output_type": "stream",
     "text": [
      "\n",
      "Training Set Accuracy: 90.88 %\n"
     ]
    }
   ],
   "source": [
    "pred = nn.predict(X_test)\n",
    "print('\\nTraining Set Accuracy: {:.2f} %'.format(np.mean(pred == y_test) * 100))"
   ]
  },
  {
   "cell_type": "markdown",
   "id": "a748bba1",
   "metadata": {},
   "source": [
    "## Check the cases non predicted properly"
   ]
  },
  {
   "cell_type": "code",
   "execution_count": 15,
   "id": "d79b5827",
   "metadata": {},
   "outputs": [],
   "source": [
    "Check_cases = 25\n",
    "\n",
    "# First we identify the cases where the prediction \n",
    "# is not correct - misclassified \n",
    "misclX = X_test[pred != y_test]\n",
    "correct_label = y_test[pred != y_test]\n",
    "miscl_label = pred[pred !=y_test]\n",
    "\n",
    "miscl_m = miscl_label.size\n",
    "\n",
    "# We get a testCases random datapoints. First we get a number of testCases indices out of m\n",
    "rand_indices = np.random.choice(miscl_m, Check_cases, replace=False)\n",
    "\n",
    "sel_misclX = misclX[rand_indices, :]\n",
    "sel_correct_label = correct_label[rand_indices]\n",
    "sel_miscl_label = miscl_label[rand_indices]"
   ]
  },
  {
   "cell_type": "code",
   "execution_count": 16,
   "id": "d4221e15",
   "metadata": {},
   "outputs": [
    {
     "data": {
      "image/png": "[encoded data removed]",
      "text/plain": [
       "<Figure size 432x288 with 25 Axes>"
      ]
     },
     "metadata": {},
     "output_type": "display_data"
    }
   ],
   "source": [
    "fig, ax = plt.subplots(nrows = 5, ncols = 5, sharex = True, sharey = True)\n",
    "ax = ax.flatten()\n",
    "for i in range(Check_cases):\n",
    "    img = sel_misclX[i].reshape(28,28)\n",
    "    ax[i].imshow(img, cmap = 'Greys', interpolation = 'nearest')\n",
    "    ax[i].set_title('%d) t:%d p:%d' % (i+1,sel_correct_label[i], sel_miscl_label[i]))\n",
    "ax[0].set_xticks([])\n",
    "ax[0].set_yticks([])\n",
    "plt.tight_layout()\n",
    "plt.show()"
   ]
  },
  {
   "cell_type": "code",
   "execution_count": null,
   "id": "e01fb0cf",
   "metadata": {},
   "outputs": [],
   "source": []
  }
 ],
 "metadata": {
  "kernelspec": {
   "display_name": "Python 3 (ipykernel)",
   "language": "python",
   "name": "python3"
  },
  "language_info": {
   "codemirror_mode": {
    "name": "ipython",
    "version": 3
   },
   "file_extension": ".py",
   "mimetype": "text/x-python",
   "name": "python",
   "nbconvert_exporter": "python",
   "pygments_lexer": "ipython3",
   "version": "3.10.1"
  }
 },
 "nbformat": 4,
 "nbformat_minor": 5
}
