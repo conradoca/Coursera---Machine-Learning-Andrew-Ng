{
 "cells": [
  {
   "cell_type": "markdown",
   "id": "284c5a00",
   "metadata": {},
   "source": [
    "# Programming Exercise 4: Neural Networks Learning"
   ]
  },
  {
   "cell_type": "code",
   "execution_count": 1,
   "id": "824a8232",
   "metadata": {},
   "outputs": [],
   "source": [
    "# Importing the needed libraries\n",
    "# import pandas as pd\n",
    "import numpy as np\n",
    "import matplotlib.pyplot as plt\n",
    "from neuralNetwork import *\n",
    "\n",
    "# Optimization module in scipy\n",
    "from scipy import optimize\n",
    "\n",
    "# We'll use loadmap to load the matlab dataset\n",
    "from scipy.io import loadmat\n",
    "\n",
    "# tells matplotlib to embed plots within the notebook\n",
    "%matplotlib inline"
   ]
  },
  {
   "cell_type": "code",
   "execution_count": 2,
   "id": "1628f269",
   "metadata": {},
   "outputs": [],
   "source": [
    "input_layer_size  = 400  # 20x20 Input Images of Digits\n",
    "hidden_layer_size = 25   # 25 hidden units\n",
    "num_labels = 10          # 10 labels, from 0 to 9 - output layer\n",
    "\n",
    "# trying to represent the NN using an array.\n",
    "# nnDef.shape[0] = number of layers\n",
    "# nnDef[i] = number of neurons on layer i\n",
    "nnDef = np.array([input_layer_size, hidden_layer_size, num_labels])"
   ]
  },
  {
   "cell_type": "code",
   "execution_count": 3,
   "id": "df10339e",
   "metadata": {},
   "outputs": [],
   "source": [
    "# Loading all data on a dictonary\n",
    "data = loadmat('ex4data1.mat')\n",
    "\n",
    "# Convert the data into a numpy array\n",
    "X = data['X']\n",
    "y = data['y'].flatten()\n",
    "\n",
    "# m = number of training examples\n",
    "# n = number of features\n",
    "(m,n) = X.shape\n",
    "\n",
    "# note that X has mapped \"0\" to label 10 because Matlab arrays start on 1\n",
    "# We'll normalize the 10 value back to 0, so it matches the 0 digit\n",
    "y[y == 10] = 0"
   ]
  },
  {
   "cell_type": "code",
   "execution_count": 4,
   "id": "1cf24491",
   "metadata": {},
   "outputs": [],
   "source": [
    "# We create a Theta array of arrays\n",
    "Theta = np.zeros(nnDef.size, dtype=np.ndarray)\n",
    "\n",
    "# Load the weights data to initialize Theta\n",
    "thetaMat = loadmat('ex4weights.mat')\n",
    "Theta[1] = thetaMat['Theta1']\n",
    "Theta[2] = thetaMat['Theta2']\n",
    "\n",
    "# swap first and last columns of Theta2, due to legacy from MATLAB indexing, \n",
    "# since the weight file ex3weights.mat was saved based on MATLAB indexing\n",
    "# Explanation: 0 in MATLAB is represented by 10. \n",
    "# Therefore the theta for 10 in Matlab corresponds with 0 in Python\n",
    "Theta[2] = np.roll(Theta[2], 1, axis=0)"
   ]
  },
  {
   "cell_type": "markdown",
   "id": "5160cf17",
   "metadata": {},
   "source": [
    "## Compute Cost Function (Feedforward)"
   ]
  },
  {
   "cell_type": "code",
   "execution_count": 5,
   "id": "f82b96ad",
   "metadata": {},
   "outputs": [],
   "source": [
    "Theta1D = ThetaTo1D(Theta, nnDef)"
   ]
  },
  {
   "cell_type": "code",
   "execution_count": 6,
   "id": "2da543a0",
   "metadata": {},
   "outputs": [
    {
     "name": "stdout",
     "output_type": "stream",
     "text": [
      "Cost at parameters (loaded from ex4weights): 0.287629 \n",
      "(this value should be about 0.287629)\n",
      "\n"
     ]
    }
   ],
   "source": [
    "J, grad = nnCostFunction(Theta1D, nnDef, X, y, 0);\n",
    "\n",
    "print('Cost at parameters (loaded from ex4weights): {:.6f} \\n(this value should be about 0.287629)\\n'.format(J))"
   ]
  },
  {
   "cell_type": "markdown",
   "id": "35b96aab",
   "metadata": {},
   "source": [
    "## Implement Regularization in the Cost Function"
   ]
  },
  {
   "cell_type": "code",
   "execution_count": 7,
   "id": "1bbaca3d",
   "metadata": {},
   "outputs": [
    {
     "name": "stdout",
     "output_type": "stream",
     "text": [
      "Cost at parameters (loaded from ex4weights): 0.383770 \n",
      "(this value should be about 0.383770)\n",
      "\n"
     ]
    }
   ],
   "source": [
    "lmbd = 1\n",
    "\n",
    "J, grad = nnCostFunction(Theta1D, nnDef, X, y, lmbd)\n",
    "\n",
    "print('Cost at parameters (loaded from ex4weights): {:.6f} \\n(this value should be about 0.383770)\\n'.format(J))"
   ]
  },
  {
   "cell_type": "markdown",
   "id": "ab7dc2f6",
   "metadata": {},
   "source": [
    "## Checking NN gradients"
   ]
  },
  {
   "cell_type": "code",
   "execution_count": 8,
   "id": "0dd5642a",
   "metadata": {},
   "outputs": [
    {
     "name": "stdout",
     "output_type": "stream",
     "text": [
      "Cost at (fixed) debugging parameters (w/ lambda = 3) 0.576051\n",
      "(for lambda = 3, this value should be about 0.576051)\n",
      "\n"
     ]
    }
   ],
   "source": [
    "lmbd = 3\n",
    "J, grad = nnCostFunction(Theta1D, nnDef, X, y, lmbd)\n",
    "\n",
    "print('Cost at (fixed) debugging parameters (w/ lambda = 3) {:.6f}\\n(for lambda = 3, this value should be about 0.576051)\\n'. format(J))"
   ]
  },
  {
   "cell_type": "markdown",
   "id": "f9ca24fa",
   "metadata": {},
   "source": [
    "## Train the NN"
   ]
  },
  {
   "cell_type": "code",
   "execution_count": 9,
   "id": "7e3373f0",
   "metadata": {},
   "outputs": [],
   "source": [
    "Theta= initializeTheta(nnDef)\n",
    "Theta1D = ThetaTo1D(Theta, nnDef)"
   ]
  },
  {
   "cell_type": "code",
   "execution_count": 10,
   "id": "f99d3ac6",
   "metadata": {},
   "outputs": [
    {
     "name": "stdout",
     "output_type": "stream",
     "text": [
      "Cost at theta found by optimize.minimize: 0.559\n"
     ]
    }
   ],
   "source": [
    "lmdb = 0\n",
    "\n",
    "# set options for optimize.minimize\n",
    "options= {'maxiter': 800}\n",
    "\n",
    "# The function returns an object `OptimizeResult`\n",
    "# We use truncated Newton algorithm for optimization which is \n",
    "# equivalent to MATLAB's fminunc\n",
    "# See https://stackoverflow.com/questions/18801002/fminunc-alternate-in-numpy\n",
    "res = optimize.minimize(nnCostFunction,\n",
    "                        Theta1D,\n",
    "                        (nnDef, X, y.flatten(), lmbd),\n",
    "                        jac=True,\n",
    "                        method='TNC',\n",
    "                        options=options)\n",
    "\n",
    "# the fun property of `OptimizeResult` object returns\n",
    "# the value of costFunction at optimized theta\n",
    "cost = res.fun\n",
    "\n",
    "# the optimized theta is in the x property\n",
    "theta = res.x\n",
    "\n",
    "# Print theta to screen\n",
    "print('Cost at theta found by optimize.minimize: {:.3f}'.format(cost))"
   ]
  },
  {
   "cell_type": "markdown",
   "id": "1c4945b5",
   "metadata": {},
   "source": [
    "## Evaluate the NN"
   ]
  },
  {
   "cell_type": "code",
   "execution_count": 11,
   "id": "0f9f51c1",
   "metadata": {},
   "outputs": [],
   "source": [
    "Theta = ThetaFrom1D(theta, nnDef)"
   ]
  },
  {
   "cell_type": "code",
   "execution_count": 12,
   "id": "f667d8bd",
   "metadata": {},
   "outputs": [],
   "source": [
    "Prob, pred = feedForwardPropagation(Theta, X, nnDef)"
   ]
  },
  {
   "cell_type": "code",
   "execution_count": 13,
   "id": "bd004077",
   "metadata": {},
   "outputs": [
    {
     "name": "stdout",
     "output_type": "stream",
     "text": [
      "\n",
      "Training Set Accuracy: 97.84 %\n"
     ]
    }
   ],
   "source": [
    "print('\\nTraining Set Accuracy: {:.2f} %'.format(np.mean(pred == y) * 100))"
   ]
  },
  {
   "cell_type": "markdown",
   "id": "3b06c1a6",
   "metadata": {},
   "source": [
    "## Check the cases non predicted properly"
   ]
  },
  {
   "cell_type": "code",
   "execution_count": 14,
   "id": "aac6b519",
   "metadata": {},
   "outputs": [],
   "source": [
    "Check_cases = 25\n",
    "\n",
    "# First we identify the cases where the prediction \n",
    "# is not correct - misclassified \n",
    "misclX = X[pred != y]\n",
    "correct_label = y[pred != y]\n",
    "miscl_label = pred[pred !=y]\n",
    "miscl_prob = np.amax(Prob[pred !=y], axis=1)\n",
    "\n",
    "miscl_m = miscl_label.size\n",
    "\n",
    "# We get a testCases random datapoints. First we get a number of testCases indices out of m\n",
    "rand_indices = np.random.choice(miscl_m, Check_cases, replace=False)\n",
    "\n",
    "sel_misclX = misclX[rand_indices, :]\n",
    "sel_correct_label = correct_label[rand_indices]\n",
    "sel_miscl_label = miscl_label[rand_indices]\n",
    "sel_miscl_prob = miscl_prob[rand_indices, ]"
   ]
  },
  {
   "cell_type": "code",
   "execution_count": 15,
   "id": "c0dbb351",
   "metadata": {},
   "outputs": [
    {
     "data": {
      "image/png": "[encoded data removed]",
      "text/plain": [
       "<Figure size 432x288 with 25 Axes>"
      ]
     },
     "metadata": {},
     "output_type": "display_data"
    },
    {
     "data": {
      "text/plain": [
       "array([0.58740825, 0.38089058, 0.44398935, 0.78133752, 0.3302823 ,\n",
       "       0.30208283, 0.5172407 , 0.14480368, 0.1585938 , 0.44001883,\n",
       "       0.19257369, 0.38485058, 0.43473201, 0.46376838, 0.51765226,\n",
       "       0.21135357, 0.35340755, 0.58485053, 0.73751772, 0.1378822 ,\n",
       "       0.21509136, 0.50194348, 0.68679114, 0.43514448, 0.70005844])"
      ]
     },
     "execution_count": 15,
     "metadata": {},
     "output_type": "execute_result"
    }
   ],
   "source": [
    "fig, ax = plt.subplots(nrows = 5, ncols = 5, sharex = True, sharey = True)\n",
    "ax = ax.flatten()\n",
    "for i in range(Check_cases):\n",
    "    img = sel_misclX[i].reshape(20,20).T\n",
    "    ax[i].imshow(img, cmap = 'Greys', interpolation = 'nearest')\n",
    "    ax[i].set_title('%d) t:%d p:%d' % (i+1,sel_correct_label[i], sel_miscl_label[i]))\n",
    "ax[0].set_xticks([])\n",
    "ax[0].set_yticks([])\n",
    "plt.tight_layout()\n",
    "plt.show()\n",
    "\n",
    "sel_miscl_prob"
   ]
  },
  {
   "cell_type": "markdown",
   "id": "0560b414",
   "metadata": {},
   "source": [
    "## Check the cases predicted properly"
   ]
  },
  {
   "cell_type": "code",
   "execution_count": 16,
   "id": "f729f55b",
   "metadata": {},
   "outputs": [],
   "source": [
    "Check_cases = 25\n",
    "\n",
    "# First we identify the cases where the prediction \n",
    "# is not correct - misclassified \n",
    "misclX = X[pred == y]\n",
    "correct_label = y[pred == y]\n",
    "miscl_label = pred[pred == y]\n",
    "\n",
    "miscl_m = miscl_label.size\n",
    "\n",
    "# We get a testCases random datapoints. First we get a number of testCases indices out of m\n",
    "rand_indices = np.random.choice(miscl_m, Check_cases, replace=False)\n",
    "\n",
    "sel_misclX = misclX[rand_indices, :]\n",
    "sel_correct_label = correct_label[rand_indices]\n",
    "\n",
    "sel_miscl_label = miscl_label[rand_indices]"
   ]
  },
  {
   "cell_type": "code",
   "execution_count": 17,
   "id": "171ad603",
   "metadata": {},
   "outputs": [
    {
     "data": {
      "image/png": "[encoded data removed]",
      "text/plain": [
       "<Figure size 432x288 with 25 Axes>"
      ]
     },
     "metadata": {},
     "output_type": "display_data"
    }
   ],
   "source": [
    "fig, ax = plt.subplots(nrows = 5, ncols = 5, sharex = True, sharey = True)\n",
    "ax = ax.flatten()\n",
    "for i in range(Check_cases):\n",
    "    img = sel_misclX[i].reshape(20,20).T\n",
    "    ax[i].imshow(img, cmap = 'Greys', interpolation = 'nearest')\n",
    "    ax[i].set_title('%d) t:%d p:%d' % (i+1,sel_correct_label[i], sel_miscl_label[i]))\n",
    "ax[0].set_xticks([])\n",
    "ax[0].set_yticks([])\n",
    "plt.tight_layout()\n",
    "plt.show()"
   ]
  }
 ],
 "metadata": {
  "kernelspec": {
   "display_name": "Python 3 (ipykernel)",
   "language": "python",
   "name": "python3"
  },
  "language_info": {
   "codemirror_mode": {
    "name": "ipython",
    "version": 3
   },
   "file_extension": ".py",
   "mimetype": "text/x-python",
   "name": "python",
   "nbconvert_exporter": "python",
   "pygments_lexer": "ipython3",
   "version": "3.10.1"
  }
 },
 "nbformat": 4,
 "nbformat_minor": 5
}
