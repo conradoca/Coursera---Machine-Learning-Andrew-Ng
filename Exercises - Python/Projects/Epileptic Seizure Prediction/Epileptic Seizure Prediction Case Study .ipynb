{
 "cells": [
  {
   "cell_type": "markdown",
   "id": "16b1cf20",
   "metadata": {},
   "source": [
    "# Epileptic Seizure Prediction Case Study\n",
    "We will be using this case study to combine both KNN and PCA to analyze a problem. \n",
    "Also, we will evaluate the performance using the F1 metric.\n",
    "\n",
    "> This is a my own variation (but will become probably just a copy) from these two:\n",
    "> * https://medium.com/analytics-vidhya/implementing-pca-in-python-with-sklearn-4f757fb4429e\n",
    "> * https://www.kaggle.com/code/harunshimanto/machine-learning-algorithms-for-epileptic-seizures\n",
    "\n",
    "The original data should have been in https://archive-beta.ics.uci.edu/ml/datasets/epileptic+seizure+recognition but the folder was empty. We will be using a dataset coming from https://www.kaggle.com/code/harunshimanto/machine-learning-algorithms-for-epileptic-seizures/data\n"
   ]
  },
  {
   "cell_type": "code",
   "execution_count": 1,
   "id": "acbb1cc1",
   "metadata": {},
   "outputs": [],
   "source": [
    "# Importing the needed libraries\n",
    "# import pandas as pd\n",
    "import numpy as np\n",
    "import matplotlib.pyplot as plt\n",
    "import pandas as pd\n",
    "\n",
    "# tells matplotlib to embed plots within the notebook\n",
    "%matplotlib inline\n",
    "\n",
    "from sklearn.model_selection import train_test_split\n",
    "from sklearn.preprocessing import StandardScaler\n",
    "from sklearn.pipeline import make_pipeline\n",
    "from sklearn.decomposition import PCA\n",
    "from sklearn.neighbors import KNeighborsClassifier\n",
    "from sklearn.metrics import f1_score, classification_report, ConfusionMatrixDisplay, confusion_matrix"
   ]
  },
  {
   "cell_type": "markdown",
   "id": "59bc08ee",
   "metadata": {},
   "source": [
    "## Load and visualiza the data"
   ]
  },
  {
   "cell_type": "code",
   "execution_count": 2,
   "id": "28caecac",
   "metadata": {},
   "outputs": [],
   "source": [
    "# Loading all data on a dictonary\n",
    "data = pd.read_csv('Epileptic Seizure Recognition.csv')"
   ]
  },
  {
   "cell_type": "code",
   "execution_count": 3,
   "id": "eb1dfbc8",
   "metadata": {},
   "outputs": [
    {
     "data": {
      "text/html": [
       "<div>\n",
       "<style scoped>\n",
       "    .dataframe tbody tr th:only-of-type {\n",
       "        vertical-align: middle;\n",
       "    }\n",
       "\n",
       "    .dataframe tbody tr th {\n",
       "        vertical-align: top;\n",
       "    }\n",
       "\n",
       "    .dataframe thead th {\n",
       "        text-align: right;\n",
       "    }\n",
       "</style>\n",
       "<table border=\"1\" class=\"dataframe\">\n",
       "  <thead>\n",
       "    <tr style=\"text-align: right;\">\n",
       "      <th></th>\n",
       "      <th>Unnamed</th>\n",
       "      <th>X1</th>\n",
       "      <th>X2</th>\n",
       "      <th>X3</th>\n",
       "      <th>X4</th>\n",
       "      <th>X5</th>\n",
       "      <th>X6</th>\n",
       "      <th>X7</th>\n",
       "      <th>X8</th>\n",
       "      <th>X9</th>\n",
       "      <th>...</th>\n",
       "      <th>X170</th>\n",
       "      <th>X171</th>\n",
       "      <th>X172</th>\n",
       "      <th>X173</th>\n",
       "      <th>X174</th>\n",
       "      <th>X175</th>\n",
       "      <th>X176</th>\n",
       "      <th>X177</th>\n",
       "      <th>X178</th>\n",
       "      <th>y</th>\n",
       "    </tr>\n",
       "  </thead>\n",
       "  <tbody>\n",
       "    <tr>\n",
       "      <th>0</th>\n",
       "      <td>X21.V1.791</td>\n",
       "      <td>135</td>\n",
       "      <td>190</td>\n",
       "      <td>229</td>\n",
       "      <td>223</td>\n",
       "      <td>192</td>\n",
       "      <td>125</td>\n",
       "      <td>55</td>\n",
       "      <td>-9</td>\n",
       "      <td>-33</td>\n",
       "      <td>...</td>\n",
       "      <td>-17</td>\n",
       "      <td>-15</td>\n",
       "      <td>-31</td>\n",
       "      <td>-77</td>\n",
       "      <td>-103</td>\n",
       "      <td>-127</td>\n",
       "      <td>-116</td>\n",
       "      <td>-83</td>\n",
       "      <td>-51</td>\n",
       "      <td>4</td>\n",
       "    </tr>\n",
       "    <tr>\n",
       "      <th>1</th>\n",
       "      <td>X15.V1.924</td>\n",
       "      <td>386</td>\n",
       "      <td>382</td>\n",
       "      <td>356</td>\n",
       "      <td>331</td>\n",
       "      <td>320</td>\n",
       "      <td>315</td>\n",
       "      <td>307</td>\n",
       "      <td>272</td>\n",
       "      <td>244</td>\n",
       "      <td>...</td>\n",
       "      <td>164</td>\n",
       "      <td>150</td>\n",
       "      <td>146</td>\n",
       "      <td>152</td>\n",
       "      <td>157</td>\n",
       "      <td>156</td>\n",
       "      <td>154</td>\n",
       "      <td>143</td>\n",
       "      <td>129</td>\n",
       "      <td>1</td>\n",
       "    </tr>\n",
       "    <tr>\n",
       "      <th>2</th>\n",
       "      <td>X8.V1.1</td>\n",
       "      <td>-32</td>\n",
       "      <td>-39</td>\n",
       "      <td>-47</td>\n",
       "      <td>-37</td>\n",
       "      <td>-32</td>\n",
       "      <td>-36</td>\n",
       "      <td>-57</td>\n",
       "      <td>-73</td>\n",
       "      <td>-85</td>\n",
       "      <td>...</td>\n",
       "      <td>57</td>\n",
       "      <td>64</td>\n",
       "      <td>48</td>\n",
       "      <td>19</td>\n",
       "      <td>-12</td>\n",
       "      <td>-30</td>\n",
       "      <td>-35</td>\n",
       "      <td>-35</td>\n",
       "      <td>-36</td>\n",
       "      <td>5</td>\n",
       "    </tr>\n",
       "    <tr>\n",
       "      <th>3</th>\n",
       "      <td>X16.V1.60</td>\n",
       "      <td>-105</td>\n",
       "      <td>-101</td>\n",
       "      <td>-96</td>\n",
       "      <td>-92</td>\n",
       "      <td>-89</td>\n",
       "      <td>-95</td>\n",
       "      <td>-102</td>\n",
       "      <td>-100</td>\n",
       "      <td>-87</td>\n",
       "      <td>...</td>\n",
       "      <td>-82</td>\n",
       "      <td>-81</td>\n",
       "      <td>-80</td>\n",
       "      <td>-77</td>\n",
       "      <td>-85</td>\n",
       "      <td>-77</td>\n",
       "      <td>-72</td>\n",
       "      <td>-69</td>\n",
       "      <td>-65</td>\n",
       "      <td>5</td>\n",
       "    </tr>\n",
       "    <tr>\n",
       "      <th>4</th>\n",
       "      <td>X20.V1.54</td>\n",
       "      <td>-9</td>\n",
       "      <td>-65</td>\n",
       "      <td>-98</td>\n",
       "      <td>-102</td>\n",
       "      <td>-78</td>\n",
       "      <td>-48</td>\n",
       "      <td>-16</td>\n",
       "      <td>0</td>\n",
       "      <td>-21</td>\n",
       "      <td>...</td>\n",
       "      <td>4</td>\n",
       "      <td>2</td>\n",
       "      <td>-12</td>\n",
       "      <td>-32</td>\n",
       "      <td>-41</td>\n",
       "      <td>-65</td>\n",
       "      <td>-83</td>\n",
       "      <td>-89</td>\n",
       "      <td>-73</td>\n",
       "      <td>5</td>\n",
       "    </tr>\n",
       "  </tbody>\n",
       "</table>\n",
       "<p>5 rows × 180 columns</p>\n",
       "</div>"
      ],
      "text/plain": [
       "      Unnamed   X1   X2   X3   X4   X5   X6   X7   X8   X9  ...  X170  X171  \\\n",
       "0  X21.V1.791  135  190  229  223  192  125   55   -9  -33  ...   -17   -15   \n",
       "1  X15.V1.924  386  382  356  331  320  315  307  272  244  ...   164   150   \n",
       "2     X8.V1.1  -32  -39  -47  -37  -32  -36  -57  -73  -85  ...    57    64   \n",
       "3   X16.V1.60 -105 -101  -96  -92  -89  -95 -102 -100  -87  ...   -82   -81   \n",
       "4   X20.V1.54   -9  -65  -98 -102  -78  -48  -16    0  -21  ...     4     2   \n",
       "\n",
       "   X172  X173  X174  X175  X176  X177  X178  y  \n",
       "0   -31   -77  -103  -127  -116   -83   -51  4  \n",
       "1   146   152   157   156   154   143   129  1  \n",
       "2    48    19   -12   -30   -35   -35   -36  5  \n",
       "3   -80   -77   -85   -77   -72   -69   -65  5  \n",
       "4   -12   -32   -41   -65   -83   -89   -73  5  \n",
       "\n",
       "[5 rows x 180 columns]"
      ]
     },
     "execution_count": 3,
     "metadata": {},
     "output_type": "execute_result"
    }
   ],
   "source": [
    "data.head()"
   ]
  },
  {
   "cell_type": "code",
   "execution_count": 4,
   "id": "436ce535",
   "metadata": {},
   "outputs": [
    {
     "data": {
      "text/plain": [
       "Index(['Unnamed', 'X1', 'X2', 'X3', 'X4', 'X5', 'X6', 'X7', 'X8', 'X9',\n",
       "       ...\n",
       "       'X170', 'X171', 'X172', 'X173', 'X174', 'X175', 'X176', 'X177', 'X178',\n",
       "       'y'],\n",
       "      dtype='object', length=180)"
      ]
     },
     "execution_count": 4,
     "metadata": {},
     "output_type": "execute_result"
    }
   ],
   "source": [
    "data.keys()"
   ]
  },
  {
   "cell_type": "markdown",
   "id": "dd1d81cd",
   "metadata": {},
   "source": [
    "### Data description"
   ]
  },
  {
   "cell_type": "markdown",
   "id": "f1ce7f3a",
   "metadata": {},
   "source": [
    "The original dataset from the reference consists of 5 different folders, each with 100 files, with each file representing a single subject/person. Each file is a recording of brain activity for 23.6 seconds. The corresponding time-series is sampled into 4097 data points. Each data point is the value of the EEG recording at a different point in time. So we have total 500 individuals with each has 4097 data points for 23.5 seconds. \n",
    "\n",
    "We divided and shuffled every 4097 data points into 23 chunks, each chunk contains 178 data points for 1 second, and each data point is the value of the EEG recording at a different point in time. So now we have 23 x 500 = 11500 pieces of information(row), each information contains 178 data points for 1 second(column), the last column represents the label y {1,2,3,4,5}."
   ]
  },
  {
   "cell_type": "markdown",
   "id": "73aad802",
   "metadata": {},
   "source": [
    "The response variable is y in column 179, the Explanatory variables X1, X2, ..., X178.\n",
    "y contains the category of the 178-dimensional input vector. Specifically y in {1, 2, 3, 4, 5}:\n",
    "\n",
    "* 5 - eyes open, means when they were recording the EEG signal of the brain the patient had their eyes open\n",
    "* 4 - eyes closed, means when they were recording the EEG signal the patient had their eyes closed\n",
    "* 3 - Yes they identify where the region of the tumor was in the brain and recording the EEG activity from the healthy brain area\n",
    "* 2 - They recorder the EEG from the area where the tumor was located\n",
    "* 1 - Recording of seizure activity \n",
    "\n",
    "All subjects falling in classes 2, 3, 4, and 5 are subjects who did not have epileptic seizure. Only subjects in class 1 have epileptic seizure. Our motivation for creating this version of the data was to simplify access to the data via the creation of a .csv version of it. Although there are 5 classes most authors have done binary classification, namely class 1 (Epileptic seizure) against the rest."
   ]
  },
  {
   "cell_type": "markdown",
   "id": "a06d6302",
   "metadata": {},
   "source": [
    "### Data preprocessing"
   ]
  },
  {
   "cell_type": "markdown",
   "id": "e68e96ae",
   "metadata": {},
   "source": [
    "We will be checking the following:\n",
    "* Remove the first column \"Unnamed\" feature\n",
    "* Check if there are any missing values\n",
    "* Convert the dataframe into a numpy array \n",
    "* Convert $y$ into a binary variable. 1 represents a seizure event and 0 represents no-seizure\n",
    "* Standardize the data"
   ]
  },
  {
   "cell_type": "markdown",
   "id": "150f40cb",
   "metadata": {},
   "source": [
    "#### Remove the first column"
   ]
  },
  {
   "cell_type": "code",
   "execution_count": 5,
   "id": "a66925bf",
   "metadata": {},
   "outputs": [],
   "source": [
    "data = data.drop('Unnamed', axis=1)"
   ]
  },
  {
   "cell_type": "code",
   "execution_count": 6,
   "id": "6fea60cb",
   "metadata": {},
   "outputs": [
    {
     "data": {
      "text/html": [
       "<div>\n",
       "<style scoped>\n",
       "    .dataframe tbody tr th:only-of-type {\n",
       "        vertical-align: middle;\n",
       "    }\n",
       "\n",
       "    .dataframe tbody tr th {\n",
       "        vertical-align: top;\n",
       "    }\n",
       "\n",
       "    .dataframe thead th {\n",
       "        text-align: right;\n",
       "    }\n",
       "</style>\n",
       "<table border=\"1\" class=\"dataframe\">\n",
       "  <thead>\n",
       "    <tr style=\"text-align: right;\">\n",
       "      <th></th>\n",
       "      <th>X1</th>\n",
       "      <th>X2</th>\n",
       "      <th>X3</th>\n",
       "      <th>X4</th>\n",
       "      <th>X5</th>\n",
       "      <th>X6</th>\n",
       "      <th>X7</th>\n",
       "      <th>X8</th>\n",
       "      <th>X9</th>\n",
       "      <th>X10</th>\n",
       "      <th>...</th>\n",
       "      <th>X170</th>\n",
       "      <th>X171</th>\n",
       "      <th>X172</th>\n",
       "      <th>X173</th>\n",
       "      <th>X174</th>\n",
       "      <th>X175</th>\n",
       "      <th>X176</th>\n",
       "      <th>X177</th>\n",
       "      <th>X178</th>\n",
       "      <th>y</th>\n",
       "    </tr>\n",
       "  </thead>\n",
       "  <tbody>\n",
       "    <tr>\n",
       "      <th>0</th>\n",
       "      <td>135</td>\n",
       "      <td>190</td>\n",
       "      <td>229</td>\n",
       "      <td>223</td>\n",
       "      <td>192</td>\n",
       "      <td>125</td>\n",
       "      <td>55</td>\n",
       "      <td>-9</td>\n",
       "      <td>-33</td>\n",
       "      <td>-38</td>\n",
       "      <td>...</td>\n",
       "      <td>-17</td>\n",
       "      <td>-15</td>\n",
       "      <td>-31</td>\n",
       "      <td>-77</td>\n",
       "      <td>-103</td>\n",
       "      <td>-127</td>\n",
       "      <td>-116</td>\n",
       "      <td>-83</td>\n",
       "      <td>-51</td>\n",
       "      <td>4</td>\n",
       "    </tr>\n",
       "    <tr>\n",
       "      <th>1</th>\n",
       "      <td>386</td>\n",
       "      <td>382</td>\n",
       "      <td>356</td>\n",
       "      <td>331</td>\n",
       "      <td>320</td>\n",
       "      <td>315</td>\n",
       "      <td>307</td>\n",
       "      <td>272</td>\n",
       "      <td>244</td>\n",
       "      <td>232</td>\n",
       "      <td>...</td>\n",
       "      <td>164</td>\n",
       "      <td>150</td>\n",
       "      <td>146</td>\n",
       "      <td>152</td>\n",
       "      <td>157</td>\n",
       "      <td>156</td>\n",
       "      <td>154</td>\n",
       "      <td>143</td>\n",
       "      <td>129</td>\n",
       "      <td>1</td>\n",
       "    </tr>\n",
       "    <tr>\n",
       "      <th>2</th>\n",
       "      <td>-32</td>\n",
       "      <td>-39</td>\n",
       "      <td>-47</td>\n",
       "      <td>-37</td>\n",
       "      <td>-32</td>\n",
       "      <td>-36</td>\n",
       "      <td>-57</td>\n",
       "      <td>-73</td>\n",
       "      <td>-85</td>\n",
       "      <td>-94</td>\n",
       "      <td>...</td>\n",
       "      <td>57</td>\n",
       "      <td>64</td>\n",
       "      <td>48</td>\n",
       "      <td>19</td>\n",
       "      <td>-12</td>\n",
       "      <td>-30</td>\n",
       "      <td>-35</td>\n",
       "      <td>-35</td>\n",
       "      <td>-36</td>\n",
       "      <td>5</td>\n",
       "    </tr>\n",
       "    <tr>\n",
       "      <th>3</th>\n",
       "      <td>-105</td>\n",
       "      <td>-101</td>\n",
       "      <td>-96</td>\n",
       "      <td>-92</td>\n",
       "      <td>-89</td>\n",
       "      <td>-95</td>\n",
       "      <td>-102</td>\n",
       "      <td>-100</td>\n",
       "      <td>-87</td>\n",
       "      <td>-79</td>\n",
       "      <td>...</td>\n",
       "      <td>-82</td>\n",
       "      <td>-81</td>\n",
       "      <td>-80</td>\n",
       "      <td>-77</td>\n",
       "      <td>-85</td>\n",
       "      <td>-77</td>\n",
       "      <td>-72</td>\n",
       "      <td>-69</td>\n",
       "      <td>-65</td>\n",
       "      <td>5</td>\n",
       "    </tr>\n",
       "    <tr>\n",
       "      <th>4</th>\n",
       "      <td>-9</td>\n",
       "      <td>-65</td>\n",
       "      <td>-98</td>\n",
       "      <td>-102</td>\n",
       "      <td>-78</td>\n",
       "      <td>-48</td>\n",
       "      <td>-16</td>\n",
       "      <td>0</td>\n",
       "      <td>-21</td>\n",
       "      <td>-59</td>\n",
       "      <td>...</td>\n",
       "      <td>4</td>\n",
       "      <td>2</td>\n",
       "      <td>-12</td>\n",
       "      <td>-32</td>\n",
       "      <td>-41</td>\n",
       "      <td>-65</td>\n",
       "      <td>-83</td>\n",
       "      <td>-89</td>\n",
       "      <td>-73</td>\n",
       "      <td>5</td>\n",
       "    </tr>\n",
       "  </tbody>\n",
       "</table>\n",
       "<p>5 rows × 179 columns</p>\n",
       "</div>"
      ],
      "text/plain": [
       "    X1   X2   X3   X4   X5   X6   X7   X8   X9  X10  ...  X170  X171  X172  \\\n",
       "0  135  190  229  223  192  125   55   -9  -33  -38  ...   -17   -15   -31   \n",
       "1  386  382  356  331  320  315  307  272  244  232  ...   164   150   146   \n",
       "2  -32  -39  -47  -37  -32  -36  -57  -73  -85  -94  ...    57    64    48   \n",
       "3 -105 -101  -96  -92  -89  -95 -102 -100  -87  -79  ...   -82   -81   -80   \n",
       "4   -9  -65  -98 -102  -78  -48  -16    0  -21  -59  ...     4     2   -12   \n",
       "\n",
       "   X173  X174  X175  X176  X177  X178  y  \n",
       "0   -77  -103  -127  -116   -83   -51  4  \n",
       "1   152   157   156   154   143   129  1  \n",
       "2    19   -12   -30   -35   -35   -36  5  \n",
       "3   -77   -85   -77   -72   -69   -65  5  \n",
       "4   -32   -41   -65   -83   -89   -73  5  \n",
       "\n",
       "[5 rows x 179 columns]"
      ]
     },
     "execution_count": 6,
     "metadata": {},
     "output_type": "execute_result"
    }
   ],
   "source": [
    "data.head()"
   ]
  },
  {
   "cell_type": "markdown",
   "id": "7a30242d",
   "metadata": {},
   "source": [
    "#### Look for any missing values\n",
    "We are using <code>pandas</code> to look for <code>Null</code> or <code>NaN</code>. We'll see there are no <code>Null</code> values."
   ]
  },
  {
   "cell_type": "code",
   "execution_count": 7,
   "id": "1e240121",
   "metadata": {},
   "outputs": [
    {
     "data": {
      "text/plain": [
       "X1      0\n",
       "X2      0\n",
       "X3      0\n",
       "X4      0\n",
       "X5      0\n",
       "       ..\n",
       "X175    0\n",
       "X176    0\n",
       "X177    0\n",
       "X178    0\n",
       "y       0\n",
       "Length: 179, dtype: int64"
      ]
     },
     "execution_count": 7,
     "metadata": {},
     "output_type": "execute_result"
    }
   ],
   "source": [
    "data.isnull().sum()"
   ]
  },
  {
   "cell_type": "code",
   "execution_count": 8,
   "id": "19703543",
   "metadata": {},
   "outputs": [
    {
     "data": {
      "text/plain": [
       "0"
      ]
     },
     "execution_count": 8,
     "metadata": {},
     "output_type": "execute_result"
    }
   ],
   "source": [
    "data.isnull().sum().sum()"
   ]
  },
  {
   "cell_type": "markdown",
   "id": "381c66dc",
   "metadata": {},
   "source": [
    "#### Pass the data to a numpy array"
   ]
  },
  {
   "cell_type": "code",
   "execution_count": 9,
   "id": "8a93ea2c",
   "metadata": {},
   "outputs": [],
   "source": [
    "X = data.iloc[:,:-1].to_numpy()\n",
    "# I am not totally sure why I have to put the [] on [-1]. On this way I have a list of vectors also on y\n",
    "y = data.iloc[:,[-1]].to_numpy()"
   ]
  },
  {
   "cell_type": "markdown",
   "id": "7d7770af",
   "metadata": {},
   "source": [
    "#### Convert $y$ into a binary variable"
   ]
  },
  {
   "cell_type": "code",
   "execution_count": 10,
   "id": "163d3588",
   "metadata": {},
   "outputs": [],
   "source": [
    "# any training data different than 1 will be 0\n",
    "y[y!=1]=0"
   ]
  },
  {
   "cell_type": "code",
   "execution_count": 11,
   "id": "244da8ce",
   "metadata": {},
   "outputs": [
    {
     "data": {
      "text/plain": [
       "<BarContainer object of 2 artists>"
      ]
     },
     "execution_count": 11,
     "metadata": {},
     "output_type": "execute_result"
    },
    {
     "data": {
      "image/png": "[encoded data removed]",
      "text/plain": [
       "<Figure size 432x288 with 1 Axes>"
      ]
     },
     "metadata": {
      "needs_background": "light"
     },
     "output_type": "display_data"
    }
   ],
   "source": [
    "output = ['No Seizure', 'Seizure']\n",
    "values = [np.count_nonzero(y==0), np.count_nonzero(y)]\n",
    "plt.bar(output, values)"
   ]
  },
  {
   "cell_type": "markdown",
   "id": "c07ae960",
   "metadata": {},
   "source": [
    "#### Standardize the data\n",
    "returns a normalized version of X where the mean value of each feature is 0 and the standard deviation is 1."
   ]
  },
  {
   "cell_type": "code",
   "execution_count": 12,
   "id": "698e68f7",
   "metadata": {},
   "outputs": [],
   "source": [
    "stdsc = StandardScaler()\n",
    "X_std = stdsc.fit_transform(X)"
   ]
  },
  {
   "cell_type": "markdown",
   "id": "478bfb7f",
   "metadata": {},
   "source": [
    "## Run PCA"
   ]
  },
  {
   "cell_type": "markdown",
   "id": "be1467a3",
   "metadata": {},
   "source": [
    "We are analyzing how much variance in the dataset can be explained by the principal components."
   ]
  },
  {
   "cell_type": "code",
   "execution_count": 41,
   "id": "41d39b84",
   "metadata": {},
   "outputs": [],
   "source": [
    "# cum_var stores the accumulative variance values\n",
    "pca = PCA(n_components=None)\n",
    "X_pca = pca.fit_transform(X_std)\n",
    "var_exp = pca.explained_variance_ratio_\n",
    "cum_var= np.cumsum(var_exp)"
   ]
  },
  {
   "cell_type": "code",
   "execution_count": 42,
   "id": "d18c6b5e",
   "metadata": {},
   "outputs": [
    {
     "data": {
      "text/plain": [
       "<BarContainer object of 178 artists>"
      ]
     },
     "execution_count": 42,
     "metadata": {},
     "output_type": "execute_result"
    },
    {
     "data": {
      "image/png": "[encoded data removed]",
      "text/plain": [
       "<Figure size 432x288 with 1 Axes>"
      ]
     },
     "metadata": {
      "needs_background": "light"
     },
     "output_type": "display_data"
    }
   ],
   "source": [
    "plt.bar(range(var_exp.size), cum_var)"
   ]
  },
  {
   "cell_type": "code",
   "execution_count": 43,
   "id": "70e29f58",
   "metadata": {},
   "outputs": [
    {
     "name": "stdout",
     "output_type": "stream",
     "text": [
      "From this index we explain more than 99% of the model:  52\n"
     ]
    }
   ],
   "source": [
    "# Let's find the first index above 0.99\n",
    "# We will set this as the number of components in PCA\n",
    "# because the features up to this index explain most \n",
    "# of the model\n",
    "K= np.searchsorted(cum_var, 0.99)\n",
    "print('From this index we explain more than 99% of the model: ', K)"
   ]
  },
  {
   "cell_type": "code",
   "execution_count": 44,
   "id": "37c980e0",
   "metadata": {},
   "outputs": [],
   "source": [
    "pca = PCA(n_components=K)\n",
    "X_pca = pca.fit_transform(X_std)"
   ]
  },
  {
   "cell_type": "code",
   "execution_count": 45,
   "id": "c74ecec7",
   "metadata": {},
   "outputs": [
    {
     "data": {
      "text/plain": [
       "(11500, 52)"
      ]
     },
     "execution_count": 45,
     "metadata": {},
     "output_type": "execute_result"
    }
   ],
   "source": [
    "X_pca.shape"
   ]
  },
  {
   "cell_type": "markdown",
   "id": "7c6ffa2d",
   "metadata": {},
   "source": [
    "<div class=\"alert alert-block alert-success\"> From now on we will continue our analysis with 52 features out of 178. Note that this reduces the amount of calculation to be done!</div>"
   ]
  },
  {
   "cell_type": "markdown",
   "id": "64f3a1da",
   "metadata": {},
   "source": [
    "## Divide training and test data"
   ]
  },
  {
   "cell_type": "code",
   "execution_count": 46,
   "id": "ed623c33",
   "metadata": {},
   "outputs": [],
   "source": [
    "X_train, X_test, y_train, y_test = train_test_split(\n",
    "    X_pca,\n",
    "    y.ravel(),\n",
    "    test_size=0.3,\n",
    "    random_state=42,\n",
    "    stratify=y)\n",
    "\n",
    "# I use y.ravel() to flatten in 1D the y array "
   ]
  },
  {
   "cell_type": "code",
   "execution_count": 47,
   "id": "b79c54b2",
   "metadata": {},
   "outputs": [
    {
     "data": {
      "text/plain": [
       "(8050, 52)"
      ]
     },
     "execution_count": 47,
     "metadata": {},
     "output_type": "execute_result"
    }
   ],
   "source": [
    "X_train.shape"
   ]
  },
  {
   "cell_type": "markdown",
   "id": "261f75c8",
   "metadata": {},
   "source": [
    "## Train a KNN model"
   ]
  },
  {
   "cell_type": "code",
   "execution_count": 48,
   "id": "d167f661",
   "metadata": {},
   "outputs": [
    {
     "data": {
      "text/plain": [
       "KNeighborsClassifier()"
      ]
     },
     "execution_count": 48,
     "metadata": {},
     "output_type": "execute_result"
    }
   ],
   "source": [
    "# p=2 and 'minkowski' is equivalent to euclidean distance\n",
    "knn = KNeighborsClassifier(n_neighbors=5,\n",
    "                          p=2,\n",
    "                          metric='minkowski')\n",
    "knn.fit(X_train, y_train)"
   ]
  },
  {
   "cell_type": "code",
   "execution_count": 49,
   "id": "8b1caf70",
   "metadata": {},
   "outputs": [
    {
     "data": {
      "text/plain": [
       "0.9257971014492754"
      ]
     },
     "execution_count": 49,
     "metadata": {},
     "output_type": "execute_result"
    }
   ],
   "source": [
    "knn.score(X_test, y_test)"
   ]
  },
  {
   "cell_type": "code",
   "execution_count": 50,
   "id": "ea29f7fe",
   "metadata": {},
   "outputs": [
    {
     "data": {
      "text/plain": [
       "0.9372670807453416"
      ]
     },
     "execution_count": 50,
     "metadata": {},
     "output_type": "execute_result"
    }
   ],
   "source": [
    "knn.score(X_train, y_train)"
   ]
  },
  {
   "cell_type": "markdown",
   "id": "399fb828",
   "metadata": {},
   "source": [
    "## F1 Classification Metric"
   ]
  },
  {
   "cell_type": "markdown",
   "id": "1ecd3ce0",
   "metadata": {},
   "source": [
    "<b>F1 Score</b> is a more robust classification metric than <b>accuracy</b> when the classes are <b>imbalanced</b>.\n",
    "Useful definitions:\n",
    "* <b>precision</b>: fraction of <i>predicted</i> positives that were correctly predicted\n",
    "* <b>recall</b>: fraction of <i>true</i> positives that were correctly predicted "
   ]
  },
  {
   "cell_type": "code",
   "execution_count": 51,
   "id": "6c119dc5",
   "metadata": {},
   "outputs": [],
   "source": [
    "y_pred_test = knn.predict(X_test)\n",
    "y_pred_train = knn.predict(X_train)"
   ]
  },
  {
   "cell_type": "code",
   "execution_count": 52,
   "id": "0a6d6c0e",
   "metadata": {},
   "outputs": [
    {
     "name": "stdout",
     "output_type": "stream",
     "text": [
      "[[2755    5]\n",
      " [ 251  439]]\n"
     ]
    }
   ],
   "source": [
    "confmat = confusion_matrix(y_true=y_test, y_pred=y_pred_test)\n",
    "print(confmat)"
   ]
  },
  {
   "cell_type": "code",
   "execution_count": 53,
   "id": "7a3022c5",
   "metadata": {},
   "outputs": [
    {
     "data": {
      "text/plain": [
       "<sklearn.metrics._plot.confusion_matrix.ConfusionMatrixDisplay at 0x285cb04b580>"
      ]
     },
     "execution_count": 53,
     "metadata": {},
     "output_type": "execute_result"
    },
    {
     "data": {
      "image/png": "[encoded data removed]",
      "text/plain": [
       "<Figure size 432x288 with 2 Axes>"
      ]
     },
     "metadata": {
      "needs_background": "light"
     },
     "output_type": "display_data"
    }
   ],
   "source": [
    "ConfusionMatrixDisplay.from_estimator(knn,\n",
    "                                      X_test,\n",
    "                                      y_test,\n",
    "                                      display_labels=['No Seizure', 'Seizure'],\n",
    "                                      normalize='true',\n",
    "                                      cmap='Blues')"
   ]
  },
  {
   "cell_type": "code",
   "execution_count": 54,
   "id": "1a344cf2",
   "metadata": {},
   "outputs": [
    {
     "name": "stdout",
     "output_type": "stream",
     "text": [
      "Train f1 Score: 0.8145427836944547\n",
      "Test f1 Score: 0.7742504409171077\n",
      "              precision    recall  f1-score   support\n",
      "\n",
      "           0       0.92      1.00      0.96      2760\n",
      "           1       0.99      0.64      0.77       690\n",
      "\n",
      "    accuracy                           0.93      3450\n",
      "   macro avg       0.95      0.82      0.86      3450\n",
      "weighted avg       0.93      0.93      0.92      3450\n",
      "\n"
     ]
    }
   ],
   "source": [
    "print(f'Train f1 Score: {f1_score(y_train, y_pred_train)}')\n",
    "print(f'Test f1 Score: {f1_score(y_test, y_pred_test)}')\n",
    "print(classification_report(y_test, y_pred_test))"
   ]
  },
  {
   "cell_type": "markdown",
   "id": "63e3ceec",
   "metadata": {},
   "source": [
    "<div class=\"alert alert-block alert-success\"> We can see that the test F1 score is 0.77. In fact, the model seems to be very good predicting \"No seizures\", almos 100% of the 0 labels were predicted 0, but not as good predicting \"Seizures\", only 64% of the 1 labels were predicted 1.</div>"
   ]
  },
  {
   "cell_type": "markdown",
   "id": "16e6fecd",
   "metadata": {},
   "source": [
    "## Using F1 to find the optimal number of PCA components\n",
    "We will now try to identify which is the optimal number of PCA components to run our model using F1 as a classification metric. "
   ]
  },
  {
   "cell_type": "code",
   "execution_count": 78,
   "id": "ad1a103e",
   "metadata": {},
   "outputs": [],
   "source": [
    "train_f1 = list()\n",
    "test_f1 = list()\n",
    "n = 30\n",
    "\n",
    "pca = PCA(n_components=178)\n",
    "X_pca = pca.fit_transform(X_std)"
   ]
  },
  {
   "cell_type": "code",
   "execution_count": 84,
   "id": "49784033",
   "metadata": {},
   "outputs": [],
   "source": [
    "for i in range(1,n):\n",
    "    X_pca_i= X_pca[:, 0:i]\n",
    "    \n",
    "    X_train, X_test, y_train, y_test = train_test_split(\n",
    "        X_pca_i,\n",
    "        y.ravel(),\n",
    "        test_size=0.3,\n",
    "        random_state=42,\n",
    "        stratify=y)\n",
    "    \n",
    "    knn = KNeighborsClassifier(n_neighbors=5,\n",
    "                               p=2,\n",
    "                               metric='minkowski')\n",
    "    knn.fit(X_train, y_train) \n",
    "    \n",
    "    y_pred_test = knn.predict(X_test)\n",
    "    y_pred_train = knn.predict(X_train)\n",
    "    \n",
    "    train_f1.append(f1_score(y_train, y_pred_train))\n",
    "    test_f1.append(f1_score(y_test, y_pred_test))"
   ]
  },
  {
   "cell_type": "code",
   "execution_count": 85,
   "id": "725b838f",
   "metadata": {},
   "outputs": [
    {
     "data": {
      "text/plain": [
       "array([], shape=(11500, 0), dtype=float64)"
      ]
     },
     "execution_count": 85,
     "metadata": {},
     "output_type": "execute_result"
    }
   ],
   "source": [
    "X_pca[:, 0:0]"
   ]
  },
  {
   "cell_type": "code",
   "execution_count": 86,
   "id": "73b1f6ec",
   "metadata": {},
   "outputs": [
    {
     "data": {
      "image/png": "[encoded data removed]",
      "text/plain": [
       "<Figure size 432x288 with 1 Axes>"
      ]
     },
     "metadata": {
      "needs_background": "light"
     },
     "output_type": "display_data"
    }
   ],
   "source": [
    "plt.plot(range(1,n), train_f1, label='Train F1 score')\n",
    "plt.plot(range(1,n), test_f1, label='Test F1 score')\n",
    "plt.ylabel('F1 score')\n",
    "plt.xlabel('Number of principal components')\n",
    "plt.legend()\n",
    "plt.show()"
   ]
  },
  {
   "cell_type": "markdown",
   "id": "65da9e7e",
   "metadata": {},
   "source": [
    "We see in the diagram that both F1 scores are peaking when the number of principal components is 5."
   ]
  },
  {
   "cell_type": "markdown",
   "id": "3e1f16ff",
   "metadata": {},
   "source": [
    "#### Model estimation using the optimal number of principal components"
   ]
  },
  {
   "cell_type": "code",
   "execution_count": 102,
   "id": "4164d87d",
   "metadata": {},
   "outputs": [],
   "source": [
    "X_pca_i= X_pca[:, :5]\n",
    "X_train, X_test, y_train, y_test = train_test_split(\n",
    "    X_pca_i,\n",
    "    y.ravel(),\n",
    "    test_size=0.3,\n",
    "    random_state=42,\n",
    "    stratify=y)\n",
    "\n",
    "knn = KNeighborsClassifier(n_neighbors=5,\n",
    "                           p=2,\n",
    "                           metric='minkowski')\n",
    "knn.fit(X_train, y_train) \n",
    "    \n",
    "y_pred_test = knn.predict(X_test)\n",
    "y_pred_train = knn.predict(X_train)"
   ]
  },
  {
   "cell_type": "code",
   "execution_count": 103,
   "id": "4c9fdcbe",
   "metadata": {},
   "outputs": [
    {
     "data": {
      "text/plain": [
       "<sklearn.metrics._plot.confusion_matrix.ConfusionMatrixDisplay at 0x285cb87b3d0>"
      ]
     },
     "execution_count": 103,
     "metadata": {},
     "output_type": "execute_result"
    },
    {
     "data": {
      "image/png": "[encoded data removed]",
      "text/plain": [
       "<Figure size 432x288 with 2 Axes>"
      ]
     },
     "metadata": {
      "needs_background": "light"
     },
     "output_type": "display_data"
    }
   ],
   "source": [
    "ConfusionMatrixDisplay.from_estimator(knn,\n",
    "                                      X_test,\n",
    "                                      y_test,\n",
    "                                      display_labels=['No Seizure', 'Seizure'],\n",
    "                                      normalize='true',\n",
    "                                      cmap='Blues')"
   ]
  },
  {
   "cell_type": "code",
   "execution_count": 104,
   "id": "dbcc4830",
   "metadata": {},
   "outputs": [
    {
     "name": "stdout",
     "output_type": "stream",
     "text": [
      "Train f1 Score: 0.9109364767518009\n",
      "Test f1 Score: 0.8892331525948877\n",
      "              precision    recall  f1-score   support\n",
      "\n",
      "           0       0.96      0.99      0.97      2760\n",
      "           1       0.96      0.83      0.89       690\n",
      "\n",
      "    accuracy                           0.96      3450\n",
      "   macro avg       0.96      0.91      0.93      3450\n",
      "weighted avg       0.96      0.96      0.96      3450\n",
      "\n"
     ]
    }
   ],
   "source": [
    "print(f'Train f1 Score: {f1_score(y_train, y_pred_train)}')\n",
    "print(f'Test f1 Score: {f1_score(y_test, y_pred_test)}')\n",
    "print(classification_report(y_test, y_pred_test))"
   ]
  },
  {
   "cell_type": "markdown",
   "id": "bcc9d72b",
   "metadata": {},
   "source": [
    "<div class=\"alert alert-block alert-success\"> To conclude we have seen that with only 5 principal components we can do far better than with a bigger number of features!</div>"
   ]
  },
  {
   "cell_type": "code",
   "execution_count": null,
   "id": "2e1cda09",
   "metadata": {},
   "outputs": [],
   "source": []
  }
 ],
 "metadata": {
  "kernelspec": {
   "display_name": "Python 3 (ipykernel)",
   "language": "python",
   "name": "python3"
  },
  "language_info": {
   "codemirror_mode": {
    "name": "ipython",
    "version": 3
   },
   "file_extension": ".py",
   "mimetype": "text/x-python",
   "name": "python",
   "nbconvert_exporter": "python",
   "pygments_lexer": "ipython3",
   "version": "3.10.1"
  }
 },
 "nbformat": 4,
 "nbformat_minor": 5
}
