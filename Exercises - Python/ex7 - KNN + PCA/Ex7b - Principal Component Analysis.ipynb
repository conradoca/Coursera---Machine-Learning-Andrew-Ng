{
 "cells": [
  {
   "cell_type": "markdown",
   "id": "16b1cf20",
   "metadata": {},
   "source": [
    "# Ex7b - Principal Component Analysis (PCA)\n",
    "PCA consists in two computational steps:\n",
    "* Compute the covariance matrix of the data\n",
    "* Compute the eigenvectors $U_1, U_2,.., U_n$\n",
    "\n",
    "Before using the data it is important to normalize and use the same scale for each dimension."
   ]
  },
  {
   "cell_type": "code",
   "execution_count": 1,
   "id": "acbb1cc1",
   "metadata": {},
   "outputs": [],
   "source": [
    "# Importing the needed libraries\n",
    "# import pandas as pd\n",
    "import numpy as np\n",
    "import matplotlib.pyplot as plt\n",
    "\n",
    "# We'll use loadmap to load the matlab dataset\n",
    "from scipy.io import loadmat\n",
    "\n",
    "# tells matplotlib to embed plots within the notebook\n",
    "%matplotlib inline\n",
    "\n",
    "from sklearn.preprocessing import StandardScaler\n",
    "from sklearn.pipeline import make_pipeline"
   ]
  },
  {
   "cell_type": "markdown",
   "id": "59bc08ee",
   "metadata": {},
   "source": [
    "## Load and visualiza the data"
   ]
  },
  {
   "cell_type": "code",
   "execution_count": 2,
   "id": "28caecac",
   "metadata": {},
   "outputs": [],
   "source": [
    "# Loading all data on a dictonary\n",
    "data = loadmat('ex7data1.mat')\n",
    "\n",
    "# Convert the data into a numpy array\n",
    "X = data['X']"
   ]
  },
  {
   "cell_type": "code",
   "execution_count": 3,
   "id": "d5c48c7f",
   "metadata": {},
   "outputs": [
    {
     "data": {
      "text/plain": [
       "<matplotlib.collections.PathCollection at 0x2107f081d80>"
      ]
     },
     "execution_count": 3,
     "metadata": {},
     "output_type": "execute_result"
    },
    {
     "data": {
      "image/png": "[encoded data removed]",
      "text/plain": [
       "<Figure size 432x288 with 1 Axes>"
      ]
     },
     "metadata": {
      "needs_background": "light"
     },
     "output_type": "display_data"
    }
   ],
   "source": [
    "plt.scatter(X[:,0],X[:,1], marker='o', alpha=0.5)"
   ]
  },
  {
   "cell_type": "markdown",
   "id": "c07ae960",
   "metadata": {},
   "source": [
    "## Normalize the data\n",
    "returns a normalized version of X where the mean value of each feature is 0 and the standard deviation is 1."
   ]
  },
  {
   "cell_type": "code",
   "execution_count": 4,
   "id": "698e68f7",
   "metadata": {},
   "outputs": [
    {
     "data": {
      "text/plain": [
       "<matplotlib.collections.PathCollection at 0x2107f1d9b70>"
      ]
     },
     "execution_count": 4,
     "metadata": {},
     "output_type": "execute_result"
    },
    {
     "data": {
      "image/png": "[encoded data removed]",
      "text/plain": [
       "<Figure size 432x288 with 1 Axes>"
      ]
     },
     "metadata": {
      "needs_background": "light"
     },
     "output_type": "display_data"
    }
   ],
   "source": [
    "stdsc = StandardScaler()\n",
    "X_std = stdsc.fit_transform(X)\n",
    "plt.scatter(X_std[:,0],X_std[:,1], marker='o', alpha=0.5)"
   ]
  },
  {
   "cell_type": "markdown",
   "id": "478bfb7f",
   "metadata": {},
   "source": [
    "## Run principal component analysis on the dataset"
   ]
  },
  {
   "cell_type": "code",
   "execution_count": 5,
   "id": "37c980e0",
   "metadata": {},
   "outputs": [],
   "source": [
    "m, n = X_std.shape\n",
    "# K is the desired number of dimensions to reduce to \n",
    "K = 1\n",
    "\n",
    "# Calculate the covariance matrix\n",
    "sigma = (1/m)*np.dot(X_std.T, X_std)\n",
    "\n",
    "# Calculate the eigenvectors\n",
    "eigVal, eigVec = np.linalg.eig(sigma)"
   ]
  },
  {
   "cell_type": "markdown",
   "id": "8d730a9f",
   "metadata": {},
   "source": [
    "<code>eigVal</code> is an 1-D array containing the eigenvalues of <code>sigma</code>."
   ]
  },
  {
   "cell_type": "code",
   "execution_count": 6,
   "id": "917fbfeb",
   "metadata": {},
   "outputs": [
    {
     "data": {
      "text/plain": [
       "array([1.73553038, 0.26446962])"
      ]
     },
     "execution_count": 6,
     "metadata": {},
     "output_type": "execute_result"
    }
   ],
   "source": [
    "eigVal"
   ]
  },
  {
   "cell_type": "markdown",
   "id": "0f349b1f",
   "metadata": {},
   "source": [
    "<code>eigVec</code> is a 2-D square array of the corresponding eigenvectors (in columns). The column <code>eigVec[:, i]</code> is the normalized eigenvector corresponding to the eigenvalue <code>w[i]</code>. Will return a matrix object if a is a matrix object."
   ]
  },
  {
   "cell_type": "code",
   "execution_count": 7,
   "id": "31439d5b",
   "metadata": {},
   "outputs": [
    {
     "data": {
      "text/plain": [
       "array([[ 0.70710678, -0.70710678],\n",
       "       [ 0.70710678,  0.70710678]])"
      ]
     },
     "execution_count": 7,
     "metadata": {},
     "output_type": "execute_result"
    }
   ],
   "source": [
    "eigVec"
   ]
  },
  {
   "cell_type": "markdown",
   "id": "00bdf5ed",
   "metadata": {},
   "source": [
    "<b>The eigenvalues define the magnitude of the eigenvectors</b>. We are interested in the top $k$ eigenvectors based on the values of their corresponding eigenvalues. Therefore the steps will be now:\n",
    "* Select $k$ eigenvectors, which correspond to the $k$ largest eigenvalues, where $k$ is the dimensionality of the new subspace\n",
    "* Construct a projection matrix, <b>$W$</b>, from the top $k$ eigenvectors\n",
    "* Transform the $d$-dimensional input dataset, <b>$X$</b>, using the projection matrix, <b>$W$</b>, to obtain the new $k$-dimensional feature subspace. \n",
    "\n",
    "The number $k$ has to be determined by a tradeoff betweek computational efficiency and the performance of the classifier."
   ]
  },
  {
   "cell_type": "code",
   "execution_count": 8,
   "id": "7450e2b9",
   "metadata": {},
   "outputs": [],
   "source": [
    "# list of eigenvalue, eigenvector tuples\n",
    "# We set the absolute value of any eigenvalues\n",
    "eigPairs = [(np.abs(eigVal[i]), eigVec[:, i]) for i in range(len(eigVal))]"
   ]
  },
  {
   "cell_type": "code",
   "execution_count": 9,
   "id": "4fba102a",
   "metadata": {},
   "outputs": [
    {
     "data": {
      "text/plain": [
       "[(1.7355303763393295, array([0.70710678, 0.70710678])),\n",
       " (0.2644696236606705, array([-0.70710678,  0.70710678]))]"
      ]
     },
     "execution_count": 9,
     "metadata": {},
     "output_type": "execute_result"
    }
   ],
   "source": [
    "eigPairs"
   ]
  },
  {
   "cell_type": "code",
   "execution_count": 10,
   "id": "8a55a00d",
   "metadata": {},
   "outputs": [],
   "source": [
    "# Sorting the tuple \n",
    "eigPairs.sort(key=lambda k: k[0], reverse=True)"
   ]
  },
  {
   "cell_type": "code",
   "execution_count": 11,
   "id": "d468f43a",
   "metadata": {},
   "outputs": [
    {
     "data": {
      "text/plain": [
       "[(1.7355303763393295, array([0.70710678, 0.70710678])),\n",
       " (0.2644696236606705, array([-0.70710678,  0.70710678]))]"
      ]
     },
     "execution_count": 11,
     "metadata": {},
     "output_type": "execute_result"
    }
   ],
   "source": [
    "eigPairs"
   ]
  },
  {
   "cell_type": "code",
   "execution_count": 134,
   "id": "45e46c44",
   "metadata": {},
   "outputs": [],
   "source": [
    "# Creating the W matrix with the k top eigenvectors\n",
    "W = np.empty((n, 0))\n",
    "for i in range(K): W = np.concatenate((W, eigPairs[i][1][:, np.newaxis]), axis=1)"
   ]
  },
  {
   "cell_type": "code",
   "execution_count": 135,
   "id": "835a5ad3",
   "metadata": {},
   "outputs": [
    {
     "data": {
      "text/plain": [
       "array([[0.70710678],\n",
       "       [0.70710678]])"
      ]
     },
     "execution_count": 135,
     "metadata": {},
     "output_type": "execute_result"
    }
   ],
   "source": [
    "W"
   ]
  },
  {
   "cell_type": "code",
   "execution_count": 136,
   "id": "77881f07",
   "metadata": {},
   "outputs": [],
   "source": [
    "X_pca = np.dot(X_std, W)"
   ]
  },
  {
   "cell_type": "code",
   "execution_count": 139,
   "id": "26deb8bd",
   "metadata": {},
   "outputs": [
    {
     "data": {
      "text/plain": [
       "array([[-1.49631261],\n",
       "       [ 0.92218067],\n",
       "       [-1.22439232],\n",
       "       [-1.64386173],\n",
       "       [-1.2732206 ],\n",
       "       [ 0.97681976],\n",
       "       [-1.26881187],\n",
       "       [ 2.34148278],\n",
       "       [ 0.02999141],\n",
       "       [ 0.78171789],\n",
       "       [ 0.6316777 ],\n",
       "       [ 0.55280135],\n",
       "       [ 0.0896816 ],\n",
       "       [ 0.5258541 ],\n",
       "       [-1.56415455],\n",
       "       [ 1.91610366],\n",
       "       [ 0.88679735],\n",
       "       [-0.95607375],\n",
       "       [ 2.32995679],\n",
       "       [ 0.47793862],\n",
       "       [ 2.21747195],\n",
       "       [-0.38900633],\n",
       "       [ 1.78482346],\n",
       "       [-0.05175486],\n",
       "       [-1.66512392],\n",
       "       [-0.50813572],\n",
       "       [ 1.23711018],\n",
       "       [ 1.17198677],\n",
       "       [-0.84221686],\n",
       "       [ 0.00693174],\n",
       "       [ 0.22794195],\n",
       "       [ 1.51309518],\n",
       "       [-1.33874082],\n",
       "       [ 0.5925244 ],\n",
       "       [-0.67907605],\n",
       "       [ 1.35298   ],\n",
       "       [-1.68749495],\n",
       "       [ 1.39235931],\n",
       "       [-2.55992598],\n",
       "       [ 0.27850702],\n",
       "       [ 0.97677692],\n",
       "       [-0.88820006],\n",
       "       [-1.29666127],\n",
       "       [ 0.98966774],\n",
       "       [-1.81272352],\n",
       "       [ 0.27196356],\n",
       "       [-3.19297722],\n",
       "       [-1.21299151],\n",
       "       [-0.36792871],\n",
       "       [ 1.44264131]])"
      ]
     },
     "execution_count": 139,
     "metadata": {},
     "output_type": "execute_result"
    }
   ],
   "source": [
    "X_pca"
   ]
  },
  {
   "cell_type": "markdown",
   "id": "be979581",
   "metadata": {},
   "source": [
    "## Recovering the data back to the original space"
   ]
  },
  {
   "cell_type": "code",
   "execution_count": 137,
   "id": "30803102",
   "metadata": {},
   "outputs": [],
   "source": [
    "X_rec = np.dot(X_pca, W.T)"
   ]
  },
  {
   "cell_type": "code",
   "execution_count": 138,
   "id": "a3eda260",
   "metadata": {},
   "outputs": [
    {
     "data": {
      "text/plain": [
       "array([[-1.05805279, -1.05805279],\n",
       "       [ 0.65208021,  0.65208021],\n",
       "       [-0.86577611, -0.86577611],\n",
       "       [-1.16238578, -1.16238578],\n",
       "       [-0.90030292, -0.90030292],\n",
       "       [ 0.69071588,  0.69071588],\n",
       "       [-0.89718548, -0.89718548],\n",
       "       [ 1.65567835,  1.65567835],\n",
       "       [ 0.02120713,  0.02120713],\n",
       "       [ 0.55275802,  0.55275802],\n",
       "       [ 0.44666359,  0.44666359],\n",
       "       [ 0.39088959,  0.39088959],\n",
       "       [ 0.06341447,  0.06341447],\n",
       "       [ 0.371835  ,  0.371835  ],\n",
       "       [-1.10602429, -1.10602429],\n",
       "       [ 1.35488989,  1.35488989],\n",
       "       [ 0.62706042,  0.62706042],\n",
       "       [-0.67604623, -0.67604623],\n",
       "       [ 1.64752825,  1.64752825],\n",
       "       [ 0.33795364,  0.33795364],\n",
       "       [ 1.56798945,  1.56798945],\n",
       "       [-0.27506901, -0.27506901],\n",
       "       [ 1.26206077,  1.26206077],\n",
       "       [-0.03659622, -0.03659622],\n",
       "       [-1.17742041, -1.17742041],\n",
       "       [-0.35930621, -0.35930621],\n",
       "       [ 0.874769  ,  0.874769  ],\n",
       "       [ 0.82871979,  0.82871979],\n",
       "       [-0.59553725, -0.59553725],\n",
       "       [ 0.00490148,  0.00490148],\n",
       "       [ 0.1611793 ,  0.1611793 ],\n",
       "       [ 1.06991986,  1.06991986],\n",
       "       [-0.94663271, -0.94663271],\n",
       "       [ 0.41897802,  0.41897802],\n",
       "       [-0.48017928, -0.48017928],\n",
       "       [ 0.95670134,  0.95670134],\n",
       "       [-1.19323912, -1.19323912],\n",
       "       [ 0.98454671,  0.98454671],\n",
       "       [-1.81014102, -1.81014102],\n",
       "       [ 0.1969342 ,  0.1969342 ],\n",
       "       [ 0.69068559,  0.69068559],\n",
       "       [-0.62805228, -0.62805228],\n",
       "       [-0.91687797, -0.91687797],\n",
       "       [ 0.69980077,  0.69980077],\n",
       "       [-1.28178909, -1.28178909],\n",
       "       [ 0.19230728,  0.19230728],\n",
       "       [-2.25777584, -2.25777584],\n",
       "       [-0.85771452, -0.85771452],\n",
       "       [-0.26016489, -0.26016489],\n",
       "       [ 1.02010145,  1.02010145]])"
      ]
     },
     "execution_count": 138,
     "metadata": {},
     "output_type": "execute_result"
    }
   ],
   "source": [
    "X_rec"
   ]
  },
  {
   "cell_type": "code",
   "execution_count": null,
   "id": "8359231a",
   "metadata": {},
   "outputs": [],
   "source": []
  }
 ],
 "metadata": {
  "kernelspec": {
   "display_name": "Python 3 (ipykernel)",
   "language": "python",
   "name": "python3"
  },
  "language_info": {
   "codemirror_mode": {
    "name": "ipython",
    "version": 3
   },
   "file_extension": ".py",
   "mimetype": "text/x-python",
   "name": "python",
   "nbconvert_exporter": "python",
   "pygments_lexer": "ipython3",
   "version": "3.10.1"
  }
 },
 "nbformat": 4,
 "nbformat_minor": 5
}
