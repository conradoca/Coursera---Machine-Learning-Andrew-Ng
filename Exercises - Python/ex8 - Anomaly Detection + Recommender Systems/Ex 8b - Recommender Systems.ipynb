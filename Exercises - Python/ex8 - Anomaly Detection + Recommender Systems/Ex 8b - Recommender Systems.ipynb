{
 "cells": [
  {
   "cell_type": "markdown",
   "id": "132802d2",
   "metadata": {},
   "source": [
    "# Ex 8b: Recommender Systems"
   ]
  },
  {
   "cell_type": "markdown",
   "id": "4aa49d0a",
   "metadata": {},
   "source": [
    "In this exercise we will implement a recommendation system for a movies website. An interesting idea of this exercise is that it also learns by itself the features for each movie. So, we won't be designing if one features weights violence or romantic but the model will calculate it by itself."
   ]
  },
  {
   "cell_type": "markdown",
   "id": "5cb7eb5b",
   "metadata": {},
   "source": [
    "# Problem formulation\n",
    "Imagine an online movie rental website such as Netflix. Each movie ($i$) gets evaluated by each user ($j$) with a value from one to five stars. With this we can build a matrix where each value $(i, j)$ corresponds with the number of stars given by user $j$ to the movie $i$.\n",
    "\n",
    "Furthermore, each movie can be defined by some features weighting, as an example, whether the movie has romantic or action components. With this we could define another matrix where each $(i, j)$ value corresponds to the weight of feature $j$ on the movie $i$.\n",
    "\n",
    "Not all the users have seen all movie.s Therefore some values might not be defined. We will be creating a third array with boleean values where each $(i,j)$ will be 1 if the movie $i$ was rated by user $j$ and 0 in case not."
   ]
  },
  {
   "cell_type": "code",
   "execution_count": 1,
   "id": "0a76dbbc",
   "metadata": {},
   "outputs": [],
   "source": [
    "# Importing the needed libraries\n",
    "# import pandas as pd\n",
    "import numpy as np\n",
    "#import matplotlib.pyplot as plt\n",
    "\n",
    "# We'll use loadmap to load the matlab dataset\n",
    "from scipy.io import loadmat\n",
    "# Optimization module in scipy\n",
    "from scipy import optimize\n",
    "\n",
    "# tells matplotlib to embed plots within the notebook\n",
    "#%matplotlib inline"
   ]
  },
  {
   "cell_type": "code",
   "execution_count": 2,
   "id": "38cc4bb1",
   "metadata": {},
   "outputs": [],
   "source": [
    "class CollabFiltering:\n",
    "    \n",
    "    def __init__(self, parDef, epochs=50, lmbd=0):\n",
    "        self.parDef = parDef\n",
    "        self.epochs = epochs\n",
    "        self.lmbd = lmbd\n",
    "    \n",
    "    def _randomInitialize(self, m, n):\n",
    "\n",
    "        # We are adding 1 row to take in consideration the bias unit\n",
    "        W = np.zeros((m, n))\n",
    "\n",
    "        # The random function provides random values uniformly distributed between [0,1)\n",
    "        # We'll multiply by a very small value (epsilon) to make sure the output is made\n",
    "        # of very small values\n",
    "        eps = 0.12\n",
    "\n",
    "        # We get a testCases random datapoints. First we get a number of testCases indices out of m\n",
    "        W = np.random.rand(m, n)*(2*eps)-eps\n",
    "        return W\n",
    "    \n",
    "    def _RollTo1D(self, Theta):\n",
    "\n",
    "        Theta1D = Theta[:,0].reshape(-1)\n",
    "        for i in range(1, Theta.shape[1]):\n",
    "            Theta1D = np.concatenate((Theta1D, Theta[:,i].reshape(-1)), axis=None)\n",
    "\n",
    "        return Theta1D\n",
    "\n",
    "    # Theta1D is a vector that must be enrolled into an 2D array\n",
    "    # Shape is a tuple containing the sizes of the 2D array\n",
    "    def _UnrollFrom1D(self, Theta1D, shape):\n",
    "        # Useful variables\n",
    "        m = shape[0]      # Destination shape high\n",
    "        n = shape[1]      # Destination shape witdh\n",
    "\n",
    "        Theta = np.zeros((m , n))\n",
    "        Theta = np.reshape(Theta1D, (m,n), order = 'F')\n",
    "        return Theta   \n",
    "    \n",
    "    def _CostFunction(self, parameters, parDef, R, Y, lmbd):\n",
    "        \n",
    "        X = self._UnrollFrom1D(parameters[:(parDef[1]*parDef[2])], (parDef[1], parDef[2]))\n",
    "        Theta = self._UnrollFrom1D(parameters[(parDef[1]*parDef[2]):], (parDef[0], parDef[2]))\n",
    "                               \n",
    "        J = 0\n",
    "        \n",
    "        J = (1/2)*np.sum((np.power((X.dot(Theta.T)-Y), 2)*R)) + ((lmbd/2)*np.sum(np.power(Theta, 2))) + ((lmbd/2)*np.sum(np.power(X, 2)))\n",
    "        \n",
    "        X_grad = ((X.dot(Theta.T)-Y)*R).dot(Theta) + lmbd*X\n",
    "        Theta_grad = ((X.dot(Theta.T)-Y)*R).T.dot(X)  + lmbd*Theta\n",
    "\n",
    "        grad = np.concatenate((self._RollTo1D(X_grad), self._RollTo1D(Theta_grad)), axis=0)\n",
    "                                   \n",
    "        return J, grad\n",
    "    \n",
    "    def fit(self, R, Y):\n",
    "        \n",
    "        #Initializing parameters with both X and Theta\n",
    "        X = np.zeros((parDef[1], parDef[2]))\n",
    "        Theta = np.zeros((parDef[0], parDef[2]))\n",
    "        \n",
    "        X = self._randomInitialize(parDef[1], parDef[2])\n",
    "        Theta = self._randomInitialize(parDef[0], parDef[2])\n",
    "        \n",
    "        initialParams = np.concatenate((self._RollTo1D(X), self._RollTo1D(Theta)), axis=0)\n",
    "        \n",
    "        # set options for optimize.minimize\n",
    "        options = {'maxiter': self.epochs}\n",
    "\n",
    "        # The function returns an object `OptimizeResult`\n",
    "        # We use truncated Newton algorithm for optimization which is\n",
    "        # equivalent to MATLAB's fminunc\n",
    "        # See https://stackoverflow.com/questions/18801002/fminunc-alternate-in-numpy\n",
    "        res = optimize.minimize(self._CostFunction,\n",
    "                                initialParams,\n",
    "                                (self.parDef, R, Y, self.lmbd),\n",
    "                                jac=True,\n",
    "                                method='TNC',\n",
    "                                options=options)\n",
    "\n",
    "        # the fun property of `OptimizeResult` object returns\n",
    "        # the value of costFunction at optimized theta\n",
    "        self.cost = res.fun\n",
    "\n",
    "        # the optimized theta is in the x property\n",
    "        self.params = res.x\n",
    "        \n",
    "        self.X = self._UnrollFrom1D(self.params[:(parDef[1]*parDef[2])], (parDef[1], parDef[2]))\n",
    "        self.Theta = self._UnrollFrom1D(self.params[(parDef[1]*parDef[2]):], (parDef[0], parDef[2]))\n",
    "        \n",
    "        return self\n",
    "        \n",
    " "
   ]
  },
  {
   "cell_type": "code",
   "execution_count": 3,
   "id": "e635ad50",
   "metadata": {},
   "outputs": [],
   "source": [
    "# Apply mean normalizations to the values already rated \n",
    "def normalizeRatings(Y, R):\n",
    "    Ytemp= np.where(R!=0, Y, np.nan)\n",
    "    Ymean= np.nanmean(Ytemp, axis=1).reshape(Y.shape[0],1)\n",
    "    Ynorm= np.nan_to_num(Ytemp)-np.where(np.isnan(Ytemp), 0, Ymean)\n",
    "    return Ynorm, Ymean\n",
    "\n",
    "def magic(n):\n",
    "  n = int(n)\n",
    "  if n < 3:\n",
    "    raise ValueError(\"Size must be at least 3\")\n",
    "  if n % 2 == 1:\n",
    "    p = np.arange(1, n+1)\n",
    "    return n*np.mod(p[:, None] + p - (n+3)//2, n) + np.mod(p[:, None] + 2*p-2, n) + 1\n",
    "  elif n % 4 == 0:\n",
    "    J = np.mod(np.arange(1, n+1), 4) // 2\n",
    "    K = J[:, None] == J\n",
    "    M = np.arange(1, n*n+1, n)[:, None] + np.arange(n)\n",
    "    M[K] = n*n + 1 - M[K]\n",
    "  else:\n",
    "    p = n//2\n",
    "    M = magic(p)\n",
    "    M = np.block([[M, M+2*p*p], [M+3*p*p, M+p*p]])\n",
    "    i = np.arange(p)\n",
    "    k = (n-2)//4\n",
    "    j = np.concatenate((np.arange(k), np.arange(n-k+1, n)))\n",
    "    M[np.ix_(np.concatenate((i, i+p)), j)] = M[np.ix_(np.concatenate((i+p, i)), j)]\n",
    "    M[np.ix_([k, k+p], [0, k])] = M[np.ix_([k+p, k], [0, k])]\n",
    "  return M "
   ]
  },
  {
   "cell_type": "code",
   "execution_count": 23,
   "id": "4cb6fa8a",
   "metadata": {},
   "outputs": [],
   "source": [
    "# Loading all data on a dictonary\n",
    "data = loadmat('ex8_movies.mat')"
   ]
  },
  {
   "cell_type": "code",
   "execution_count": 24,
   "id": "8198b4b3",
   "metadata": {},
   "outputs": [
    {
     "data": {
      "text/plain": [
       "dict_keys(['__header__', '__version__', '__globals__', 'Y', 'R'])"
      ]
     },
     "execution_count": 24,
     "metadata": {},
     "output_type": "execute_result"
    }
   ],
   "source": [
    "data.keys()"
   ]
  },
  {
   "cell_type": "markdown",
   "id": "7406fccd",
   "metadata": {},
   "source": [
    "The $Y$ matrix stores the ratings $y^{(i,j)}$. \n",
    "The $R$ matrix stores the values $R{(i,j)}$, which determines whether the user $j$ gave a rating to movie $i$.\n",
    "\n",
    "Collaborative filtering's objective is to predict movies ratings for the movies that the users have not yet rated. That is entries with $R(i,j)=0$.\n",
    "\n",
    "The recomending system will provide the movies with the highest predicted ratings to the user."
   ]
  },
  {
   "cell_type": "code",
   "execution_count": 25,
   "id": "61f15970",
   "metadata": {},
   "outputs": [],
   "source": [
    "Y=data['Y']\n",
    "R=data['R']"
   ]
  },
  {
   "cell_type": "code",
   "execution_count": 26,
   "id": "23e090b6",
   "metadata": {},
   "outputs": [
    {
     "data": {
      "text/plain": [
       "(1682, 943)"
      ]
     },
     "execution_count": 26,
     "metadata": {},
     "output_type": "execute_result"
    }
   ],
   "source": [
    "Y.shape"
   ]
  },
  {
   "cell_type": "code",
   "execution_count": 27,
   "id": "cc6c5cb5",
   "metadata": {},
   "outputs": [
    {
     "name": "stdout",
     "output_type": "stream",
     "text": [
      "The first movie's average rating is: 3.8783\n"
     ]
    }
   ],
   "source": [
    "# Average movie rating for the first movie \n",
    "print('The first movie\\'s average rating is: %.4f'%np.mean(Y[0][np.where(R[0])]))"
   ]
  },
  {
   "cell_type": "markdown",
   "id": "c1a9ff6e",
   "metadata": {},
   "source": [
    "We will also work with the $X$ matrix. The $i$-row in $X$ corresponds to the feature vector $X^i$ for the $i$-th movie. The values of the vector $(x^{i}_{0}, x^{i}_{1}, x^{i}_{2},.....,x^{i}_{n})$ represent the weight of each feature on that movie. \n",
    "The $j$-row in $\\theta$ corresponds to the parameter vector $\\theta^j$ for the $j$-th user."
   ]
  },
  {
   "cell_type": "code",
   "execution_count": 28,
   "id": "4e7b513b",
   "metadata": {},
   "outputs": [
    {
     "data": {
      "text/plain": [
       "dict_keys(['__header__', '__version__', '__globals__', 'X', 'Theta', 'num_users', 'num_movies', 'num_features'])"
      ]
     },
     "execution_count": 28,
     "metadata": {},
     "output_type": "execute_result"
    }
   ],
   "source": [
    "# Load pre-trained weights (X, Theta, num_users, num_movies, num_features)\n",
    "data = loadmat('ex8_movieParams.mat')\n",
    "data.keys()"
   ]
  },
  {
   "cell_type": "code",
   "execution_count": 38,
   "id": "daed0c23",
   "metadata": {},
   "outputs": [],
   "source": [
    "# parDef[0] = num_users\n",
    "# parDef[1] = num_movies\n",
    "# parDef[2] = num_features\n",
    "parDef = np.array([4, 5, 3])\n",
    "\n",
    "X= data['X'][:parDef[1],:parDef[2]]\n",
    "Theta = data['Theta'][:parDef[0],:parDef[2]]\n",
    "Y = Y[:parDef[1],:parDef[0]]\n",
    "R = R[:parDef[1],:parDef[0]]"
   ]
  },
  {
   "cell_type": "code",
   "execution_count": 39,
   "id": "2c5fb548",
   "metadata": {},
   "outputs": [
    {
     "name": "stdout",
     "output_type": "stream",
     "text": [
      "Cost at loaded parameters: 22.22 \n",
      "(this value should be 22.22)\n"
     ]
    }
   ],
   "source": [
    "cf = CollabFiltering(parDef)\n",
    "params = np.concatenate((cf._RollTo1D(X), cf._RollTo1D(Theta)), axis=0)\n",
    "lmbd = 0\n",
    "J, grad = cf._CostFunction(params, parDef, R, Y, lmbd)\n",
    "\n",
    "print('Cost at loaded parameters: %.2f \\n(this value should be 22.22)'%J)"
   ]
  },
  {
   "cell_type": "code",
   "execution_count": 40,
   "id": "5750056a",
   "metadata": {},
   "outputs": [
    {
     "name": "stdout",
     "output_type": "stream",
     "text": [
      "Cost at loaded parameters: 31.34 \n",
      "(this value should be 31.34)\n"
     ]
    }
   ],
   "source": [
    "lmbd = 1.5\n",
    "J, grad = cf._CostFunction(params, parDef, R, Y, lmbd)\n",
    "\n",
    "print('Cost at loaded parameters: %.2f \\n(this value should be 31.34)'%J)"
   ]
  },
  {
   "cell_type": "markdown",
   "id": "3063abc3",
   "metadata": {},
   "source": [
    "### Coursera's testing scenarios"
   ]
  },
  {
   "cell_type": "code",
   "execution_count": 8,
   "id": "8e54e730",
   "metadata": {},
   "outputs": [],
   "source": [
    "params = np.arange(1,15)/10\n",
    "Y = magic(4)\n",
    "Y = Y[:, 0:3]\n",
    "R = np.array([[1, 0, 1], [1, 1, 1], [0, 0, 1], [1, 1, 0]])\n",
    "parDef = np.array([3, 4, 2])\n",
    "lmbd = 6"
   ]
  },
  {
   "cell_type": "code",
   "execution_count": 9,
   "id": "0cadebdb",
   "metadata": {},
   "outputs": [
    {
     "data": {
      "text/plain": [
       "(342.07914999999997,\n",
       " array([-15.588, -22.344,  -3.359, -12.572, -18.438, -26.862,  -2.366,\n",
       "        -14.744,   1.977,  -1.028,   3.186,  -5.059,  -8.26 ,  -1.342]))"
      ]
     },
     "execution_count": 9,
     "metadata": {},
     "output_type": "execute_result"
    }
   ],
   "source": [
    "cf = CollabFiltering(parDef)\n",
    "cf._CostFunction(params, parDef, R, Y, lmbd)"
   ]
  },
  {
   "cell_type": "markdown",
   "id": "73ec7f17",
   "metadata": {},
   "source": [
    "## Load movies\n",
    "Here we'll run the algorithm on a list of 1682 movies. We load the list of movies in <code>movList</code>."
   ]
  },
  {
   "cell_type": "code",
   "execution_count": 10,
   "id": "12bec962",
   "metadata": {},
   "outputs": [],
   "source": [
    "# I set enconding utf8 to avoid and error recognising some characters\n",
    "fhand = open('movie_ids.txt', encoding=\"utf8\")\n",
    "\n",
    "# This one liner replaces the following two lines of code\n",
    "# for line in fhand:\n",
    "#   movList.append(line.split(\" \", 1)[1].replace(\"\\n\", \"\"))\n",
    "movList=[line.split(\" \", 1)[1].replace(\"\\n\", \"\") for line in fhand]"
   ]
  },
  {
   "cell_type": "code",
   "execution_count": 123,
   "id": "0e8611bc",
   "metadata": {},
   "outputs": [
    {
     "data": {
      "text/plain": [
       "1682"
      ]
     },
     "execution_count": 123,
     "metadata": {},
     "output_type": "execute_result"
    }
   ],
   "source": [
    "len(movList)"
   ]
  },
  {
   "cell_type": "markdown",
   "id": "37b31bf2",
   "metadata": {},
   "source": [
    "## Set my initial ratings\n",
    "Here we define an initial set of ratings for my own user. We start with a <code>my_ratings</code> array with all 0's and we set the value for rated movies. "
   ]
  },
  {
   "cell_type": "code",
   "execution_count": 13,
   "id": "f100e3fc",
   "metadata": {},
   "outputs": [],
   "source": [
    "my_ratings=np.zeros((len(movList),))\n",
    "my_ratings[0] = 4\n",
    "my_ratings[6] = 3\n",
    "my_ratings[11]= 5\n",
    "my_ratings[53] = 4\n",
    "my_ratings[63]= 5\n",
    "my_ratings[65]= 3\n",
    "my_ratings[68] = 5\n",
    "my_ratings[97] = 2\n",
    "my_ratings[182] = 4\n",
    "my_ratings[225] = 5\n",
    "my_ratings[354]= 5"
   ]
  },
  {
   "cell_type": "code",
   "execution_count": 14,
   "id": "fb2fa173",
   "metadata": {},
   "outputs": [
    {
     "name": "stdout",
     "output_type": "stream",
     "text": [
      "Rated 4 for Toy Story (1995)\n",
      "Rated 3 for Twelve Monkeys (1995)\n",
      "Rated 5 for Usual Suspects, The (1995)\n",
      "Rated 4 for Outbreak (1995)\n",
      "Rated 5 for Shawshank Redemption, The (1994)\n",
      "Rated 3 for While You Were Sleeping (1995)\n",
      "Rated 5 for Forrest Gump (1994)\n",
      "Rated 2 for Silence of the Lambs, The (1991)\n",
      "Rated 4 for Alien (1979)\n",
      "Rated 5 for Die Hard 2 (1990)\n",
      "Rated 5 for Sphere (1998)\n"
     ]
    },
    {
     "data": {
      "text/plain": [
       "[None, None, None, None, None, None, None, None, None, None, None]"
      ]
     },
     "execution_count": 14,
     "metadata": {},
     "output_type": "execute_result"
    }
   ],
   "source": [
    "[print(f'Rated {my_ratings[i]:.0f} for {movList[i]}') for i in range(len(movList)) if my_ratings[i] > 0]"
   ]
  },
  {
   "cell_type": "markdown",
   "id": "56829122",
   "metadata": {},
   "source": [
    "## Learning the movie Ratings"
   ]
  },
  {
   "cell_type": "code",
   "execution_count": 78,
   "id": "0922e3c2",
   "metadata": {},
   "outputs": [],
   "source": [
    "# Loading all data on a dictonary\n",
    "data = loadmat('ex8_movies.mat')\n",
    "\n",
    "Y=data['Y']\n",
    "R=data['R']"
   ]
  },
  {
   "cell_type": "code",
   "execution_count": 81,
   "id": "94f60fa1",
   "metadata": {},
   "outputs": [],
   "source": [
    "# Adding my ratings\n",
    "Y = np.column_stack((my_ratings, Y))\n",
    "R = np.column_stack((np.where(my_ratings !=0, 1,0), R))\n",
    "\n",
    "# parDef[0] = num_users\n",
    "parDef[0] = Y.shape[1]\n",
    "# parDef[1] = num_movies\n",
    "parDef[1] = Y.shape[0]\n",
    "# parDef[2] = num_features\n",
    "parDef[2] = 10\n",
    "\n",
    "Ynorm, Ymean = normalizeRatings(Y, R)"
   ]
  },
  {
   "cell_type": "code",
   "execution_count": 26,
   "id": "a4a284ca",
   "metadata": {},
   "outputs": [
    {
     "data": {
      "text/plain": [
       "<__main__.CollabFiltering at 0x1957d84b3a0>"
      ]
     },
     "execution_count": 26,
     "metadata": {},
     "output_type": "execute_result"
    }
   ],
   "source": [
    "epochs=100\n",
    "lmbd = 10\n",
    "\n",
    "cf = CollabFiltering(parDef, epochs, lmbd)\n",
    "cf.fit(R, Ynorm)"
   ]
  },
  {
   "cell_type": "code",
   "execution_count": 27,
   "id": "777eec67",
   "metadata": {},
   "outputs": [
    {
     "data": {
      "text/plain": [
       "39932.11132373622"
      ]
     },
     "execution_count": 27,
     "metadata": {},
     "output_type": "execute_result"
    }
   ],
   "source": [
    "cf.cost"
   ]
  },
  {
   "cell_type": "code",
   "execution_count": 32,
   "id": "2ab1ddff",
   "metadata": {},
   "outputs": [
    {
     "data": {
      "text/plain": [
       "(944, 10)"
      ]
     },
     "execution_count": 32,
     "metadata": {},
     "output_type": "execute_result"
    }
   ],
   "source": [
    "# The Theta array contains for each user j (rows) the theta weight for each of the X parameters\n",
    "cf.Theta.shape"
   ]
  },
  {
   "cell_type": "code",
   "execution_count": 33,
   "id": "ff3f9814",
   "metadata": {},
   "outputs": [
    {
     "data": {
      "text/plain": [
       "(1682, 10)"
      ]
     },
     "execution_count": 33,
     "metadata": {},
     "output_type": "execute_result"
    }
   ],
   "source": [
    "# The X array contains for each movie i (rows) the X parameters that \"define\" the movie\n",
    "cf.X.shape"
   ]
  },
  {
   "cell_type": "markdown",
   "id": "7c6b3d6d",
   "metadata": {},
   "source": [
    "### Low rank matrix factorization"
   ]
  },
  {
   "cell_type": "code",
   "execution_count": 34,
   "id": "d1623725",
   "metadata": {},
   "outputs": [],
   "source": [
    "my_predictions = np.dot(cf.X, cf.Theta.T)[:, 0] + Ymean.reshape(-1)"
   ]
  },
  {
   "cell_type": "code",
   "execution_count": 37,
   "id": "185eef50",
   "metadata": {},
   "outputs": [],
   "source": [
    "# getting the indexes sorting from lower to higher\n",
    "ix = np.argsort(my_predictions)\n"
   ]
  },
  {
   "cell_type": "code",
   "execution_count": 38,
   "id": "2b3c0aee",
   "metadata": {},
   "outputs": [
    {
     "name": "stdout",
     "output_type": "stream",
     "text": [
      "Predicting 5.00 for Santa with Muscles (1996).\n",
      "Predicting 5.00 for Someone Else's America (1995).\n",
      "Predicting 5.00 for Marlene Dietrich: Shadow and Light (1996) .\n",
      "Predicting 5.00 for Entertaining Angels: The Dorothy Day Story (1996).\n",
      "Predicting 5.00 for They Made Me a Criminal (1939).\n",
      "Predicting 5.00 for Star Kid (1997).\n",
      "Predicting 5.00 for Saint of Fort Washington, The (1993).\n",
      "Predicting 5.00 for Prefontaine (1997).\n",
      "Predicting 5.00 for Aiqing wansui (1994).\n",
      "Predicting 5.00 for Great Day in Harlem, A (1994).\n"
     ]
    }
   ],
   "source": [
    "for i in reversed(range(len(ix)-10,len(ix))):\n",
    "        print(f'Predicting {my_predictions[ix[i]]:.2f} for {movList[ix[i]]}.')"
   ]
  },
  {
   "cell_type": "code",
   "execution_count": 54,
   "id": "4de9a2cd",
   "metadata": {},
   "outputs": [
    {
     "name": "stdout",
     "output_type": "stream",
     "text": [
      "Rated 4 for Toy Story (1995)\n",
      "Rated 3 for Twelve Monkeys (1995)\n",
      "Rated 5 for Usual Suspects, The (1995)\n",
      "Rated 4 for Outbreak (1995)\n",
      "Rated 5 for Shawshank Redemption, The (1994)\n",
      "Rated 3 for While You Were Sleeping (1995)\n",
      "Rated 5 for Forrest Gump (1994)\n",
      "Rated 2 for Silence of the Lambs, The (1991)\n",
      "Rated 4 for Alien (1979)\n",
      "Rated 5 for Die Hard 2 (1990)\n",
      "Rated 5 for Sphere (1998)\n"
     ]
    },
    {
     "data": {
      "text/plain": [
       "[None, None, None, None, None, None, None, None, None, None, None]"
      ]
     },
     "execution_count": 54,
     "metadata": {},
     "output_type": "execute_result"
    }
   ],
   "source": [
    "[print(f'Rated {my_ratings[i]:.0f} for {movList[i]}') for i in range(len(movList)) if my_ratings[i] > 0]"
   ]
  },
  {
   "cell_type": "code",
   "execution_count": 83,
   "id": "f8e9ab93",
   "metadata": {},
   "outputs": [
    {
     "name": "stdout",
     "output_type": "stream",
     "text": [
      "Predicting  3.97 for Toy Story (1995)\n",
      "Predicting  3.74 for Twelve Monkeys (1995)\n",
      "Predicting  4.43 for Usual Suspects, The (1995)\n",
      "Predicting  3.39 for Outbreak (1995)\n",
      "Predicting  4.57 for Shawshank Redemption, The (1994)\n",
      "Predicting  3.63 for While You Were Sleeping (1995)\n",
      "Predicting  4.08 for Forrest Gump (1994)\n",
      "Predicting  4.23 for Silence of the Lambs, The (1991)\n",
      "Predicting  4.05 for Alien (1979)\n",
      "Predicting  3.51 for Die Hard 2 (1990)\n",
      "Predicting  3.03 for Sphere (1998)\n"
     ]
    },
    {
     "data": {
      "text/plain": [
       "[None, None, None, None, None, None, None, None, None, None, None]"
      ]
     },
     "execution_count": 83,
     "metadata": {},
     "output_type": "execute_result"
    }
   ],
   "source": [
    "[print(f'Predicting  {my_predictions[i]:.2f} for {movList[i]}') for i in range(len(movList)) if my_ratings[i] > 0]"
   ]
  },
  {
   "cell_type": "code",
   "execution_count": null,
   "id": "3dd3c518",
   "metadata": {},
   "outputs": [],
   "source": []
  }
 ],
 "metadata": {
  "kernelspec": {
   "display_name": "Python 3 (ipykernel)",
   "language": "python",
   "name": "python3"
  },
  "language_info": {
   "codemirror_mode": {
    "name": "ipython",
    "version": 3
   },
   "file_extension": ".py",
   "mimetype": "text/x-python",
   "name": "python",
   "nbconvert_exporter": "python",
   "pygments_lexer": "ipython3",
   "version": "3.10.1"
  }
 },
 "nbformat": 4,
 "nbformat_minor": 5
}
